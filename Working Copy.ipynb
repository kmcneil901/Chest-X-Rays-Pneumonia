{
 "cells": [
  {
   "cell_type": "markdown",
   "metadata": {},
   "source": [
    "# Chest X-Ray Images (Pneumonia)"
   ]
  },
  {
   "cell_type": "markdown",
   "metadata": {},
   "source": [
    "Data found here: https://www.kaggle.com/datasets/paultimothymooney/chest-xray-pneumonia/\n",
    "\n",
    "There are 3 different sets: test, train, validation. Load in all of them. Start with the imports."
   ]
  },
  {
   "cell_type": "code",
   "execution_count": 507,
   "metadata": {},
   "outputs": [
    {
     "name": "stdout",
     "output_type": "stream",
     "text": [
      "The autoreload extension is already loaded. To reload it, use:\n",
      "  %reload_ext autoreload\n"
     ]
    }
   ],
   "source": [
    "import os\n",
    "import sys\n",
    "module_path = os.path.abspath(os.path.join(os.pardir, os.pardir))\n",
    "if module_path not in sys.path:\n",
    "    sys.path.append(module_path)\n",
    "    \n",
    "import pandas as pd\n",
    "import numpy as np\n",
    "import seaborn as sns\n",
    "import matplotlib.pyplot as plt\n",
    "import matplotlib.image as mpimg\n",
    "\n",
    "from sklearn.model_selection import train_test_split, cross_val_score\n",
    "from sklearn.datasets import load_digits, load_sample_images\n",
    "from sklearn.preprocessing import OneHotEncoder\n",
    "from sklearn.metrics import accuracy_score, confusion_matrix\n",
    "\n",
    "from keras.preprocessing.image import ImageDataGenerator, img_to_array, array_to_img, load_img\n",
    "from tensorflow.keras import datasets, layers, models, callbacks, regularizers\n",
    "from sklearn.metrics import confusion_matrix, classification_report, recall_score, ConfusionMatrixDisplay\n",
    "from keras.optimizers import SGD, Adam\n",
    "from keras.metrics import Recall, Precision\n",
    "\n",
    "%matplotlib inline\n",
    "%load_ext autoreload\n",
    "%autoreload 2"
   ]
  },
  {
   "cell_type": "code",
   "execution_count": 2,
   "metadata": {},
   "outputs": [],
   "source": [
    "# create directory paths to where the data is saved for each train, test, val\n",
    "train_path = 'Data/chest_xray/train'\n",
    "test_path = 'Data/chest_xray/test'\n",
    "val_path = 'Data/chest_xray/val'"
   ]
  },
  {
   "cell_type": "markdown",
   "metadata": {},
   "source": [
    "Before rescaling it, let's get an idea of the size of the original images. Let's load it in with no parameters set except for batch_size."
   ]
  },
  {
   "cell_type": "code",
   "execution_count": 3,
   "metadata": {},
   "outputs": [
    {
     "name": "stdout",
     "output_type": "stream",
     "text": [
      "Found 5216 images belonging to 2 classes.\n",
      "Found 624 images belonging to 2 classes.\n",
      "Found 16 images belonging to 2 classes.\n"
     ]
    }
   ],
   "source": [
    "original_train = ImageDataGenerator().flow_from_directory(train_path, batch_size=5216)\n",
    "original_test = ImageDataGenerator().flow_from_directory(test_path, batch_size=624)\n",
    "original_val = ImageDataGenerator().flow_from_directory(val_path, batch_size=16)\n",
    "\n",
    "original_train_images, original_train_labels = next(original_train)\n",
    "original_test_images, original_test_labels = next(original_test)\n",
    "original_val_images, original_val_labels = next(original_val)"
   ]
  },
  {
   "cell_type": "markdown",
   "metadata": {},
   "source": [
    "I want to know if each image in the images set are the same size. Let's create a list, loop through each image set, then take the set of it to get the unique entries. "
   ]
  },
  {
   "cell_type": "code",
   "execution_count": 4,
   "metadata": {},
   "outputs": [],
   "source": [
    "# loop through each images in the array and add the size to a list\n",
    "\n",
    "train_sizes = []\n",
    "test_sizes = []\n",
    "val_sizes = []\n",
    "\n",
    "for img in original_train_images:\n",
    "    size = np.array(array_to_img(img).size)\n",
    "    train_sizes.append(size)\n",
    "    \n",
    "for img in original_test_images:\n",
    "    size = np.array(array_to_img(img).size)\n",
    "    test_sizes.append(size)\n",
    "    \n",
    "for img in original_val_images:\n",
    "    size = np.array(array_to_img(img).size)\n",
    "    val_sizes.append(size)"
   ]
  },
  {
   "cell_type": "code",
   "execution_count": 5,
   "metadata": {},
   "outputs": [
    {
     "name": "stdout",
     "output_type": "stream",
     "text": [
      "original train size: [(256, 256)]\n",
      "original test size: [(256, 256)]\n",
      "original val size: [(256, 256)]\n"
     ]
    }
   ],
   "source": [
    "# how many unique sizes are in each list? should be the same for each pic\n",
    "# change the list of np arrays into a list of tuples, then take the \"set\" to get unique values\n",
    "\n",
    "unique_train_sizes = list(set([tuple(size) for size in train_sizes]))\n",
    "unique_test_sizes = list(set([tuple(size) for size in test_sizes]))\n",
    "unique_val_sizes = list(set([tuple(size) for size in val_sizes]))\n",
    "\n",
    "print(f\"original train size: {unique_train_sizes}\")\n",
    "print(f\"original test size: {unique_test_sizes}\")\n",
    "print(f\"original val size: {unique_val_sizes}\")"
   ]
  },
  {
   "cell_type": "markdown",
   "metadata": {},
   "source": [
    "So the original scale of all of the pictures was 256 x 256. "
   ]
  },
  {
   "cell_type": "markdown",
   "metadata": {},
   "source": [
    "Let's next visualize the distribution of images - how many are normal, how many are pneumonia."
   ]
  },
  {
   "cell_type": "code",
   "execution_count": 214,
   "metadata": {},
   "outputs": [],
   "source": [
    "normal_train_path = 'Data/chest_xray/train/normal'\n",
    "pneumonia_train_path = 'Data/chest_xray/train/pneumonia'"
   ]
  },
  {
   "cell_type": "code",
   "execution_count": 215,
   "metadata": {},
   "outputs": [
    {
     "name": "stdout",
     "output_type": "stream",
     "text": [
      "normal: 1342\n",
      "pneumonia: 3876\n"
     ]
    }
   ],
   "source": [
    "normal_count = len(os.listdir(normal_train_path))\n",
    "pneumonia_count = len(os.listdir(pneumonia_train_path))\n",
    "print(f'normal: {normal_count}')\n",
    "print(f'pneumonia: {pneumonia_count}')"
   ]
  },
  {
   "cell_type": "code",
   "execution_count": 223,
   "metadata": {},
   "outputs": [
    {
     "data": {
      "image/png": "[encoded data removed]",
      "text/plain": [
       "<Figure size 576x576 with 1 Axes>"
      ]
     },
     "metadata": {
      "needs_background": "light"
     },
     "output_type": "display_data"
    }
   ],
   "source": [
    "categories = ['Normal', 'Pneumonia']\n",
    "counts = [normal_count, pneumonia_count]\n",
    "\n",
    "fig, ax = plt.subplots(figsize=(8,8))\n",
    "plt.bar(categories, counts)\n",
    "plt.xlabel('Category')\n",
    "plt.ylabel('Number of Images')\n",
    "plt.title('Distribution of Images')\n",
    "\n",
    "# add counts to bars\n",
    "for rect in ax.patches:\n",
    "    y_value = rect.get_height()\n",
    "    x_value = rect.get_x() + rect.get_width() / 2\n",
    "    space = 1\n",
    "    label = \"{:.0f}\".format(y_value)\n",
    "    ax.annotate(label, (x_value, y_value), xytext=(0, space), textcoords=\"offset points\", ha='center', va='bottom')\n",
    "\n",
    "plt.show();"
   ]
  },
  {
   "cell_type": "markdown",
   "metadata": {},
   "source": [
    "So we have 1342 normal images and 3876 pneumonia images. "
   ]
  },
  {
   "cell_type": "markdown",
   "metadata": {},
   "source": [
    "Now that we have an idea of what we're working with, let's reload, scale to 64x64 and normalize. "
   ]
  },
  {
   "cell_type": "code",
   "execution_count": 6,
   "metadata": {},
   "outputs": [],
   "source": [
    "# notes from david\n",
    "# validation - use at very very end to test it\n",
    "# train on test, test against test, validation = holdout set\n",
    "\n",
    "# to do\n",
    "# check size of original images\n",
    "# change target, use sigmoid\n",
    "# change labels from [0,1] to either 0 or 1 since this is binary not multi class"
   ]
  },
  {
   "cell_type": "code",
   "execution_count": 7,
   "metadata": {},
   "outputs": [
    {
     "name": "stdout",
     "output_type": "stream",
     "text": [
      "train max: 255.0\n",
      "test max: 255.0\n",
      "val max: 255.0\n"
     ]
    }
   ],
   "source": [
    "# look at the max of each image for normalization\n",
    "print(f\"train max: {original_train_images[0].max()}\")\n",
    "print(f\"test max: {original_test_images[0].max()}\")\n",
    "print(f\"val max: {original_val_images[0].max()}\")"
   ]
  },
  {
   "cell_type": "code",
   "execution_count": 94,
   "metadata": {
    "scrolled": true
   },
   "outputs": [
    {
     "name": "stdout",
     "output_type": "stream",
     "text": [
      "Found 5216 images belonging to 2 classes.\n",
      "Found 624 images belonging to 2 classes.\n",
      "Found 16 images belonging to 2 classes.\n"
     ]
    }
   ],
   "source": [
    "# load in data\n",
    "# normalize with rescale = 1.0/255\n",
    "# resize each image to be 64x64\n",
    "\n",
    "train_generator = ImageDataGenerator(rescale=1.0/255).flow_from_directory(\n",
    "        train_path, \n",
    "        target_size=(64, 64), batch_size=5216) # look up how it impacts results on doc string\n",
    "\n",
    "test_generator = ImageDataGenerator(rescale=1.0/255).flow_from_directory(\n",
    "        test_path, \n",
    "        target_size=(64, 64), batch_size=624)\n",
    "\n",
    "val_generator = ImageDataGenerator(rescale=1.0/255).flow_from_directory(\n",
    "        val_path, \n",
    "        target_size=(64, 64), batch_size=16)\n",
    "\n",
    "# Create the datasets\n",
    "train_images, train_labels = next(train_generator)\n",
    "test_images, test_labels = next(test_generator)\n",
    "val_images, val_labels = next(val_generator)"
   ]
  },
  {
   "cell_type": "markdown",
   "metadata": {},
   "source": [
    "Check the size and a few images to make sure they loaded correctly. "
   ]
  },
  {
   "cell_type": "code",
   "execution_count": 95,
   "metadata": {},
   "outputs": [
    {
     "data": {
      "text/plain": [
       "(64, 64)"
      ]
     },
     "execution_count": 95,
     "metadata": {},
     "output_type": "execute_result"
    }
   ],
   "source": [
    "array_to_img(train_images[791]).size"
   ]
  },
  {
   "cell_type": "code",
   "execution_count": 96,
   "metadata": {},
   "outputs": [
    {
     "data": {
      "image/png": "[encoded data removed]",
      "text/plain": [
       "<PIL.Image.Image image mode=RGB size=64x64 at 0x260CF77FA60>"
      ]
     },
     "execution_count": 96,
     "metadata": {},
     "output_type": "execute_result"
    }
   ],
   "source": [
    "# check out some images to make sure they loaded properly\n",
    "array_to_img(train_images[791])"
   ]
  },
  {
   "cell_type": "code",
   "execution_count": 97,
   "metadata": {},
   "outputs": [
    {
     "data": {
      "image/png": "[encoded data removed]",
      "text/plain": [
       "<PIL.Image.Image image mode=RGB size=64x64 at 0x260CE51AFD0>"
      ]
     },
     "execution_count": 97,
     "metadata": {},
     "output_type": "execute_result"
    }
   ],
   "source": [
    "array_to_img(train_images[0])"
   ]
  },
  {
   "cell_type": "code",
   "execution_count": 98,
   "metadata": {},
   "outputs": [
    {
     "data": {
      "image/png": "[encoded data removed]",
      "text/plain": [
       "<PIL.Image.Image image mode=RGB size=64x64 at 0x260CF7CCC10>"
      ]
     },
     "execution_count": 98,
     "metadata": {},
     "output_type": "execute_result"
    }
   ],
   "source": [
    "array_to_img(test_images[0])"
   ]
  },
  {
   "cell_type": "code",
   "execution_count": 99,
   "metadata": {},
   "outputs": [
    {
     "data": {
      "image/png": "[encoded data removed]",
      "text/plain": [
       "<PIL.Image.Image image mode=RGB size=64x64 at 0x260CF7D50A0>"
      ]
     },
     "execution_count": 99,
     "metadata": {},
     "output_type": "execute_result"
    }
   ],
   "source": [
    "array_to_img(val_images[0])"
   ]
  },
  {
   "cell_type": "markdown",
   "metadata": {},
   "source": [
    "Let's check out the shapes and make sure they all line up as expected. "
   ]
  },
  {
   "cell_type": "code",
   "execution_count": 224,
   "metadata": {},
   "outputs": [
    {
     "name": "stdout",
     "output_type": "stream",
     "text": [
      "train images: (5216, 64, 64, 3)\n",
      "train labels: (5216, 2)\n",
      "test images: (100, 64, 64, 3)\n",
      "test labels: (100, 2)\n",
      "val images: (16, 64, 64, 3)\n",
      "val labels: (16, 2)\n"
     ]
    }
   ],
   "source": [
    "# look at the shapes\n",
    "print(f\"train images: {train_images.shape}\")\n",
    "print(f\"train labels: {train_labels.shape}\")\n",
    "print(f\"test images: {test_images.shape}\")\n",
    "print(f\"test labels: {test_labels.shape}\")\n",
    "print(f\"val images: {val_images.shape}\")\n",
    "print(f\"val labels: {val_labels.shape}\")"
   ]
  },
  {
   "cell_type": "markdown",
   "metadata": {},
   "source": [
    "The labels each have shape (x, 2) implying it's multiclass. This is a binary classification (it's either pneumonia or normal) so we need to change the shape to be (x, 1). So change output from [0,1] or [1,0] to be either 0 or 1."
   ]
  },
  {
   "cell_type": "code",
   "execution_count": 101,
   "metadata": {},
   "outputs": [
    {
     "data": {
      "text/plain": [
       "{'NORMAL': 0, 'PNEUMONIA': 1}"
      ]
     },
     "execution_count": 101,
     "metadata": {},
     "output_type": "execute_result"
    }
   ],
   "source": [
    "# look at what each data set is classifying as normal vs pneumonia\n",
    "train_generator.class_indices"
   ]
  },
  {
   "cell_type": "code",
   "execution_count": 102,
   "metadata": {},
   "outputs": [
    {
     "data": {
      "text/plain": [
       "{'NORMAL': 0, 'PNEUMONIA': 1}"
      ]
     },
     "execution_count": 102,
     "metadata": {},
     "output_type": "execute_result"
    }
   ],
   "source": [
    "test_generator.class_indices"
   ]
  },
  {
   "cell_type": "code",
   "execution_count": 103,
   "metadata": {},
   "outputs": [
    {
     "data": {
      "text/plain": [
       "{'NORMAL': 0, 'PNEUMONIA': 1}"
      ]
     },
     "execution_count": 103,
     "metadata": {},
     "output_type": "execute_result"
    }
   ],
   "source": [
    "val_generator.class_indices"
   ]
  },
  {
   "cell_type": "markdown",
   "metadata": {},
   "source": [
    "Change the labels from multi to binary"
   ]
  },
  {
   "cell_type": "code",
   "execution_count": 18,
   "metadata": {},
   "outputs": [],
   "source": [
    "# there are 3875 pneumonia images and 1341 normal images\n",
    "# using T[0] targets the minority class (normal) as the positive class (class 1)\n",
    "# The models primary task becomes predicting the normal class, which is the minority class\n",
    "# prioritize recall - want to minimize number of missed pneumonia "
   ]
  },
  {
   "cell_type": "code",
   "execution_count": 104,
   "metadata": {},
   "outputs": [
    {
     "name": "stdout",
     "output_type": "stream",
     "text": [
      "train labels updated shape: (5216,)\n",
      "test labels updated shape: (624,)\n",
      "val labels updated shape: (16,)\n"
     ]
    }
   ],
   "source": [
    "# train_labels.T[0] selects the first row of the transposed matrix. Should correspond to normal.\n",
    "# train_labels.T[1] selects the second row of the transposed matrix. should correspond to pneumonia.\n",
    "# using train_labels.T[0] swaps the results. \n",
    "# so use train_labels.T[1]\n",
    "\n",
    "# it will always try to predict the \"1\" class - are we trying to predict pneumnoia or normal\n",
    "\n",
    "train_labels_final = train_labels.T[0]\n",
    "test_labels_final = test_labels.T[0]\n",
    "val_labels_final = val_labels.T[0]\n",
    "\n",
    "print(f\"train labels updated shape: {train_labels_final.shape}\")\n",
    "print(f\"test labels updated shape: {test_labels_final.shape}\")\n",
    "print(f\"val labels updated shape: {val_labels_final.shape}\")"
   ]
  },
  {
   "cell_type": "code",
   "execution_count": 105,
   "metadata": {},
   "outputs": [
    {
     "name": "stdout",
     "output_type": "stream",
     "text": [
      "original train labels shape: (5216, 2)\n",
      "updated train labels shape: (5216,)\n"
     ]
    }
   ],
   "source": [
    "print(f\"original train labels shape: {train_labels.shape}\")\n",
    "print(f\"updated train labels shape: {train_labels_final.shape}\")"
   ]
  },
  {
   "cell_type": "markdown",
   "metadata": {},
   "source": [
    "Check it out: visually inspect to see if these labels make sense."
   ]
  },
  {
   "cell_type": "code",
   "execution_count": 106,
   "metadata": {
    "scrolled": true
   },
   "outputs": [
    {
     "data": {
      "image/png": "[encoded data removed]",
      "text/plain": [
       "<PIL.Image.Image image mode=RGB size=64x64 at 0x260D06D6550>"
      ]
     },
     "execution_count": 106,
     "metadata": {},
     "output_type": "execute_result"
    }
   ],
   "source": [
    "array_to_img(train_images[241])"
   ]
  },
  {
   "cell_type": "code",
   "execution_count": 107,
   "metadata": {},
   "outputs": [
    {
     "data": {
      "text/plain": [
       "0.0"
      ]
     },
     "execution_count": 107,
     "metadata": {},
     "output_type": "execute_result"
    }
   ],
   "source": [
    "# class 0: this is \"normal\", looks like pneumonia\n",
    "train_labels_final[241]"
   ]
  },
  {
   "cell_type": "code",
   "execution_count": 108,
   "metadata": {},
   "outputs": [
    {
     "data": {
      "image/png": "[encoded data removed]",
      "text/plain": [
       "<PIL.Image.Image image mode=RGB size=64x64 at 0x260D06D6C10>"
      ]
     },
     "execution_count": 108,
     "metadata": {},
     "output_type": "execute_result"
    }
   ],
   "source": [
    "array_to_img(train_images[461])"
   ]
  },
  {
   "cell_type": "code",
   "execution_count": 109,
   "metadata": {},
   "outputs": [
    {
     "data": {
      "text/plain": [
       "0.0"
      ]
     },
     "execution_count": 109,
     "metadata": {},
     "output_type": "execute_result"
    }
   ],
   "source": [
    "# class 0: this is \"normal\", looks like pneumonia\n",
    "train_labels_final[461]"
   ]
  },
  {
   "cell_type": "code",
   "execution_count": 110,
   "metadata": {},
   "outputs": [
    {
     "data": {
      "image/png": "[encoded data removed]",
      "text/plain": [
       "<PIL.Image.Image image mode=RGB size=64x64 at 0x260D06D6D30>"
      ]
     },
     "execution_count": 110,
     "metadata": {},
     "output_type": "execute_result"
    }
   ],
   "source": [
    "array_to_img(train_images[11])"
   ]
  },
  {
   "cell_type": "code",
   "execution_count": 111,
   "metadata": {},
   "outputs": [
    {
     "data": {
      "text/plain": [
       "0.0"
      ]
     },
     "execution_count": 111,
     "metadata": {},
     "output_type": "execute_result"
    }
   ],
   "source": [
    "# class 0: this is \"normal\", looks like pneumonia\n",
    "train_labels_final[11]"
   ]
  },
  {
   "cell_type": "code",
   "execution_count": 112,
   "metadata": {},
   "outputs": [
    {
     "data": {
      "image/png": "[encoded data removed]",
      "text/plain": [
       "<PIL.Image.Image image mode=RGB size=64x64 at 0x260D0717490>"
      ]
     },
     "execution_count": 112,
     "metadata": {},
     "output_type": "execute_result"
    }
   ],
   "source": [
    "array_to_img(train_images[7])"
   ]
  },
  {
   "cell_type": "code",
   "execution_count": 113,
   "metadata": {},
   "outputs": [
    {
     "data": {
      "text/plain": [
       "0.0"
      ]
     },
     "execution_count": 113,
     "metadata": {},
     "output_type": "execute_result"
    }
   ],
   "source": [
    "# class 0: this is \"normal\", looks like pneumonia\n",
    "train_labels_final[7]"
   ]
  },
  {
   "cell_type": "code",
   "execution_count": 114,
   "metadata": {},
   "outputs": [
    {
     "data": {
      "image/png": "[encoded data removed]",
      "text/plain": [
       "<PIL.Image.Image image mode=RGB size=64x64 at 0x260D0717970>"
      ]
     },
     "execution_count": 114,
     "metadata": {},
     "output_type": "execute_result"
    }
   ],
   "source": [
    "array_to_img(train_images[89])"
   ]
  },
  {
   "cell_type": "code",
   "execution_count": 115,
   "metadata": {},
   "outputs": [
    {
     "data": {
      "text/plain": [
       "1.0"
      ]
     },
     "execution_count": 115,
     "metadata": {},
     "output_type": "execute_result"
    }
   ],
   "source": [
    "# class 1: this is \"pneumonia\", looks normal\n",
    "train_labels_final[89]"
   ]
  },
  {
   "cell_type": "code",
   "execution_count": 31,
   "metadata": {},
   "outputs": [],
   "source": [
    "# so switching them means that normal would become class 1 and pneumonia would be class 0. \n",
    "# labels might be switched - look into this"
   ]
  },
  {
   "cell_type": "code",
   "execution_count": 32,
   "metadata": {
    "scrolled": true
   },
   "outputs": [
    {
     "data": {
      "text/plain": [
       "{'NORMAL': 0, 'PNEUMONIA': 1}"
      ]
     },
     "execution_count": 32,
     "metadata": {},
     "output_type": "execute_result"
    }
   ],
   "source": [
    "train_generator.class_indices"
   ]
  },
  {
   "cell_type": "markdown",
   "metadata": {},
   "source": [
    "Base model: create a basic sequential model with 1 input layer, flatten it, and have a dense output layer. Using sigmoid as the output activation since this is a binary classification. "
   ]
  },
  {
   "cell_type": "code",
   "execution_count": 484,
   "metadata": {},
   "outputs": [
    {
     "data": {
      "text/plain": [
       "0.0    0.742906\n",
       "1.0    0.257094\n",
       "dtype: float64"
      ]
     },
     "execution_count": 484,
     "metadata": {},
     "output_type": "execute_result"
    }
   ],
   "source": [
    "# base: 75% class 0 and 25% class 1\n",
    "pd.Series(train_labels_final).value_counts(normalize=True)"
   ]
  },
  {
   "cell_type": "markdown",
   "metadata": {},
   "source": [
    "First base model:"
   ]
  },
  {
   "cell_type": "code",
   "execution_count": 33,
   "metadata": {},
   "outputs": [],
   "source": [
    "baseline_model = models.Sequential()\n",
    "baseline_model.add(layers.Conv2D(filters=32,\n",
    "                                 kernel_size=(3, 3),\n",
    "                                 activation='relu',\n",
    "                                 input_shape=(64, 64, 3)))\n",
    "\n",
    "baseline_model.add(layers.Flatten())\n",
    "baseline_model.add(layers.Dense(1, activation='sigmoid'))"
   ]
  },
  {
   "cell_type": "code",
   "execution_count": 34,
   "metadata": {},
   "outputs": [
    {
     "name": "stdout",
     "output_type": "stream",
     "text": [
      "Model: \"sequential\"\n",
      "_________________________________________________________________\n",
      "Layer (type)                 Output Shape              Param #   \n",
      "=================================================================\n",
      "conv2d (Conv2D)              (None, 62, 62, 32)        896       \n",
      "_________________________________________________________________\n",
      "flatten (Flatten)            (None, 123008)            0         \n",
      "_________________________________________________________________\n",
      "dense (Dense)                (None, 1)                 123009    \n",
      "=================================================================\n",
      "Total params: 123,905\n",
      "Trainable params: 123,905\n",
      "Non-trainable params: 0\n",
      "_________________________________________________________________\n"
     ]
    }
   ],
   "source": [
    "# look at the smmary\n",
    "baseline_model.summary()"
   ]
  },
  {
   "cell_type": "code",
   "execution_count": 35,
   "metadata": {},
   "outputs": [],
   "source": [
    "# compile it\n",
    "# using adam to start\n",
    "# binary_crossentropy because this is a binary classification\n",
    "baseline_model.compile(optimizer='adam',\n",
    "                       loss='binary_crossentropy',\n",
    "                       metrics=['accuracy'])"
   ]
  },
  {
   "cell_type": "code",
   "execution_count": 36,
   "metadata": {},
   "outputs": [
    {
     "name": "stdout",
     "output_type": "stream",
     "text": [
      "Epoch 1/25\n",
      "70/70 [==============================] - 4s 59ms/step - loss: 0.4789 - accuracy: 0.8361\n",
      "Epoch 2/25\n",
      "70/70 [==============================] - 4s 60ms/step - loss: 0.1396 - accuracy: 0.9509\n",
      "Epoch 3/25\n",
      "70/70 [==============================] - 4s 57ms/step - loss: 0.1013 - accuracy: 0.9651\n",
      "Epoch 4/25\n",
      "70/70 [==============================] - 4s 59ms/step - loss: 0.0870 - accuracy: 0.9693\n",
      "Epoch 5/25\n",
      "70/70 [==============================] - 5s 64ms/step - loss: 0.0703 - accuracy: 0.9768\n",
      "Epoch 6/25\n",
      "70/70 [==============================] - 5s 68ms/step - loss: 0.0642 - accuracy: 0.9783\n",
      "Epoch 7/25\n",
      "70/70 [==============================] - 5s 74ms/step - loss: 0.0457 - accuracy: 0.9870\n",
      "Epoch 8/25\n",
      "70/70 [==============================] - 5s 77ms/step - loss: 0.0391 - accuracy: 0.9870\n",
      "Epoch 9/25\n",
      "70/70 [==============================] - 5s 74ms/step - loss: 0.0318 - accuracy: 0.9919\n",
      "Epoch 10/25\n",
      "70/70 [==============================] - 5s 66ms/step - loss: 0.0312 - accuracy: 0.9918\n",
      "Epoch 11/25\n",
      "70/70 [==============================] - 5s 65ms/step - loss: 0.0265 - accuracy: 0.9939 0s - loss: 0.0269 - accuracy: 0.\n",
      "Epoch 12/25\n",
      "70/70 [==============================] - 4s 60ms/step - loss: 0.0192 - accuracy: 0.9981\n",
      "Epoch 13/25\n",
      "70/70 [==============================] - 4s 55ms/step - loss: 0.0156 - accuracy: 0.9988\n",
      "Epoch 14/25\n",
      "70/70 [==============================] - 4s 52ms/step - loss: 0.0135 - accuracy: 0.9990\n",
      "Epoch 15/25\n",
      "70/70 [==============================] - 5s 75ms/step - loss: 0.0116 - accuracy: 0.9992\n",
      "Epoch 16/25\n",
      "70/70 [==============================] - 4s 61ms/step - loss: 0.0098 - accuracy: 0.9992\n",
      "Epoch 17/25\n",
      "70/70 [==============================] - 7s 94ms/step - loss: 0.0099 - accuracy: 0.9998\n",
      "Epoch 18/25\n",
      "70/70 [==============================] - 5s 77ms/step - loss: 0.0062 - accuracy: 1.0000\n",
      "Epoch 19/25\n",
      "70/70 [==============================] - 6s 85ms/step - loss: 0.0056 - accuracy: 1.0000\n",
      "Epoch 20/25\n",
      "70/70 [==============================] - 6s 85ms/step - loss: 0.0045 - accuracy: 1.0000\n",
      "Epoch 21/25\n",
      "70/70 [==============================] - 7s 97ms/step - loss: 0.0039 - accuracy: 1.0000\n",
      "Epoch 22/25\n",
      "70/70 [==============================] - 7s 95ms/step - loss: 0.0039 - accuracy: 1.0000\n",
      "Epoch 23/25\n",
      "70/70 [==============================] - 6s 91ms/step - loss: 0.0031 - accuracy: 1.0000\n",
      "Epoch 24/25\n",
      "70/70 [==============================] - 6s 85ms/step - loss: 0.0029 - accuracy: 1.0000\n",
      "Epoch 25/25\n",
      "70/70 [==============================] - 5s 75ms/step - loss: 0.0027 - accuracy: 1.0000\n"
     ]
    }
   ],
   "source": [
    "# fit on the model\n",
    "baseline_results = baseline_model.fit(train_images, \n",
    "                                      train_labels_final, \n",
    "                                      epochs=25, \n",
    "                                      batch_size=75)"
   ]
  },
  {
   "cell_type": "code",
   "execution_count": 37,
   "metadata": {},
   "outputs": [
    {
     "name": "stdout",
     "output_type": "stream",
     "text": [
      "163/163 [==============================] - 2s 13ms/step - loss: 0.0022 - accuracy: 1.0000\n"
     ]
    }
   ],
   "source": [
    "# train scores\n",
    "train_loss, train_acc = baseline_model.evaluate(train_images, train_labels_final)"
   ]
  },
  {
   "cell_type": "code",
   "execution_count": 38,
   "metadata": {},
   "outputs": [
    {
     "name": "stdout",
     "output_type": "stream",
     "text": [
      "20/20 [==============================] - 0s 10ms/step - loss: 1.7055 - accuracy: 0.7308\n"
     ]
    }
   ],
   "source": [
    "# test scores\n",
    "test_loss, test_acc = baseline_model.evaluate(test_images, test_labels_final)"
   ]
  },
  {
   "cell_type": "markdown",
   "metadata": {},
   "source": [
    "Train accuracy is 1 and test is 74 - this model is super overfit. Trying again by adding some hidden layers. "
   ]
  },
  {
   "cell_type": "code",
   "execution_count": 39,
   "metadata": {},
   "outputs": [],
   "source": [
    "first_model = models.Sequential()\n",
    "first_model.add(layers.Conv2D(filters=32,\n",
    "                        kernel_size=(3, 3),\n",
    "                        activation='relu',\n",
    "                        input_shape=(64, 64, 3)))\n",
    "\n",
    "first_model.add(layers.MaxPooling2D(pool_size=(2, 2))) # add hidden layer\n",
    "first_model.add(layers.Conv2D(64, (3, 3), activation='relu')) # add hidden layer\n",
    "\n",
    "first_model.add(layers.Flatten())\n",
    "first_model.add(layers.Dense(1, activation='sigmoid'))"
   ]
  },
  {
   "cell_type": "code",
   "execution_count": 40,
   "metadata": {},
   "outputs": [
    {
     "name": "stdout",
     "output_type": "stream",
     "text": [
      "Model: \"sequential_1\"\n",
      "_________________________________________________________________\n",
      "Layer (type)                 Output Shape              Param #   \n",
      "=================================================================\n",
      "conv2d_1 (Conv2D)            (None, 62, 62, 32)        896       \n",
      "_________________________________________________________________\n",
      "max_pooling2d (MaxPooling2D) (None, 31, 31, 32)        0         \n",
      "_________________________________________________________________\n",
      "conv2d_2 (Conv2D)            (None, 29, 29, 64)        18496     \n",
      "_________________________________________________________________\n",
      "flatten_1 (Flatten)          (None, 53824)             0         \n",
      "_________________________________________________________________\n",
      "dense_1 (Dense)              (None, 1)                 53825     \n",
      "=================================================================\n",
      "Total params: 73,217\n",
      "Trainable params: 73,217\n",
      "Non-trainable params: 0\n",
      "_________________________________________________________________\n"
     ]
    }
   ],
   "source": [
    "first_model.summary()"
   ]
  },
  {
   "cell_type": "code",
   "execution_count": 41,
   "metadata": {},
   "outputs": [],
   "source": [
    "first_model.compile(optimizer='adam', \n",
    "              loss='binary_crossentropy',\n",
    "              metrics=['accuracy']) "
   ]
  },
  {
   "cell_type": "code",
   "execution_count": 42,
   "metadata": {},
   "outputs": [
    {
     "name": "stdout",
     "output_type": "stream",
     "text": [
      "Epoch 1/25\n",
      "70/70 [==============================] - 12s 165ms/step - loss: 0.3243 - accuracy: 0.8700\n",
      "Epoch 2/25\n",
      "70/70 [==============================] - 16s 223ms/step - loss: 0.1286 - accuracy: 0.9515\n",
      "Epoch 3/25\n",
      "70/70 [==============================] - 19s 273ms/step - loss: 0.1014 - accuracy: 0.9597\n",
      "Epoch 4/25\n",
      "70/70 [==============================] - 18s 260ms/step - loss: 0.0819 - accuracy: 0.9701\n",
      "Epoch 5/25\n",
      "70/70 [==============================] - 14s 200ms/step - loss: 0.0687 - accuracy: 0.9741s - loss: 0.0686 - accura\n",
      "Epoch 6/25\n",
      "70/70 [==============================] - 16s 230ms/step - loss: 0.0586 - accuracy: 0.9799\n",
      "Epoch 7/25\n",
      "70/70 [==============================] - 19s 269ms/step - loss: 0.0665 - accuracy: 0.9766\n",
      "Epoch 8/25\n",
      "70/70 [==============================] - 18s 254ms/step - loss: 0.0475 - accuracy: 0.9824\n",
      "Epoch 9/25\n",
      "70/70 [==============================] - 18s 252ms/step - loss: 0.0397 - accuracy: 0.9841\n",
      "Epoch 10/25\n",
      "70/70 [==============================] - 21s 297ms/step - loss: 0.0451 - accuracy: 0.9827\n",
      "Epoch 11/25\n",
      "70/70 [==============================] - 16s 234ms/step - loss: 0.0350 - accuracy: 0.9870\n",
      "Epoch 12/25\n",
      "70/70 [==============================] - 18s 258ms/step - loss: 0.0273 - accuracy: 0.9908\n",
      "Epoch 13/25\n",
      "70/70 [==============================] - 19s 272ms/step - loss: 0.0282 - accuracy: 0.9898\n",
      "Epoch 14/25\n",
      "70/70 [==============================] - 16s 222ms/step - loss: 0.0252 - accuracy: 0.9900\n",
      "Epoch 15/25\n",
      "70/70 [==============================] - 15s 214ms/step - loss: 0.0162 - accuracy: 0.9950\n",
      "Epoch 16/25\n",
      "70/70 [==============================] - 17s 238ms/step - loss: 0.0118 - accuracy: 0.9975\n",
      "Epoch 17/25\n",
      "70/70 [==============================] - 20s 290ms/step - loss: 0.0103 - accuracy: 0.9979\n",
      "Epoch 18/25\n",
      "70/70 [==============================] - 22s 320ms/step - loss: 0.0089 - accuracy: 0.9977\n",
      "Epoch 19/25\n",
      "70/70 [==============================] - 18s 258ms/step - loss: 0.0083 - accuracy: 0.9979\n",
      "Epoch 20/25\n",
      "70/70 [==============================] - 23s 329ms/step - loss: 0.0071 - accuracy: 0.9983\n",
      "Epoch 21/25\n",
      "70/70 [==============================] - 19s 278ms/step - loss: 0.0092 - accuracy: 0.9987\n",
      "Epoch 22/25\n",
      "70/70 [==============================] - 19s 268ms/step - loss: 0.0035 - accuracy: 0.9998\n",
      "Epoch 23/25\n",
      "70/70 [==============================] - 18s 260ms/step - loss: 0.0033 - accuracy: 0.9996\n",
      "Epoch 24/25\n",
      "70/70 [==============================] - 17s 248ms/step - loss: 0.0022 - accuracy: 1.0000\n",
      "Epoch 25/25\n",
      "70/70 [==============================] - 17s 244ms/step - loss: 0.0014 - accuracy: 1.0000\n"
     ]
    }
   ],
   "source": [
    "first_results = first_model.fit(train_images, train_labels_final, \n",
    "          epochs=25, \n",
    "          batch_size=75)"
   ]
  },
  {
   "cell_type": "code",
   "execution_count": 43,
   "metadata": {},
   "outputs": [
    {
     "name": "stdout",
     "output_type": "stream",
     "text": [
      "163/163 [==============================] - 5s 32ms/step - loss: 9.5492e-04 - accuracy: 1.0000\n"
     ]
    }
   ],
   "source": [
    "train_loss, train_acc = first_model.evaluate(train_images, train_labels_final)"
   ]
  },
  {
   "cell_type": "code",
   "execution_count": 44,
   "metadata": {},
   "outputs": [
    {
     "name": "stdout",
     "output_type": "stream",
     "text": [
      "20/20 [==============================] - 0s 24ms/step - loss: 2.3061 - accuracy: 0.7548\n"
     ]
    }
   ],
   "source": [
    "test_loss, test_acc = first_model.evaluate(test_images, test_labels_final)"
   ]
  },
  {
   "cell_type": "markdown",
   "metadata": {},
   "source": [
    "Slightly better test score at 75%, but as train score is still 1, this is still super overfit. Visualizing the accuracy below. "
   ]
  },
  {
   "cell_type": "code",
   "execution_count": 45,
   "metadata": {},
   "outputs": [
    {
     "data": {
      "image/png": "[encoded data removed]",
      "text/plain": [
       "<Figure size 720x360 with 2 Axes>"
      ]
     },
     "metadata": {
      "needs_background": "light"
     },
     "output_type": "display_data"
    }
   ],
   "source": [
    "fig, (ax1, ax2) = plt.subplots(1, 2, figsize=(10, 5))\n",
    "sns.lineplot(x=first_results.epoch, y=train_loss, ax=ax1, label='train_loss')\n",
    "sns.lineplot(x=first_results.epoch, y=train_acc, ax=ax2, label='train_accuracy')\n",
    "\n",
    "sns.lineplot(x=first_results.epoch, y=test_loss, ax=ax1, label='val_loss')\n",
    "sns.lineplot(x=first_results.epoch, y=test_acc, ax=ax2, label='val_accuracy');"
   ]
  },
  {
   "cell_type": "markdown",
   "metadata": {},
   "source": [
    "Making another model by adding more hidden layers:"
   ]
  },
  {
   "cell_type": "code",
   "execution_count": 46,
   "metadata": {},
   "outputs": [],
   "source": [
    "second_model = models.Sequential()\n",
    "second_model.add(layers.Conv2D(filters=32,\n",
    "                        kernel_size=(3, 3),\n",
    "                        activation='relu',\n",
    "                        input_shape=(64, 64, 3)))\n",
    "\n",
    "second_model.add(layers.MaxPooling2D(pool_size=(2, 2)))\n",
    "second_model.add(layers.Conv2D(64, (3, 3), activation='relu'))\n",
    "second_model.add(layers.MaxPooling2D((2, 2)))\n",
    "second_model.add(layers.Conv2D(64, (3, 3), activation='relu'))\n",
    "second_model.add(layers.Flatten())\n",
    "second_model.add(layers.Dense(1, activation='sigmoid'))"
   ]
  },
  {
   "cell_type": "code",
   "execution_count": 47,
   "metadata": {},
   "outputs": [
    {
     "name": "stdout",
     "output_type": "stream",
     "text": [
      "Model: \"sequential_2\"\n",
      "_________________________________________________________________\n",
      "Layer (type)                 Output Shape              Param #   \n",
      "=================================================================\n",
      "conv2d_3 (Conv2D)            (None, 62, 62, 32)        896       \n",
      "_________________________________________________________________\n",
      "max_pooling2d_1 (MaxPooling2 (None, 31, 31, 32)        0         \n",
      "_________________________________________________________________\n",
      "conv2d_4 (Conv2D)            (None, 29, 29, 64)        18496     \n",
      "_________________________________________________________________\n",
      "max_pooling2d_2 (MaxPooling2 (None, 14, 14, 64)        0         \n",
      "_________________________________________________________________\n",
      "conv2d_5 (Conv2D)            (None, 12, 12, 64)        36928     \n",
      "_________________________________________________________________\n",
      "flatten_2 (Flatten)          (None, 9216)              0         \n",
      "_________________________________________________________________\n",
      "dense_2 (Dense)              (None, 1)                 9217      \n",
      "=================================================================\n",
      "Total params: 65,537\n",
      "Trainable params: 65,537\n",
      "Non-trainable params: 0\n",
      "_________________________________________________________________\n"
     ]
    }
   ],
   "source": [
    "second_model.summary()"
   ]
  },
  {
   "cell_type": "code",
   "execution_count": 48,
   "metadata": {},
   "outputs": [],
   "source": [
    "second_model.compile(optimizer='adam', \n",
    "              loss='binary_crossentropy', \n",
    "              metrics=['accuracy'])"
   ]
  },
  {
   "cell_type": "code",
   "execution_count": 49,
   "metadata": {},
   "outputs": [
    {
     "name": "stdout",
     "output_type": "stream",
     "text": [
      "Epoch 1/25\n",
      "70/70 [==============================] - 21s 295ms/step - loss: 0.4047 - accuracy: 0.8248\n",
      "Epoch 2/25\n",
      "70/70 [==============================] - 19s 274ms/step - loss: 0.1496 - accuracy: 0.9421\n",
      "Epoch 3/25\n",
      "70/70 [==============================] - 21s 294ms/step - loss: 0.1135 - accuracy: 0.9572\n",
      "Epoch 4/25\n",
      "70/70 [==============================] - 18s 256ms/step - loss: 0.0994 - accuracy: 0.9599\n",
      "Epoch 5/25\n",
      "70/70 [==============================] - 18s 254ms/step - loss: 0.0798 - accuracy: 0.9689\n",
      "Epoch 6/25\n",
      "70/70 [==============================] - 18s 255ms/step - loss: 0.0762 - accuracy: 0.9734\n",
      "Epoch 7/25\n",
      "70/70 [==============================] - 18s 256ms/step - loss: 0.0628 - accuracy: 0.9772\n",
      "Epoch 8/25\n",
      "70/70 [==============================] - 18s 253ms/step - loss: 0.0589 - accuracy: 0.9757\n",
      "Epoch 9/25\n",
      "70/70 [==============================] - 18s 253ms/step - loss: 0.0556 - accuracy: 0.9795\n",
      "Epoch 10/25\n",
      "70/70 [==============================] - 18s 252ms/step - loss: 0.0485 - accuracy: 0.9820\n",
      "Epoch 11/25\n",
      "70/70 [==============================] - 18s 253ms/step - loss: 0.0503 - accuracy: 0.9806\n",
      "Epoch 12/25\n",
      "70/70 [==============================] - 17s 248ms/step - loss: 0.0510 - accuracy: 0.9810\n",
      "Epoch 13/25\n",
      "70/70 [==============================] - 18s 254ms/step - loss: 0.0448 - accuracy: 0.9845\n",
      "Epoch 14/25\n",
      "70/70 [==============================] - 18s 251ms/step - loss: 0.0373 - accuracy: 0.9862\n",
      "Epoch 15/25\n",
      "70/70 [==============================] - 18s 252ms/step - loss: 0.0346 - accuracy: 0.9875\n",
      "Epoch 16/25\n",
      "70/70 [==============================] - 18s 262ms/step - loss: 0.0309 - accuracy: 0.9889\n",
      "Epoch 17/25\n",
      "70/70 [==============================] - 18s 259ms/step - loss: 0.0309 - accuracy: 0.9873\n",
      "Epoch 18/25\n",
      "70/70 [==============================] - 18s 252ms/step - loss: 0.0294 - accuracy: 0.9898\n",
      "Epoch 19/25\n",
      "70/70 [==============================] - 20s 288ms/step - loss: 0.0200 - accuracy: 0.9931\n",
      "Epoch 20/25\n",
      "70/70 [==============================] - 19s 273ms/step - loss: 0.0175 - accuracy: 0.9944\n",
      "Epoch 21/25\n",
      "70/70 [==============================] - 24s 345ms/step - loss: 0.0215 - accuracy: 0.9929\n",
      "Epoch 22/25\n",
      "70/70 [==============================] - 21s 299ms/step - loss: 0.0176 - accuracy: 0.9939\n",
      "Epoch 23/25\n",
      "70/70 [==============================] - 20s 292ms/step - loss: 0.0171 - accuracy: 0.9944\n",
      "Epoch 24/25\n",
      "70/70 [==============================] - 20s 288ms/step - loss: 0.0106 - accuracy: 0.9967\n",
      "Epoch 25/25\n",
      "70/70 [==============================] - 32s 454ms/step - loss: 0.0122 - accuracy: 0.9958\n"
     ]
    }
   ],
   "source": [
    "second_results = second_model.fit(train_images, train_labels_final, epochs=25, batch_size=75)"
   ]
  },
  {
   "cell_type": "code",
   "execution_count": 50,
   "metadata": {},
   "outputs": [
    {
     "name": "stdout",
     "output_type": "stream",
     "text": [
      "163/163 [==============================] - 9s 56ms/step - loss: 0.0062 - accuracy: 0.9992\n"
     ]
    }
   ],
   "source": [
    "train_loss, train_acc = second_model.evaluate(train_images, train_labels_final)"
   ]
  },
  {
   "cell_type": "code",
   "execution_count": 51,
   "metadata": {},
   "outputs": [
    {
     "name": "stdout",
     "output_type": "stream",
     "text": [
      "20/20 [==============================] - 1s 29ms/step - loss: 1.3601 - accuracy: 0.7933\n"
     ]
    }
   ],
   "source": [
    "test_loss, test_acc = second_model.evaluate(test_images, test_labels_final)"
   ]
  },
  {
   "cell_type": "markdown",
   "metadata": {},
   "source": [
    "About the same, train score came down minutely, test score increased to 79. Still overfit, try adding regularization:"
   ]
  },
  {
   "cell_type": "code",
   "execution_count": 52,
   "metadata": {},
   "outputs": [],
   "source": [
    "# starting with adding just L2 regularizer, strength 0.01\n",
    "third_model = models.Sequential()\n",
    "third_model.add(layers.Conv2D(filters=32,\n",
    "                        kernel_size=(3, 3),\n",
    "                        activation='relu',\n",
    "                        input_shape=(64, 64, 3),\n",
    "                        kernel_regularizer=regularizers.l2(0.01)))\n",
    "\n",
    "third_model.add(layers.MaxPooling2D(pool_size=(2, 2)))\n",
    "third_model.add(layers.Conv2D(64, (3, 3), activation='relu', kernel_regularizer=regularizers.l2(0.01)))\n",
    "third_model.add(layers.MaxPooling2D((2, 2)))\n",
    "third_model.add(layers.Conv2D(64, (3, 3), activation='relu', kernel_regularizer=regularizers.l2(0.01)))\n",
    "third_model.add(layers.Flatten())\n",
    "third_model.add(layers.Dense(1, activation='sigmoid', kernel_regularizer=regularizers.l2(0.01)))"
   ]
  },
  {
   "cell_type": "code",
   "execution_count": 53,
   "metadata": {},
   "outputs": [
    {
     "name": "stdout",
     "output_type": "stream",
     "text": [
      "Model: \"sequential_3\"\n",
      "_________________________________________________________________\n",
      "Layer (type)                 Output Shape              Param #   \n",
      "=================================================================\n",
      "conv2d_6 (Conv2D)            (None, 62, 62, 32)        896       \n",
      "_________________________________________________________________\n",
      "max_pooling2d_3 (MaxPooling2 (None, 31, 31, 32)        0         \n",
      "_________________________________________________________________\n",
      "conv2d_7 (Conv2D)            (None, 29, 29, 64)        18496     \n",
      "_________________________________________________________________\n",
      "max_pooling2d_4 (MaxPooling2 (None, 14, 14, 64)        0         \n",
      "_________________________________________________________________\n",
      "conv2d_8 (Conv2D)            (None, 12, 12, 64)        36928     \n",
      "_________________________________________________________________\n",
      "flatten_3 (Flatten)          (None, 9216)              0         \n",
      "_________________________________________________________________\n",
      "dense_3 (Dense)              (None, 1)                 9217      \n",
      "=================================================================\n",
      "Total params: 65,537\n",
      "Trainable params: 65,537\n",
      "Non-trainable params: 0\n",
      "_________________________________________________________________\n"
     ]
    }
   ],
   "source": [
    "third_model.summary()"
   ]
  },
  {
   "cell_type": "code",
   "execution_count": 54,
   "metadata": {},
   "outputs": [],
   "source": [
    "third_model.compile(optimizer='adam', \n",
    "              loss='binary_crossentropy', \n",
    "              metrics=['accuracy'])"
   ]
  },
  {
   "cell_type": "code",
   "execution_count": 55,
   "metadata": {},
   "outputs": [
    {
     "name": "stdout",
     "output_type": "stream",
     "text": [
      "Epoch 1/25\n",
      "70/70 [==============================] - 19s 276ms/step - loss: 0.9157 - accuracy: 0.8100\n",
      "Epoch 2/25\n",
      "70/70 [==============================] - 20s 282ms/step - loss: 0.3496 - accuracy: 0.9254\n",
      "Epoch 3/25\n",
      "70/70 [==============================] - 21s 301ms/step - loss: 0.2755 - accuracy: 0.9400\n",
      "Epoch 4/25\n",
      "70/70 [==============================] - 22s 310ms/step - loss: 0.2457 - accuracy: 0.9457\n",
      "Epoch 5/25\n",
      "70/70 [==============================] - 26s 376ms/step - loss: 0.2223 - accuracy: 0.9532\n",
      "Epoch 6/25\n",
      "70/70 [==============================] - 26s 369ms/step - loss: 0.2197 - accuracy: 0.9496\n",
      "Epoch 7/25\n",
      "70/70 [==============================] - 20s 290ms/step - loss: 0.1926 - accuracy: 0.9551\n",
      "Epoch 8/25\n",
      "70/70 [==============================] - 19s 269ms/step - loss: 0.1880 - accuracy: 0.9565\n",
      "Epoch 9/25\n",
      "70/70 [==============================] - 21s 294ms/step - loss: 0.1801 - accuracy: 0.9592\n",
      "Epoch 10/25\n",
      "70/70 [==============================] - 9s 129ms/step - loss: 0.2155 - accuracy: 0.9410\n",
      "Epoch 11/25\n",
      "70/70 [==============================] - 9s 126ms/step - loss: 0.1864 - accuracy: 0.9546\n",
      "Epoch 12/25\n",
      "70/70 [==============================] - 10s 137ms/step - loss: 0.1742 - accuracy: 0.9574\n",
      "Epoch 13/25\n",
      "70/70 [==============================] - 9s 131ms/step - loss: 0.1715 - accuracy: 0.9615\n",
      "Epoch 14/25\n",
      "70/70 [==============================] - 9s 135ms/step - loss: 0.1768 - accuracy: 0.9580\n",
      "Epoch 15/25\n",
      "70/70 [==============================] - 9s 126ms/step - loss: 0.1763 - accuracy: 0.9574\n",
      "Epoch 16/25\n",
      "70/70 [==============================] - 14s 195ms/step - loss: 0.1680 - accuracy: 0.9628s - loss: 0.1686 \n",
      "Epoch 17/25\n",
      "70/70 [==============================] - 16s 223ms/step - loss: 0.1711 - accuracy: 0.9607\n",
      "Epoch 18/25\n",
      "70/70 [==============================] - 23s 323ms/step - loss: 0.1625 - accuracy: 0.9651\n",
      "Epoch 19/25\n",
      "70/70 [==============================] - 23s 325ms/step - loss: 0.1630 - accuracy: 0.9607\n",
      "Epoch 20/25\n",
      "70/70 [==============================] - 23s 333ms/step - loss: 0.1628 - accuracy: 0.9618\n",
      "Epoch 21/25\n",
      "70/70 [==============================] - 19s 276ms/step - loss: 0.1611 - accuracy: 0.9618\n",
      "Epoch 22/25\n",
      "70/70 [==============================] - 20s 282ms/step - loss: 0.1845 - accuracy: 0.9532\n",
      "Epoch 23/25\n",
      "70/70 [==============================] - 23s 323ms/step - loss: 0.1666 - accuracy: 0.9601\n",
      "Epoch 24/25\n",
      "70/70 [==============================] - 21s 298ms/step - loss: 0.1652 - accuracy: 0.9611\n",
      "Epoch 25/25\n",
      "70/70 [==============================] - 18s 251ms/step - loss: 0.1751 - accuracy: 0.9592\n"
     ]
    }
   ],
   "source": [
    "third_results = third_model.fit(train_images, train_labels_final, epochs=25, batch_size=75)"
   ]
  },
  {
   "cell_type": "code",
   "execution_count": 56,
   "metadata": {},
   "outputs": [
    {
     "name": "stdout",
     "output_type": "stream",
     "text": [
      "163/163 [==============================] - 7s 41ms/step - loss: 0.1567 - accuracy: 0.9684\n"
     ]
    }
   ],
   "source": [
    "train_loss, train_acc = third_model.evaluate(train_images, train_labels_final)"
   ]
  },
  {
   "cell_type": "code",
   "execution_count": 57,
   "metadata": {
    "scrolled": true
   },
   "outputs": [
    {
     "name": "stdout",
     "output_type": "stream",
     "text": [
      "20/20 [==============================] - 0s 22ms/step - loss: 0.7901 - accuracy: 0.7516\n"
     ]
    }
   ],
   "source": [
    "test_loss, test_acc = third_model.evaluate(test_images, test_labels_final)"
   ]
  },
  {
   "cell_type": "markdown",
   "metadata": {},
   "source": [
    "Train accuracy at 96 and test accuracy at 75. Trying adding dropout regularization. "
   ]
  },
  {
   "cell_type": "code",
   "execution_count": 58,
   "metadata": {},
   "outputs": [],
   "source": [
    "fourth_model = models.Sequential()\n",
    "fourth_model.add(layers.Conv2D(filters=32,\n",
    "                        kernel_size=(3, 3),\n",
    "                        activation='relu',\n",
    "                        input_shape=(64, 64, 3),\n",
    "                        kernel_regularizer=regularizers.l2(0.01)))\n",
    "\n",
    "fourth_model.add(layers.MaxPooling2D(pool_size=(2, 2)))\n",
    "fourth_model.add(layers.Dropout(0.8))\n",
    "fourth_model.add(layers.Conv2D(64, (3, 3), activation='relu', kernel_regularizer=regularizers.l2(0.01)))\n",
    "fourth_model.add(layers.Dropout(0.6))\n",
    "fourth_model.add(layers.MaxPooling2D((2, 2)))\n",
    "fourth_model.add(layers.Dropout(0.4))\n",
    "fourth_model.add(layers.Conv2D(64, (3, 3), activation='relu', kernel_regularizer=regularizers.l2(0.01)))\n",
    "fourth_model.add(layers.Dropout(0.2))\n",
    "fourth_model.add(layers.Flatten())\n",
    "fourth_model.add(layers.Dense(1, activation='sigmoid', kernel_regularizer=regularizers.l2(0.01)))"
   ]
  },
  {
   "cell_type": "code",
   "execution_count": 59,
   "metadata": {},
   "outputs": [
    {
     "name": "stdout",
     "output_type": "stream",
     "text": [
      "Model: \"sequential_4\"\n",
      "_________________________________________________________________\n",
      "Layer (type)                 Output Shape              Param #   \n",
      "=================================================================\n",
      "conv2d_9 (Conv2D)            (None, 62, 62, 32)        896       \n",
      "_________________________________________________________________\n",
      "max_pooling2d_5 (MaxPooling2 (None, 31, 31, 32)        0         \n",
      "_________________________________________________________________\n",
      "dropout (Dropout)            (None, 31, 31, 32)        0         \n",
      "_________________________________________________________________\n",
      "conv2d_10 (Conv2D)           (None, 29, 29, 64)        18496     \n",
      "_________________________________________________________________\n",
      "dropout_1 (Dropout)          (None, 29, 29, 64)        0         \n",
      "_________________________________________________________________\n",
      "max_pooling2d_6 (MaxPooling2 (None, 14, 14, 64)        0         \n",
      "_________________________________________________________________\n",
      "dropout_2 (Dropout)          (None, 14, 14, 64)        0         \n",
      "_________________________________________________________________\n",
      "conv2d_11 (Conv2D)           (None, 12, 12, 64)        36928     \n",
      "_________________________________________________________________\n",
      "dropout_3 (Dropout)          (None, 12, 12, 64)        0         \n",
      "_________________________________________________________________\n",
      "flatten_4 (Flatten)          (None, 9216)              0         \n",
      "_________________________________________________________________\n",
      "dense_4 (Dense)              (None, 1)                 9217      \n",
      "=================================================================\n",
      "Total params: 65,537\n",
      "Trainable params: 65,537\n",
      "Non-trainable params: 0\n",
      "_________________________________________________________________\n"
     ]
    }
   ],
   "source": [
    "fourth_model.summary()"
   ]
  },
  {
   "cell_type": "code",
   "execution_count": 60,
   "metadata": {},
   "outputs": [],
   "source": [
    "fourth_model.compile(optimizer='adam', \n",
    "              loss='binary_crossentropy', \n",
    "              metrics=['accuracy'])"
   ]
  },
  {
   "cell_type": "code",
   "execution_count": 61,
   "metadata": {},
   "outputs": [
    {
     "name": "stdout",
     "output_type": "stream",
     "text": [
      "Epoch 1/25\n",
      "70/70 [==============================] - 28s 406ms/step - loss: 1.3464 - accuracy: 0.7343\n",
      "Epoch 2/25\n",
      "70/70 [==============================] - 33s 465ms/step - loss: 0.6991 - accuracy: 0.8397\n",
      "Epoch 3/25\n",
      "70/70 [==============================] - 34s 484ms/step - loss: 0.4699 - accuracy: 0.8982\n",
      "Epoch 4/25\n",
      "70/70 [==============================] - 28s 395ms/step - loss: 0.3795 - accuracy: 0.9172\n",
      "Epoch 5/25\n",
      "70/70 [==============================] - 27s 385ms/step - loss: 0.3458 - accuracy: 0.9179\n",
      "Epoch 6/25\n",
      "70/70 [==============================] - 28s 404ms/step - loss: 0.3034 - accuracy: 0.9237\n",
      "Epoch 7/25\n",
      "70/70 [==============================] - 29s 419ms/step - loss: 0.2889 - accuracy: 0.9262\n",
      "Epoch 8/25\n",
      "70/70 [==============================] - 29s 415ms/step - loss: 0.2759 - accuracy: 0.9289\n",
      "Epoch 9/25\n",
      "70/70 [==============================] - 30s 431ms/step - loss: 0.2651 - accuracy: 0.9335\n",
      "Epoch 10/25\n",
      "70/70 [==============================] - 32s 459ms/step - loss: 0.2625 - accuracy: 0.9289\n",
      "Epoch 11/25\n",
      "70/70 [==============================] - 35s 495ms/step - loss: 0.2549 - accuracy: 0.9323\n",
      "Epoch 12/25\n",
      "70/70 [==============================] - 33s 477ms/step - loss: 0.2457 - accuracy: 0.9340\n",
      "Epoch 13/25\n",
      "70/70 [==============================] - 25s 362ms/step - loss: 0.2374 - accuracy: 0.9369\n",
      "Epoch 14/25\n",
      "70/70 [==============================] - 25s 363ms/step - loss: 0.2384 - accuracy: 0.9385\n",
      "Epoch 15/25\n",
      "70/70 [==============================] - 25s 359ms/step - loss: 0.2351 - accuracy: 0.9402\n",
      "Epoch 16/25\n",
      "70/70 [==============================] - 26s 376ms/step - loss: 0.2285 - accuracy: 0.9400\n",
      "Epoch 17/25\n",
      "70/70 [==============================] - 28s 404ms/step - loss: 0.2311 - accuracy: 0.9387\n",
      "Epoch 18/25\n",
      "70/70 [==============================] - 26s 367ms/step - loss: 0.2193 - accuracy: 0.9431\n",
      "Epoch 19/25\n",
      "70/70 [==============================] - 28s 403ms/step - loss: 0.2218 - accuracy: 0.9388\n",
      "Epoch 20/25\n",
      "70/70 [==============================] - 25s 359ms/step - loss: 0.2197 - accuracy: 0.9415\n",
      "Epoch 21/25\n",
      "70/70 [==============================] - 25s 350ms/step - loss: 0.2273 - accuracy: 0.9350\n",
      "Epoch 22/25\n",
      "70/70 [==============================] - 25s 354ms/step - loss: 0.2142 - accuracy: 0.9436\n",
      "Epoch 23/25\n",
      "70/70 [==============================] - 31s 449ms/step - loss: 0.2148 - accuracy: 0.9431\n",
      "Epoch 24/25\n",
      "70/70 [==============================] - 19s 271ms/step - loss: 0.2188 - accuracy: 0.9392\n",
      "Epoch 25/25\n",
      "70/70 [==============================] - 12s 176ms/step - loss: 0.2172 - accuracy: 0.9398\n"
     ]
    }
   ],
   "source": [
    "fourth_results = fourth_model.fit(train_images, train_labels_final, epochs=25, batch_size=75)"
   ]
  },
  {
   "cell_type": "code",
   "execution_count": 62,
   "metadata": {},
   "outputs": [
    {
     "name": "stdout",
     "output_type": "stream",
     "text": [
      "163/163 [==============================] - 3s 18ms/step - loss: 0.3522 - accuracy: 0.8451\n"
     ]
    }
   ],
   "source": [
    "train_loss, train_acc = fourth_model.evaluate(train_images, train_labels_final)"
   ]
  },
  {
   "cell_type": "code",
   "execution_count": 63,
   "metadata": {},
   "outputs": [
    {
     "name": "stdout",
     "output_type": "stream",
     "text": [
      "20/20 [==============================] - 0s 17ms/step - loss: 0.8807 - accuracy: 0.6410\n"
     ]
    }
   ],
   "source": [
    "test_loss, test_acc = fourth_model.evaluate(test_images, test_labels_final)"
   ]
  },
  {
   "cell_type": "code",
   "execution_count": 64,
   "metadata": {},
   "outputs": [
    {
     "data": {
      "image/png": "[encoded data removed]",
      "text/plain": [
       "<Figure size 720x360 with 2 Axes>"
      ]
     },
     "metadata": {
      "needs_background": "light"
     },
     "output_type": "display_data"
    }
   ],
   "source": [
    "fig, (ax1, ax2) = plt.subplots(1, 2, figsize=(10, 5))\n",
    "sns.lineplot(x=fourth_results.epoch, y=train_loss, ax=ax1, label='train_loss')\n",
    "sns.lineplot(x=fourth_results.epoch, y=train_acc, ax=ax2, label='train_accuracy')\n",
    "\n",
    "sns.lineplot(x=fourth_results.epoch, y=test_loss, ax=ax1, label='val_loss')\n",
    "sns.lineplot(x=fourth_results.epoch, y=test_acc, ax=ax2, label='val_accuracy');"
   ]
  },
  {
   "cell_type": "markdown",
   "metadata": {},
   "source": [
    "Still overfit. Train accuracy is a little better at 85, but test score is worse at 64. Let's try changing the activation functions to tanh."
   ]
  },
  {
   "cell_type": "code",
   "execution_count": 66,
   "metadata": {},
   "outputs": [],
   "source": [
    "fifth_model = models.Sequential()\n",
    "fifth_model.add(layers.Conv2D(filters=32,\n",
    "                        kernel_size=(3, 3),\n",
    "                        activation='tanh',\n",
    "                        input_shape=(64, 64, 3),\n",
    "                        kernel_regularizer=regularizers.l2(0.01)))\n",
    "\n",
    "fifth_model.add(layers.MaxPooling2D(pool_size=(2, 2)))\n",
    "fifth_model.add(layers.Dropout(0.8))\n",
    "fifth_model.add(layers.Conv2D(64, (3, 3), activation='tanh', kernel_regularizer=regularizers.l2(0.01)))\n",
    "fifth_model.add(layers.Dropout(0.2))\n",
    "fifth_model.add(layers.Flatten())\n",
    "fifth_model.add(layers.Dense(1, activation='sigmoid', kernel_regularizer=regularizers.l2(0.01)))"
   ]
  },
  {
   "cell_type": "code",
   "execution_count": 67,
   "metadata": {},
   "outputs": [
    {
     "name": "stdout",
     "output_type": "stream",
     "text": [
      "Model: \"sequential_5\"\n",
      "_________________________________________________________________\n",
      "Layer (type)                 Output Shape              Param #   \n",
      "=================================================================\n",
      "conv2d_12 (Conv2D)           (None, 62, 62, 32)        896       \n",
      "_________________________________________________________________\n",
      "max_pooling2d_7 (MaxPooling2 (None, 31, 31, 32)        0         \n",
      "_________________________________________________________________\n",
      "dropout_4 (Dropout)          (None, 31, 31, 32)        0         \n",
      "_________________________________________________________________\n",
      "conv2d_13 (Conv2D)           (None, 29, 29, 64)        18496     \n",
      "_________________________________________________________________\n",
      "dropout_5 (Dropout)          (None, 29, 29, 64)        0         \n",
      "_________________________________________________________________\n",
      "flatten_5 (Flatten)          (None, 53824)             0         \n",
      "_________________________________________________________________\n",
      "dense_5 (Dense)              (None, 1)                 53825     \n",
      "=================================================================\n",
      "Total params: 73,217\n",
      "Trainable params: 73,217\n",
      "Non-trainable params: 0\n",
      "_________________________________________________________________\n"
     ]
    }
   ],
   "source": [
    "fifth_model.summary()"
   ]
  },
  {
   "cell_type": "code",
   "execution_count": 68,
   "metadata": {},
   "outputs": [],
   "source": [
    "fifth_model.compile(optimizer='adam', \n",
    "              loss='binary_crossentropy', \n",
    "              metrics=['accuracy'])"
   ]
  },
  {
   "cell_type": "code",
   "execution_count": 69,
   "metadata": {
    "scrolled": false
   },
   "outputs": [
    {
     "name": "stdout",
     "output_type": "stream",
     "text": [
      "Epoch 1/25\n",
      "70/70 [==============================] - 11s 156ms/step - loss: 0.9053 - accuracy: 0.8044\n",
      "Epoch 2/25\n",
      "70/70 [==============================] - 12s 165ms/step - loss: 0.5656 - accuracy: 0.9185\n",
      "Epoch 3/25\n",
      "70/70 [==============================] - 11s 163ms/step - loss: 0.4409 - accuracy: 0.9377\n",
      "Epoch 4/25\n",
      "70/70 [==============================] - 12s 165ms/step - loss: 0.3640 - accuracy: 0.9456\n",
      "Epoch 5/25\n",
      "70/70 [==============================] - 11s 161ms/step - loss: 0.3227 - accuracy: 0.9479\n",
      "Epoch 6/25\n",
      "70/70 [==============================] - 12s 168ms/step - loss: 0.2851 - accuracy: 0.9540\n",
      "Epoch 7/25\n",
      "70/70 [==============================] - 11s 154ms/step - loss: 0.2657 - accuracy: 0.9511\n",
      "Epoch 8/25\n",
      "70/70 [==============================] - 11s 157ms/step - loss: 0.2647 - accuracy: 0.9448\n",
      "Epoch 9/25\n",
      "70/70 [==============================] - 12s 175ms/step - loss: 0.2479 - accuracy: 0.9488\n",
      "Epoch 10/25\n",
      "70/70 [==============================] - 17s 236ms/step - loss: 0.2326 - accuracy: 0.9526\n",
      "Epoch 11/25\n",
      "70/70 [==============================] - 20s 285ms/step - loss: 0.2230 - accuracy: 0.9557\n",
      "Epoch 12/25\n",
      "70/70 [==============================] - 22s 309ms/step - loss: 0.2148 - accuracy: 0.9559\n",
      "Epoch 13/25\n",
      "70/70 [==============================] - 21s 305ms/step - loss: 0.2316 - accuracy: 0.9475\n",
      "Epoch 14/25\n",
      "70/70 [==============================] - 21s 302ms/step - loss: 0.2244 - accuracy: 0.9496\n",
      "Epoch 15/25\n",
      "70/70 [==============================] - 24s 344ms/step - loss: 0.2136 - accuracy: 0.9548\n",
      "Epoch 16/25\n",
      "70/70 [==============================] - 21s 298ms/step - loss: 0.2051 - accuracy: 0.9590\n",
      "Epoch 17/25\n",
      "70/70 [==============================] - 10s 150ms/step - loss: 0.2059 - accuracy: 0.9526\n",
      "Epoch 18/25\n",
      "70/70 [==============================] - 10s 144ms/step - loss: 0.2013 - accuracy: 0.9576\n",
      "Epoch 19/25\n",
      "70/70 [==============================] - 10s 142ms/step - loss: 0.2230 - accuracy: 0.9463\n",
      "Epoch 20/25\n",
      "70/70 [==============================] - 10s 147ms/step - loss: 0.2156 - accuracy: 0.9523\n",
      "Epoch 21/25\n",
      "70/70 [==============================] - 11s 154ms/step - loss: 0.1975 - accuracy: 0.9615\n",
      "Epoch 22/25\n",
      "70/70 [==============================] - 12s 167ms/step - loss: 0.2058 - accuracy: 0.9532\n",
      "Epoch 23/25\n",
      "70/70 [==============================] - 12s 168ms/step - loss: 0.2034 - accuracy: 0.9555\n",
      "Epoch 24/25\n",
      "70/70 [==============================] - 11s 162ms/step - loss: 0.1985 - accuracy: 0.9571\n",
      "Epoch 25/25\n",
      "70/70 [==============================] - 11s 158ms/step - loss: 0.2126 - accuracy: 0.9509\n"
     ]
    }
   ],
   "source": [
    "fifth_results = fifth_model.fit(train_images, train_labels_final, epochs=25, batch_size=75)"
   ]
  },
  {
   "cell_type": "code",
   "execution_count": 70,
   "metadata": {},
   "outputs": [
    {
     "name": "stdout",
     "output_type": "stream",
     "text": [
      "163/163 [==============================] - 3s 16ms/step - loss: 0.1970 - accuracy: 0.9561\n"
     ]
    }
   ],
   "source": [
    "train_loss, train_acc = fifth_model.evaluate(train_images, train_labels_final)"
   ]
  },
  {
   "cell_type": "code",
   "execution_count": 71,
   "metadata": {},
   "outputs": [
    {
     "name": "stdout",
     "output_type": "stream",
     "text": [
      "20/20 [==============================] - 0s 14ms/step - loss: 0.9017 - accuracy: 0.7147\n"
     ]
    }
   ],
   "source": [
    "test_loss, test_acc = fifth_model.evaluate(test_images, test_labels_final)"
   ]
  },
  {
   "cell_type": "code",
   "execution_count": 72,
   "metadata": {},
   "outputs": [
    {
     "data": {
      "image/png": "[encoded data removed]",
      "text/plain": [
       "<Figure size 720x360 with 2 Axes>"
      ]
     },
     "metadata": {
      "needs_background": "light"
     },
     "output_type": "display_data"
    }
   ],
   "source": [
    "fig, (ax1, ax2) = plt.subplots(1, 2, figsize=(10, 5))\n",
    "sns.lineplot(x=fifth_results.epoch, y=train_loss, ax=ax1, label='train_loss')\n",
    "sns.lineplot(x=fifth_results.epoch, y=train_acc, ax=ax2, label='train_accuracy')\n",
    "\n",
    "sns.lineplot(x=fifth_results.epoch, y=test_loss, ax=ax1, label='val_loss')\n",
    "sns.lineplot(x=fifth_results.epoch, y=test_acc, ax=ax2, label='val_accuracy');"
   ]
  },
  {
   "cell_type": "markdown",
   "metadata": {},
   "source": [
    "Didn't really change much. Let's try changing the optimizer from Adam to SGD. "
   ]
  },
  {
   "cell_type": "code",
   "execution_count": 73,
   "metadata": {},
   "outputs": [],
   "source": [
    "fifth_model.compile(optimizer='sgd', \n",
    "              loss='binary_crossentropy', \n",
    "              metrics=['accuracy'])"
   ]
  },
  {
   "cell_type": "code",
   "execution_count": 75,
   "metadata": {},
   "outputs": [
    {
     "name": "stdout",
     "output_type": "stream",
     "text": [
      "Epoch 1/25\n",
      "70/70 [==============================] - 18s 257ms/step - loss: 0.1943 - accuracy: 0.9580\n",
      "Epoch 2/25\n",
      "70/70 [==============================] - 15s 210ms/step - loss: 0.1911 - accuracy: 0.9638\n",
      "Epoch 3/25\n",
      "70/70 [==============================] - 15s 215ms/step - loss: 0.1866 - accuracy: 0.9615\n",
      "Epoch 4/25\n",
      "70/70 [==============================] - 15s 207ms/step - loss: 0.1863 - accuracy: 0.9617\n",
      "Epoch 5/25\n",
      "70/70 [==============================] - 14s 202ms/step - loss: 0.1853 - accuracy: 0.9609\n",
      "Epoch 6/25\n",
      "70/70 [==============================] - 17s 241ms/step - loss: 0.1839 - accuracy: 0.9601\n",
      "Epoch 7/25\n",
      "70/70 [==============================] - 14s 202ms/step - loss: 0.1862 - accuracy: 0.9617\n",
      "Epoch 8/25\n",
      "70/70 [==============================] - 14s 203ms/step - loss: 0.1841 - accuracy: 0.9609\n",
      "Epoch 9/25\n",
      "70/70 [==============================] - 14s 201ms/step - loss: 0.1811 - accuracy: 0.9622\n",
      "Epoch 10/25\n",
      "70/70 [==============================] - 14s 200ms/step - loss: 0.1787 - accuracy: 0.9638s - loss: 0.1777 - ac\n",
      "Epoch 11/25\n",
      "70/70 [==============================] - 15s 214ms/step - loss: 0.1788 - accuracy: 0.9643\n",
      "Epoch 12/25\n",
      "70/70 [==============================] - 19s 270ms/step - loss: 0.1803 - accuracy: 0.9624\n",
      "Epoch 13/25\n",
      "70/70 [==============================] - 21s 302ms/step - loss: 0.1765 - accuracy: 0.9624\n",
      "Epoch 14/25\n",
      "70/70 [==============================] - 23s 327ms/step - loss: 0.1787 - accuracy: 0.9624\n",
      "Epoch 15/25\n",
      "70/70 [==============================] - 21s 295ms/step - loss: 0.1767 - accuracy: 0.9601\n",
      "Epoch 16/25\n",
      "70/70 [==============================] - 20s 293ms/step - loss: 0.1762 - accuracy: 0.9620\n",
      "Epoch 17/25\n",
      "70/70 [==============================] - 21s 300ms/step - loss: 0.1763 - accuracy: 0.9624\n",
      "Epoch 18/25\n",
      "70/70 [==============================] - 25s 354ms/step - loss: 0.1787 - accuracy: 0.9594\n",
      "Epoch 19/25\n",
      "70/70 [==============================] - 26s 375ms/step - loss: 0.1742 - accuracy: 0.9626\n",
      "Epoch 20/25\n",
      "70/70 [==============================] - 24s 348ms/step - loss: 0.1730 - accuracy: 0.9613\n",
      "Epoch 21/25\n",
      "70/70 [==============================] - 23s 329ms/step - loss: 0.1735 - accuracy: 0.9605\n",
      "Epoch 22/25\n",
      "70/70 [==============================] - 25s 361ms/step - loss: 0.1729 - accuracy: 0.9624\n",
      "Epoch 23/25\n",
      "70/70 [==============================] - 22s 308ms/step - loss: 0.1754 - accuracy: 0.9595\n",
      "Epoch 24/25\n",
      "70/70 [==============================] - 23s 322ms/step - loss: 0.1710 - accuracy: 0.9620\n",
      "Epoch 25/25\n",
      "70/70 [==============================] - 21s 295ms/step - loss: 0.1751 - accuracy: 0.9605\n"
     ]
    }
   ],
   "source": [
    "fifth_results = fifth_model.fit(train_images, train_labels_final, epochs=25, batch_size=75)"
   ]
  },
  {
   "cell_type": "code",
   "execution_count": 76,
   "metadata": {},
   "outputs": [
    {
     "name": "stdout",
     "output_type": "stream",
     "text": [
      "163/163 [==============================] - 4s 27ms/step - loss: 0.1603 - accuracy: 0.9691\n"
     ]
    }
   ],
   "source": [
    "train_loss, train_acc = fifth_model.evaluate(train_images, train_labels_final)"
   ]
  },
  {
   "cell_type": "code",
   "execution_count": 77,
   "metadata": {},
   "outputs": [
    {
     "name": "stdout",
     "output_type": "stream",
     "text": [
      "20/20 [==============================] - 0s 18ms/step - loss: 0.7762 - accuracy: 0.7388\n"
     ]
    }
   ],
   "source": [
    "test_loss, test_acc = fifth_model.evaluate(test_images, test_labels_final)"
   ]
  },
  {
   "cell_type": "markdown",
   "metadata": {},
   "source": [
    "Not any better, trying nadam next. "
   ]
  },
  {
   "cell_type": "code",
   "execution_count": 78,
   "metadata": {},
   "outputs": [],
   "source": [
    "fifth_model.compile(optimizer='nadam', \n",
    "              loss='binary_crossentropy', \n",
    "              metrics=['accuracy'])"
   ]
  },
  {
   "cell_type": "code",
   "execution_count": 79,
   "metadata": {
    "scrolled": false
   },
   "outputs": [
    {
     "name": "stdout",
     "output_type": "stream",
     "text": [
      "Epoch 1/25\n",
      "70/70 [==============================] - 20s 282ms/step - loss: 0.2073 - accuracy: 0.9475\n",
      "Epoch 2/25\n",
      "70/70 [==============================] - 24s 344ms/step - loss: 0.1966 - accuracy: 0.9528\n",
      "Epoch 3/25\n",
      "70/70 [==============================] - 25s 355ms/step - loss: 0.2222 - accuracy: 0.9450\n",
      "Epoch 4/25\n",
      "70/70 [==============================] - 21s 296ms/step - loss: 0.1928 - accuracy: 0.9523\n",
      "Epoch 5/25\n",
      "70/70 [==============================] - 20s 290ms/step - loss: 0.1861 - accuracy: 0.9574\n",
      "Epoch 6/25\n",
      "70/70 [==============================] - 20s 290ms/step - loss: 0.1915 - accuracy: 0.9548\n",
      "Epoch 7/25\n",
      "70/70 [==============================] - 20s 293ms/step - loss: 0.1886 - accuracy: 0.9565\n",
      "Epoch 8/25\n",
      "70/70 [==============================] - 21s 303ms/step - loss: 0.1884 - accuracy: 0.9546\n",
      "Epoch 9/25\n",
      "70/70 [==============================] - 20s 291ms/step - loss: 0.1865 - accuracy: 0.9574\n",
      "Epoch 10/25\n",
      "70/70 [==============================] - 21s 293ms/step - loss: 0.1862 - accuracy: 0.9563\n",
      "Epoch 11/25\n",
      "70/70 [==============================] - 20s 291ms/step - loss: 0.1826 - accuracy: 0.9580\n",
      "Epoch 12/25\n",
      "70/70 [==============================] - 21s 307ms/step - loss: 0.1845 - accuracy: 0.9525\n",
      "Epoch 13/25\n",
      "70/70 [==============================] - 24s 343ms/step - loss: 0.1963 - accuracy: 0.9513\n",
      "Epoch 14/25\n",
      "70/70 [==============================] - 24s 348ms/step - loss: 3.6178 - accuracy: 0.8623\n",
      "Epoch 15/25\n",
      "70/70 [==============================] - 27s 383ms/step - loss: 0.4482 - accuracy: 0.9277\n",
      "Epoch 16/25\n",
      "70/70 [==============================] - 31s 441ms/step - loss: 0.3065 - accuracy: 0.9498\n",
      "Epoch 17/25\n",
      "70/70 [==============================] - 40s 573ms/step - loss: 0.2604 - accuracy: 0.9563\n",
      "Epoch 18/25\n",
      "70/70 [==============================] - 29s 409ms/step - loss: 0.2420 - accuracy: 0.9611\n",
      "Epoch 19/25\n",
      "70/70 [==============================] - 30s 426ms/step - loss: 0.2235 - accuracy: 0.9603\n",
      "Epoch 20/25\n",
      "70/70 [==============================] - 28s 406ms/step - loss: 0.2179 - accuracy: 0.9624\n",
      "Epoch 21/25\n",
      "70/70 [==============================] - 25s 362ms/step - loss: 0.2055 - accuracy: 0.9641\n",
      "Epoch 22/25\n",
      "70/70 [==============================] - 27s 381ms/step - loss: 0.1960 - accuracy: 0.9634\n",
      "Epoch 23/25\n",
      "70/70 [==============================] - 23s 335ms/step - loss: 0.1886 - accuracy: 0.9649\n",
      "Epoch 24/25\n",
      "70/70 [==============================] - 24s 348ms/step - loss: 0.1873 - accuracy: 0.9638\n",
      "Epoch 25/25\n",
      "70/70 [==============================] - 22s 321ms/step - loss: 0.1883 - accuracy: 0.9603\n"
     ]
    }
   ],
   "source": [
    "fifth_results = fifth_model.fit(train_images, train_labels_final, epochs=25, batch_size=75)"
   ]
  },
  {
   "cell_type": "code",
   "execution_count": 80,
   "metadata": {},
   "outputs": [
    {
     "name": "stdout",
     "output_type": "stream",
     "text": [
      "163/163 [==============================] - 5s 33ms/step - loss: 0.1768 - accuracy: 0.9628\n"
     ]
    }
   ],
   "source": [
    "train_loss, train_acc = fifth_model.evaluate(train_images, train_labels_final)"
   ]
  },
  {
   "cell_type": "code",
   "execution_count": 81,
   "metadata": {},
   "outputs": [
    {
     "name": "stdout",
     "output_type": "stream",
     "text": [
      "20/20 [==============================] - 0s 22ms/step - loss: 0.9329 - accuracy: 0.7099\n"
     ]
    }
   ],
   "source": [
    "test_loss, test_acc = fifth_model.evaluate(test_images, test_labels_final)"
   ]
  },
  {
   "cell_type": "markdown",
   "metadata": {},
   "source": [
    "Train score 96 test 71 - not any better than earlier models, a little bit worse actually. Sticking with adam optimizer. \n",
    "\n",
    "Let's try adding in the learning rate. Starting with strength 0.1"
   ]
  },
  {
   "cell_type": "code",
   "execution_count": 82,
   "metadata": {},
   "outputs": [],
   "source": [
    "fifth_model.compile(optimizer=Adam(lr=0.1), \n",
    "              loss='binary_crossentropy', \n",
    "              metrics=['accuracy'])"
   ]
  },
  {
   "cell_type": "code",
   "execution_count": 83,
   "metadata": {
    "scrolled": false
   },
   "outputs": [
    {
     "name": "stdout",
     "output_type": "stream",
     "text": [
      "Epoch 1/25\n",
      "70/70 [==============================] - 20s 289ms/step - loss: 413.9123 - accuracy: 0.6296\n",
      "Epoch 2/25\n",
      "70/70 [==============================] - 22s 312ms/step - loss: 465.2189 - accuracy: 0.6100\n",
      "Epoch 3/25\n",
      "70/70 [==============================] - 23s 322ms/step - loss: 258.7058 - accuracy: 0.6202\n",
      "Epoch 4/25\n",
      "70/70 [==============================] - 22s 315ms/step - loss: 310.9782 - accuracy: 0.6143\n",
      "Epoch 5/25\n",
      "70/70 [==============================] - 22s 315ms/step - loss: 395.4731 - accuracy: 0.6166\n",
      "Epoch 6/25\n",
      "70/70 [==============================] - 20s 281ms/step - loss: 442.4156 - accuracy: 0.6235\n",
      "Epoch 7/25\n",
      "70/70 [==============================] - 21s 304ms/step - loss: 275.4847 - accuracy: 0.6240\n",
      "Epoch 8/25\n",
      "70/70 [==============================] - 23s 329ms/step - loss: 160.5272 - accuracy: 0.6411\n",
      "Epoch 9/25\n",
      "70/70 [==============================] - 24s 340ms/step - loss: 134.8033 - accuracy: 0.6931\n",
      "Epoch 10/25\n",
      "70/70 [==============================] - 22s 311ms/step - loss: 112.9931 - accuracy: 0.7042\n",
      "Epoch 11/25\n",
      "70/70 [==============================] - 20s 291ms/step - loss: 86.2605 - accuracy: 0.7172\n",
      "Epoch 12/25\n",
      "70/70 [==============================] - 22s 308ms/step - loss: 64.1364 - accuracy: 0.7615\n",
      "Epoch 13/25\n",
      "70/70 [==============================] - 21s 299ms/step - loss: 57.3642 - accuracy: 0.7889\n",
      "Epoch 14/25\n",
      "70/70 [==============================] - 20s 285ms/step - loss: 75.5535 - accuracy: 0.7525\n",
      "Epoch 15/25\n",
      "70/70 [==============================] - 23s 333ms/step - loss: 113.9351 - accuracy: 0.7310\n",
      "Epoch 16/25\n",
      "70/70 [==============================] - 22s 318ms/step - loss: 65.0849 - accuracy: 0.8096\n",
      "Epoch 17/25\n",
      "70/70 [==============================] - 20s 292ms/step - loss: 45.9321 - accuracy: 0.8202\n",
      "Epoch 18/25\n",
      "70/70 [==============================] - 21s 298ms/step - loss: 62.0112 - accuracy: 0.7816\n",
      "Epoch 19/25\n",
      "70/70 [==============================] - 21s 304ms/step - loss: 58.6179 - accuracy: 0.8296\n",
      "Epoch 20/25\n",
      "70/70 [==============================] - 21s 298ms/step - loss: 37.3634 - accuracy: 0.8445\n",
      "Epoch 21/25\n",
      "70/70 [==============================] - 20s 281ms/step - loss: 53.1443 - accuracy: 0.8067\n",
      "Epoch 22/25\n",
      "70/70 [==============================] - 19s 272ms/step - loss: 60.9757 - accuracy: 0.8227\n",
      "Epoch 23/25\n",
      "70/70 [==============================] - 22s 320ms/step - loss: 54.3090 - accuracy: 0.8275\n",
      "Epoch 24/25\n",
      "70/70 [==============================] - 23s 326ms/step - loss: 135.3381 - accuracy: 0.7310\n",
      "Epoch 25/25\n",
      "70/70 [==============================] - 26s 371ms/step - loss: 116.3093 - accuracy: 0.8123\n"
     ]
    }
   ],
   "source": [
    "fifth_results = fifth_model.fit(train_images, train_labels_final, epochs=25, batch_size=75)"
   ]
  },
  {
   "cell_type": "code",
   "execution_count": 84,
   "metadata": {},
   "outputs": [
    {
     "name": "stdout",
     "output_type": "stream",
     "text": [
      "163/163 [==============================] - 7s 43ms/step - loss: 98.6009 - accuracy: 0.7655\n"
     ]
    }
   ],
   "source": [
    "train_loss, train_acc = fifth_model.evaluate(train_images, train_labels_final)"
   ]
  },
  {
   "cell_type": "code",
   "execution_count": 85,
   "metadata": {
    "scrolled": true
   },
   "outputs": [
    {
     "name": "stdout",
     "output_type": "stream",
     "text": [
      "20/20 [==============================] - 1s 26ms/step - loss: 91.9809 - accuracy: 0.7853\n"
     ]
    }
   ],
   "source": [
    "test_loss, test_acc = fifth_model.evaluate(test_images, test_labels_final)"
   ]
  },
  {
   "cell_type": "markdown",
   "metadata": {},
   "source": [
    "Train score at 77 and test score at 78 - this is performing okay, but for once it's not overfit!!"
   ]
  },
  {
   "cell_type": "markdown",
   "metadata": {},
   "source": [
    "Let's add more layers."
   ]
  },
  {
   "cell_type": "code",
   "execution_count": 86,
   "metadata": {},
   "outputs": [],
   "source": [
    "sixth_model = models.Sequential()\n",
    "sixth_model.add(layers.Dropout(.3, input_shape=(64,64,3)))\n",
    "sixth_model.add(layers.Conv2D(filters=32, kernel_size=(3,3), activation='tanh'))\n",
    "sixth_model.add(layers.Dropout(.3))\n",
    "sixth_model.add(layers.MaxPooling2D(pool_size=(2,2)))\n",
    "sixth_model.add(layers.Conv2D(64, (3, 3), activation='tanh'))\n",
    "sixth_model.add(layers.Dropout(.3))\n",
    "sixth_model.add(layers.Flatten())\n",
    "sixth_model.add(layers.Dense(1, activation='sigmoid'))"
   ]
  },
  {
   "cell_type": "code",
   "execution_count": 87,
   "metadata": {},
   "outputs": [],
   "source": [
    "sixth_model.compile(optimizer='adam', loss='binary_crossentropy', metrics=['accuracy'])"
   ]
  },
  {
   "cell_type": "code",
   "execution_count": 88,
   "metadata": {},
   "outputs": [
    {
     "name": "stdout",
     "output_type": "stream",
     "text": [
      "Epoch 1/20\n",
      "82/82 [==============================] - 27s 329ms/step - loss: 0.4926 - accuracy: 0.7995\n",
      "Epoch 2/20\n",
      "82/82 [==============================] - 33s 397ms/step - loss: 0.1838 - accuracy: 0.9291\n",
      "Epoch 3/20\n",
      "82/82 [==============================] - 26s 315ms/step - loss: 0.1525 - accuracy: 0.9438\n",
      "Epoch 4/20\n",
      "82/82 [==============================] - 28s 344ms/step - loss: 0.1317 - accuracy: 0.9486\n",
      "Epoch 5/20\n",
      "82/82 [==============================] - 27s 335ms/step - loss: 0.1200 - accuracy: 0.9549\n",
      "Epoch 6/20\n",
      "82/82 [==============================] - 36s 445ms/step - loss: 0.1279 - accuracy: 0.9515\n",
      "Epoch 7/20\n",
      "82/82 [==============================] - 27s 326ms/step - loss: 0.1104 - accuracy: 0.9574\n",
      "Epoch 8/20\n",
      "82/82 [==============================] - 33s 397ms/step - loss: 0.1145 - accuracy: 0.9538\n",
      "Epoch 9/20\n",
      "82/82 [==============================] - 28s 343ms/step - loss: 0.1056 - accuracy: 0.9613\n",
      "Epoch 10/20\n",
      "82/82 [==============================] - 33s 398ms/step - loss: 0.1175 - accuracy: 0.9546\n",
      "Epoch 11/20\n",
      "82/82 [==============================] - 31s 375ms/step - loss: 0.1042 - accuracy: 0.9594\n",
      "Epoch 12/20\n",
      "82/82 [==============================] - 29s 356ms/step - loss: 0.1035 - accuracy: 0.9620\n",
      "Epoch 13/20\n",
      "82/82 [==============================] - 33s 401ms/step - loss: 0.1001 - accuracy: 0.9622\n",
      "Epoch 14/20\n",
      "82/82 [==============================] - 28s 338ms/step - loss: 0.0979 - accuracy: 0.9655\n",
      "Epoch 15/20\n",
      "82/82 [==============================] - 27s 333ms/step - loss: 0.0898 - accuracy: 0.9678\n",
      "Epoch 16/20\n",
      "82/82 [==============================] - 35s 427ms/step - loss: 0.0902 - accuracy: 0.9643\n",
      "Epoch 17/20\n",
      "82/82 [==============================] - 32s 391ms/step - loss: 0.0990 - accuracy: 0.9636\n",
      "Epoch 18/20\n",
      "82/82 [==============================] - 30s 363ms/step - loss: 0.0867 - accuracy: 0.9666\n",
      "Epoch 19/20\n",
      "82/82 [==============================] - 26s 317ms/step - loss: 0.0839 - accuracy: 0.9691\n",
      "Epoch 20/20\n",
      "82/82 [==============================] - 27s 328ms/step - loss: 0.0916 - accuracy: 0.9643\n"
     ]
    }
   ],
   "source": [
    "sixth_results = sixth_model.fit(train_images,train_labels_final,epochs=20,batch_size=64)"
   ]
  },
  {
   "cell_type": "code",
   "execution_count": 90,
   "metadata": {},
   "outputs": [
    {
     "name": "stdout",
     "output_type": "stream",
     "text": [
      "163/163 [==============================] - 2s 14ms/step - loss: 0.2052 - accuracy: 0.9218\n"
     ]
    }
   ],
   "source": [
    "train_loss, train_acc = sixth_model.evaluate(train_images, train_labels_final)"
   ]
  },
  {
   "cell_type": "code",
   "execution_count": 91,
   "metadata": {},
   "outputs": [
    {
     "name": "stdout",
     "output_type": "stream",
     "text": [
      "20/20 [==============================] - 0s 13ms/step - loss: 0.7737 - accuracy: 0.7372\n"
     ]
    }
   ],
   "source": [
    "test_loss, test_acc = sixth_model.evaluate(test_images, test_labels_final)"
   ]
  },
  {
   "cell_type": "markdown",
   "metadata": {},
   "source": [
    "That didn't help. Let's try augmenting the data."
   ]
  },
  {
   "cell_type": "markdown",
   "metadata": {},
   "source": [
    "### Trying Data Augmentation"
   ]
  },
  {
   "cell_type": "markdown",
   "metadata": {},
   "source": [
    "Load in the data using ImageDataGenerator and flip it horizontally (vertically would flip it upside down). Just using it on the training data so we can generate more images to train our models on. Also changed the batch sizes. "
   ]
  },
  {
   "cell_type": "code",
   "execution_count": 116,
   "metadata": {},
   "outputs": [
    {
     "name": "stdout",
     "output_type": "stream",
     "text": [
      "Found 5216 images belonging to 2 classes.\n",
      "Found 624 images belonging to 2 classes.\n",
      "Found 16 images belonging to 2 classes.\n"
     ]
    }
   ],
   "source": [
    "# augment the train set to generate more images\n",
    "aug_train_generator = ImageDataGenerator(rescale=1.0/255,\n",
    "                                         horizontal_flip=True,\n",
    "                                         height_shift_range=0.2,\n",
    "                                         width_shift_range=0.2,\n",
    "                                         rotation_range=45,\n",
    "                                         brightness_range=[0.2,1],\n",
    "                                         zoom_range=0.2\n",
    "                                         ).flow_from_directory(train_path, target_size=(64, 64), batch_size=700) \n",
    "\n",
    "# keeping these the same as originally put in. Changed the batch sizes. \n",
    "test_generator = ImageDataGenerator(rescale=1.0/255).flow_from_directory(\n",
    "        test_path, \n",
    "        target_size=(64, 64), batch_size=100)\n",
    "\n",
    "val_generator = ImageDataGenerator(rescale=1.0/255).flow_from_directory(\n",
    "        val_path, \n",
    "        target_size=(64, 64), batch_size=16)\n",
    "\n",
    "# Create the datasets\n",
    "aug_train_images, aug_train_labels = next(aug_train_generator)\n",
    "test_images, test_labels = next(test_generator)\n",
    "val_images, val_labels = next(val_generator)"
   ]
  },
  {
   "cell_type": "markdown",
   "metadata": {},
   "source": [
    "Check out a few images."
   ]
  },
  {
   "cell_type": "code",
   "execution_count": 117,
   "metadata": {},
   "outputs": [
    {
     "data": {
      "text/plain": [
       "(64, 64)"
      ]
     },
     "execution_count": 117,
     "metadata": {},
     "output_type": "execute_result"
    }
   ],
   "source": [
    "array_to_img(aug_train_images[0]).size"
   ]
  },
  {
   "cell_type": "code",
   "execution_count": 118,
   "metadata": {},
   "outputs": [
    {
     "data": {
      "image/png": "[encoded data removed]",
      "text/plain": [
       "<PIL.Image.Image image mode=RGB size=64x64 at 0x260CDAA8F40>"
      ]
     },
     "execution_count": 118,
     "metadata": {},
     "output_type": "execute_result"
    }
   ],
   "source": [
    "array_to_img(aug_train_images[0])"
   ]
  },
  {
   "cell_type": "code",
   "execution_count": 119,
   "metadata": {},
   "outputs": [
    {
     "data": {
      "image/png": "[encoded data removed]",
      "text/plain": [
       "<PIL.Image.Image image mode=RGB size=64x64 at 0x260CF6D1790>"
      ]
     },
     "execution_count": 119,
     "metadata": {},
     "output_type": "execute_result"
    }
   ],
   "source": [
    "array_to_img(aug_train_images[9])"
   ]
  },
  {
   "cell_type": "code",
   "execution_count": 120,
   "metadata": {},
   "outputs": [
    {
     "data": {
      "image/png": "[encoded data removed]",
      "text/plain": [
       "<PIL.Image.Image image mode=RGB size=64x64 at 0x260CE127B80>"
      ]
     },
     "execution_count": 120,
     "metadata": {},
     "output_type": "execute_result"
    }
   ],
   "source": [
    "array_to_img(aug_train_images[108])"
   ]
  },
  {
   "cell_type": "code",
   "execution_count": 121,
   "metadata": {},
   "outputs": [
    {
     "data": {
      "image/png": "[encoded data removed]",
      "text/plain": [
       "<PIL.Image.Image image mode=RGB size=64x64 at 0x260CD742880>"
      ]
     },
     "execution_count": 121,
     "metadata": {},
     "output_type": "execute_result"
    }
   ],
   "source": [
    "array_to_img(aug_train_images[631])"
   ]
  },
  {
   "cell_type": "markdown",
   "metadata": {},
   "source": [
    "Same as before, change the labels from [1,0] and [0,1] to either 0 or 1. "
   ]
  },
  {
   "cell_type": "code",
   "execution_count": 123,
   "metadata": {},
   "outputs": [
    {
     "name": "stdout",
     "output_type": "stream",
     "text": [
      "aug train labels updated shape: (700,)\n",
      "test labels updated shape: (100,)\n",
      "val labels updated shape: (16,)\n"
     ]
    }
   ],
   "source": [
    "aug_train_labels_final = aug_train_labels.T[0]\n",
    "test_labels_final = test_labels.T[0]\n",
    "val_labels_final = val_labels.T[0]\n",
    "\n",
    "print(f\"aug train labels updated shape: {aug_train_labels_final.shape}\")\n",
    "print(f\"test labels updated shape: {test_labels_final.shape}\")\n",
    "print(f\"val labels updated shape: {val_labels_final.shape}\")"
   ]
  },
  {
   "cell_type": "code",
   "execution_count": 124,
   "metadata": {},
   "outputs": [
    {
     "name": "stdout",
     "output_type": "stream",
     "text": [
      "original train labels shape: (700, 2)\n",
      "updated train labels shape: (700,)\n"
     ]
    }
   ],
   "source": [
    "print(f\"original train labels shape: {aug_train_labels.shape}\")\n",
    "print(f\"updated train labels shape: {aug_train_labels_final.shape}\")"
   ]
  },
  {
   "cell_type": "markdown",
   "metadata": {},
   "source": [
    "Check it out."
   ]
  },
  {
   "cell_type": "code",
   "execution_count": 125,
   "metadata": {},
   "outputs": [
    {
     "data": {
      "image/png": "[encoded data removed]",
      "text/plain": [
       "<PIL.Image.Image image mode=RGB size=64x64 at 0x260D3C047C0>"
      ]
     },
     "execution_count": 125,
     "metadata": {},
     "output_type": "execute_result"
    }
   ],
   "source": [
    "array_to_img(aug_train_images[300])"
   ]
  },
  {
   "cell_type": "code",
   "execution_count": 126,
   "metadata": {},
   "outputs": [
    {
     "data": {
      "text/plain": [
       "0.0"
      ]
     },
     "execution_count": 126,
     "metadata": {},
     "output_type": "execute_result"
    }
   ],
   "source": [
    "aug_train_labels_final[300]"
   ]
  },
  {
   "cell_type": "code",
   "execution_count": 127,
   "metadata": {},
   "outputs": [
    {
     "data": {
      "text/plain": [
       "{'NORMAL': 0, 'PNEUMONIA': 1}"
      ]
     },
     "execution_count": 127,
     "metadata": {},
     "output_type": "execute_result"
    }
   ],
   "source": [
    "aug_train_generator.class_indices"
   ]
  },
  {
   "cell_type": "markdown",
   "metadata": {},
   "source": [
    "Create a first simple model."
   ]
  },
  {
   "cell_type": "code",
   "execution_count": 133,
   "metadata": {},
   "outputs": [],
   "source": [
    "aug_model = models.Sequential()\n",
    "aug_model.add(layers.Conv2D(filters=32,\n",
    "                                 kernel_size=(3, 3),\n",
    "                                 activation='relu',\n",
    "                                 input_shape=(64, 64, 3)))\n",
    "\n",
    "aug_model.add(layers.Flatten())\n",
    "aug_model.add(layers.Dense(1, activation='sigmoid'))"
   ]
  },
  {
   "cell_type": "code",
   "execution_count": 134,
   "metadata": {},
   "outputs": [],
   "source": [
    "aug_model.compile(optimizer='adam',\n",
    "                       loss='binary_crossentropy',\n",
    "                       metrics=['accuracy'])"
   ]
  },
  {
   "cell_type": "code",
   "execution_count": 135,
   "metadata": {},
   "outputs": [
    {
     "name": "stdout",
     "output_type": "stream",
     "text": [
      "Epoch 1/25\n",
      "10/10 [==============================] - 1s 61ms/step - loss: 1.1923 - accuracy: 0.5800\n",
      "Epoch 2/25\n",
      "10/10 [==============================] - 1s 62ms/step - loss: 0.6403 - accuracy: 0.7457\n",
      "Epoch 3/25\n",
      "10/10 [==============================] - 1s 61ms/step - loss: 0.5628 - accuracy: 0.7500\n",
      "Epoch 4/25\n",
      "10/10 [==============================] - 1s 59ms/step - loss: 0.5427 - accuracy: 0.7457\n",
      "Epoch 5/25\n",
      "10/10 [==============================] - 1s 61ms/step - loss: 0.5143 - accuracy: 0.7657\n",
      "Epoch 6/25\n",
      "10/10 [==============================] - 1s 58ms/step - loss: 0.4808 - accuracy: 0.7757\n",
      "Epoch 7/25\n",
      "10/10 [==============================] - 1s 59ms/step - loss: 0.4657 - accuracy: 0.7971\n",
      "Epoch 8/25\n",
      "10/10 [==============================] - 1s 58ms/step - loss: 0.4234 - accuracy: 0.8100\n",
      "Epoch 9/25\n",
      "10/10 [==============================] - 1s 58ms/step - loss: 0.4308 - accuracy: 0.8000\n",
      "Epoch 10/25\n",
      "10/10 [==============================] - 1s 58ms/step - loss: 0.4201 - accuracy: 0.8186\n",
      "Epoch 11/25\n",
      "10/10 [==============================] - 1s 61ms/step - loss: 0.3756 - accuracy: 0.8457\n",
      "Epoch 12/25\n",
      "10/10 [==============================] - 1s 62ms/step - loss: 0.3494 - accuracy: 0.8771\n",
      "Epoch 13/25\n",
      "10/10 [==============================] - 1s 62ms/step - loss: 0.3027 - accuracy: 0.9057\n",
      "Epoch 14/25\n",
      "10/10 [==============================] - 1s 62ms/step - loss: 0.2827 - accuracy: 0.9029\n",
      "Epoch 15/25\n",
      "10/10 [==============================] - 1s 59ms/step - loss: 0.2644 - accuracy: 0.9086\n",
      "Epoch 16/25\n",
      "10/10 [==============================] - 1s 64ms/step - loss: 0.2616 - accuracy: 0.9200\n",
      "Epoch 17/25\n",
      "10/10 [==============================] - 1s 61ms/step - loss: 0.2347 - accuracy: 0.9314\n",
      "Epoch 18/25\n",
      "10/10 [==============================] - 1s 73ms/step - loss: 0.2082 - accuracy: 0.9414\n",
      "Epoch 19/25\n",
      "10/10 [==============================] - 1s 68ms/step - loss: 0.2103 - accuracy: 0.9386\n",
      "Epoch 20/25\n",
      "10/10 [==============================] - 1s 61ms/step - loss: 0.1921 - accuracy: 0.9400\n",
      "Epoch 21/25\n",
      "10/10 [==============================] - 1s 62ms/step - loss: 0.1720 - accuracy: 0.9500\n",
      "Epoch 22/25\n",
      "10/10 [==============================] - 1s 61ms/step - loss: 0.1569 - accuracy: 0.9643\n",
      "Epoch 23/25\n",
      "10/10 [==============================] - 1s 61ms/step - loss: 0.1484 - accuracy: 0.9686\n",
      "Epoch 24/25\n",
      "10/10 [==============================] - 1s 63ms/step - loss: 0.1336 - accuracy: 0.9714\n",
      "Epoch 25/25\n",
      "10/10 [==============================] - 1s 73ms/step - loss: 0.1408 - accuracy: 0.9714\n"
     ]
    }
   ],
   "source": [
    "aug_results = aug_model.fit(aug_train_images, aug_train_labels_final, epochs=25, batch_size=75)"
   ]
  },
  {
   "cell_type": "code",
   "execution_count": 136,
   "metadata": {},
   "outputs": [
    {
     "name": "stdout",
     "output_type": "stream",
     "text": [
      "22/22 [==============================] - 0s 18ms/step - loss: 0.1228 - accuracy: 0.9743\n"
     ]
    }
   ],
   "source": [
    "train_loss, train_acc = aug_model.evaluate(aug_train_images, aug_train_labels_final)"
   ]
  },
  {
   "cell_type": "code",
   "execution_count": 137,
   "metadata": {},
   "outputs": [
    {
     "name": "stdout",
     "output_type": "stream",
     "text": [
      "4/4 [==============================] - 0s 8ms/step - loss: 0.5481 - accuracy: 0.7400\n"
     ]
    }
   ],
   "source": [
    "test_loss, test_acc = aug_model.evaluate(test_images, test_labels_final)"
   ]
  },
  {
   "cell_type": "markdown",
   "metadata": {},
   "source": [
    "Train accuracy is 97 and test accuracy is 74. Not much different than earlier results. Try adding more layers. "
   ]
  },
  {
   "cell_type": "code",
   "execution_count": 149,
   "metadata": {},
   "outputs": [],
   "source": [
    "aug_model_2 = models.Sequential()\n",
    "aug_model_2.add(layers.Conv2D(filters=32,\n",
    "                        kernel_size=(3, 3),\n",
    "                        activation='relu',\n",
    "                        input_shape=(64, 64, 3),\n",
    "                        kernel_regularizer=regularizers.l2(0.01)))\n",
    "\n",
    "aug_model_2.add(layers.MaxPooling2D(pool_size=(2, 2)))\n",
    "aug_model_2.add(layers.Dropout(0.8))\n",
    "aug_model_2.add(layers.Conv2D(64, (3, 3), activation='relu', kernel_regularizer=regularizers.l2(0.01)))\n",
    "aug_model_2.add(layers.MaxPooling2D(pool_size=(2, 2)))\n",
    "aug_model_2.add(layers.Dropout(0.2))\n",
    "aug_model_2.add(layers.Conv2D(64, (3, 3), activation='relu', kernel_regularizer=regularizers.l2(0.01)))\n",
    "aug_model_2.add(layers.MaxPooling2D(pool_size=(2, 2)))\n",
    "aug_model_2.add(layers.Conv2D(64, (3, 3), activation='relu', kernel_regularizer=regularizers.l2(0.01)))\n",
    "aug_model_2.add(layers.MaxPooling2D(pool_size=(2, 2)))\n",
    "\n",
    "aug_model_2.add(layers.Flatten())\n",
    "aug_model_2.add(layers.Dense(50, activation='relu'))\n",
    "aug_model_2.add(layers.Dense(25, activation='relu'))\n",
    "aug_model_2.add(layers.Dense(5, activation='relu'))\n",
    "aug_model_2.add(layers.Dense(1, activation='sigmoid', kernel_regularizer=regularizers.l2(0.01)))"
   ]
  },
  {
   "cell_type": "code",
   "execution_count": 150,
   "metadata": {},
   "outputs": [],
   "source": [
    "aug_model_2.compile(optimizer='Adam', \n",
    "              loss='binary_crossentropy', \n",
    "              metrics=['accuracy'])"
   ]
  },
  {
   "cell_type": "code",
   "execution_count": 151,
   "metadata": {},
   "outputs": [
    {
     "name": "stdout",
     "output_type": "stream",
     "text": [
      "Epoch 1/25\n",
      "10/10 [==============================] - 2s 212ms/step - loss: 2.1807 - accuracy: 0.7486\n",
      "Epoch 2/25\n",
      "10/10 [==============================] - 2s 231ms/step - loss: 1.7474 - accuracy: 0.7486\n",
      "Epoch 3/25\n",
      "10/10 [==============================] - 2s 232ms/step - loss: 1.4085 - accuracy: 0.7486\n",
      "Epoch 4/25\n",
      "10/10 [==============================] - 2s 223ms/step - loss: 1.1560 - accuracy: 0.7486\n",
      "Epoch 5/25\n",
      "10/10 [==============================] - 2s 215ms/step - loss: 0.9812 - accuracy: 0.7486\n",
      "Epoch 6/25\n",
      "10/10 [==============================] - 2s 218ms/step - loss: 0.8632 - accuracy: 0.7486\n",
      "Epoch 7/25\n",
      "10/10 [==============================] - 2s 217ms/step - loss: 0.7815 - accuracy: 0.7486\n",
      "Epoch 8/25\n",
      "10/10 [==============================] - 2s 222ms/step - loss: 0.7275 - accuracy: 0.7486\n",
      "Epoch 9/25\n",
      "10/10 [==============================] - 2s 230ms/step - loss: 0.6953 - accuracy: 0.7486\n",
      "Epoch 10/25\n",
      "10/10 [==============================] - 2s 233ms/step - loss: 0.6622 - accuracy: 0.7486\n",
      "Epoch 11/25\n",
      "10/10 [==============================] - 2s 213ms/step - loss: 0.6463 - accuracy: 0.7486\n",
      "Epoch 12/25\n",
      "10/10 [==============================] - 2s 248ms/step - loss: 0.6339 - accuracy: 0.7486\n",
      "Epoch 13/25\n",
      "10/10 [==============================] - 2s 249ms/step - loss: 0.6356 - accuracy: 0.7486\n",
      "Epoch 14/25\n",
      "10/10 [==============================] - 3s 256ms/step - loss: 0.6152 - accuracy: 0.7486\n",
      "Epoch 15/25\n",
      "10/10 [==============================] - 3s 257ms/step - loss: 0.6091 - accuracy: 0.7486\n",
      "Epoch 16/25\n",
      "10/10 [==============================] - 3s 260ms/step - loss: 0.6051 - accuracy: 0.7486\n",
      "Epoch 17/25\n",
      "10/10 [==============================] - 3s 256ms/step - loss: 0.6032 - accuracy: 0.7486\n",
      "Epoch 18/25\n",
      "10/10 [==============================] - 3s 260ms/step - loss: 0.5991 - accuracy: 0.7486\n",
      "Epoch 19/25\n",
      "10/10 [==============================] - 2s 231ms/step - loss: 0.5950 - accuracy: 0.7486\n",
      "Epoch 20/25\n",
      "10/10 [==============================] - 3s 261ms/step - loss: 0.5944 - accuracy: 0.7486\n",
      "Epoch 21/25\n",
      "10/10 [==============================] - 3s 255ms/step - loss: 0.5933 - accuracy: 0.7486\n",
      "Epoch 22/25\n",
      "10/10 [==============================] - 3s 257ms/step - loss: 0.5901 - accuracy: 0.7486\n",
      "Epoch 23/25\n",
      "10/10 [==============================] - 3s 254ms/step - loss: 0.5969 - accuracy: 0.7486\n",
      "Epoch 24/25\n",
      "10/10 [==============================] - 3s 260ms/step - loss: 0.5912 - accuracy: 0.7486\n",
      "Epoch 25/25\n",
      "10/10 [==============================] - 3s 252ms/step - loss: 0.5911 - accuracy: 0.7486\n"
     ]
    }
   ],
   "source": [
    "aug_results_2 = aug_model_2.fit(aug_train_images, aug_train_labels_final, epochs=25, batch_size=75)"
   ]
  },
  {
   "cell_type": "code",
   "execution_count": 152,
   "metadata": {},
   "outputs": [
    {
     "name": "stdout",
     "output_type": "stream",
     "text": [
      "22/22 [==============================] - 1s 36ms/step - loss: 0.5909 - accuracy: 0.7486\n"
     ]
    }
   ],
   "source": [
    "train_loss, train_acc = aug_model_2.evaluate(aug_train_images, aug_train_labels_final)"
   ]
  },
  {
   "cell_type": "code",
   "execution_count": 153,
   "metadata": {},
   "outputs": [
    {
     "name": "stdout",
     "output_type": "stream",
     "text": [
      "4/4 [==============================] - 0s 23ms/step - loss: 0.7461 - accuracy: 0.6100\n"
     ]
    }
   ],
   "source": [
    "test_loss, test_acc = aug_model_2.evaluate(test_images, test_labels_final)"
   ]
  },
  {
   "cell_type": "markdown",
   "metadata": {},
   "source": [
    "This made it worse ha trying again. Changing activation from relu to tanh."
   ]
  },
  {
   "cell_type": "code",
   "execution_count": 165,
   "metadata": {},
   "outputs": [],
   "source": [
    "aug_model_3 = models.Sequential()\n",
    "aug_model_3.add(layers.Conv2D(filters=32,\n",
    "                        kernel_size=(3, 3),\n",
    "                        activation='tanh',\n",
    "                        input_shape=(64, 64, 3),\n",
    "                        kernel_regularizer=regularizers.l2(0.2)))\n",
    "\n",
    "aug_model_3.add(layers.MaxPooling2D(pool_size=(2, 2)))\n",
    "aug_model_3.add(layers.Dropout(0.8))\n",
    "aug_model_3.add(layers.Conv2D(64, (3, 3), activation='tanh'))\n",
    "aug_model_3.add(layers.MaxPooling2D(pool_size=(2, 2)))\n",
    "aug_model_3.add(layers.Dropout(0.2))\n",
    "\n",
    "aug_model_3.add(layers.Flatten())\n",
    "aug_model_3.add(layers.Dense(128, activation='tanh'))\n",
    "aug_model_3.add(layers.Dropout(0.3))\n",
    "aug_model_3.add(layers.Dense(64, activation='tanh'))\n",
    "aug_model_3.add(layers.Dense(1, activation='sigmoid'))"
   ]
  },
  {
   "cell_type": "code",
   "execution_count": 166,
   "metadata": {},
   "outputs": [],
   "source": [
    "aug_model_3.compile(optimizer='Adam', \n",
    "              loss='binary_crossentropy', \n",
    "              metrics=['accuracy'])"
   ]
  },
  {
   "cell_type": "code",
   "execution_count": 167,
   "metadata": {},
   "outputs": [
    {
     "name": "stdout",
     "output_type": "stream",
     "text": [
      "Epoch 1/25\n",
      "10/10 [==============================] - 2s 202ms/step - loss: 1.9087 - accuracy: 0.7186\n",
      "Epoch 2/25\n",
      "10/10 [==============================] - 2s 206ms/step - loss: 1.4216 - accuracy: 0.6429\n",
      "Epoch 3/25\n",
      "10/10 [==============================] - 2s 199ms/step - loss: 1.1819 - accuracy: 0.7471\n",
      "Epoch 4/25\n",
      "10/10 [==============================] - 2s 197ms/step - loss: 1.0619 - accuracy: 0.7486\n",
      "Epoch 5/25\n",
      "10/10 [==============================] - 2s 204ms/step - loss: 0.9469 - accuracy: 0.7486\n",
      "Epoch 6/25\n",
      "10/10 [==============================] - 2s 203ms/step - loss: 0.8674 - accuracy: 0.7500\n",
      "Epoch 7/25\n",
      "10/10 [==============================] - 2s 195ms/step - loss: 0.7855 - accuracy: 0.7500\n",
      "Epoch 8/25\n",
      "10/10 [==============================] - 2s 208ms/step - loss: 0.7520 - accuracy: 0.7486\n",
      "Epoch 9/25\n",
      "10/10 [==============================] - 2s 215ms/step - loss: 0.6985 - accuracy: 0.7486\n",
      "Epoch 10/25\n",
      "10/10 [==============================] - 2s 214ms/step - loss: 0.6694 - accuracy: 0.7486\n",
      "Epoch 11/25\n",
      "10/10 [==============================] - 2s 216ms/step - loss: 0.6429 - accuracy: 0.7486\n",
      "Epoch 12/25\n",
      "10/10 [==============================] - 2s 215ms/step - loss: 0.6208 - accuracy: 0.7486\n",
      "Epoch 13/25\n",
      "10/10 [==============================] - 2s 207ms/step - loss: 0.5977 - accuracy: 0.7486\n",
      "Epoch 14/25\n",
      "10/10 [==============================] - 2s 214ms/step - loss: 0.5905 - accuracy: 0.7486\n",
      "Epoch 15/25\n",
      "10/10 [==============================] - 2s 213ms/step - loss: 0.5890 - accuracy: 0.7486\n",
      "Epoch 16/25\n",
      "10/10 [==============================] - 2s 222ms/step - loss: 0.5853 - accuracy: 0.7486\n",
      "Epoch 17/25\n",
      "10/10 [==============================] - 2s 238ms/step - loss: 0.5754 - accuracy: 0.7486\n",
      "Epoch 18/25\n",
      "10/10 [==============================] - 2s 238ms/step - loss: 0.5670 - accuracy: 0.7486\n",
      "Epoch 19/25\n",
      "10/10 [==============================] - 2s 237ms/step - loss: 0.5688 - accuracy: 0.7429\n",
      "Epoch 20/25\n",
      "10/10 [==============================] - 2s 230ms/step - loss: 0.5640 - accuracy: 0.7486\n",
      "Epoch 21/25\n",
      "10/10 [==============================] - 2s 230ms/step - loss: 0.5571 - accuracy: 0.7471\n",
      "Epoch 22/25\n",
      "10/10 [==============================] - 2s 229ms/step - loss: 0.5388 - accuracy: 0.7514\n",
      "Epoch 23/25\n",
      "10/10 [==============================] - 2s 227ms/step - loss: 0.5330 - accuracy: 0.7386\n",
      "Epoch 24/25\n",
      "10/10 [==============================] - 2s 229ms/step - loss: 0.5660 - accuracy: 0.7514\n",
      "Epoch 25/25\n",
      "10/10 [==============================] - 2s 217ms/step - loss: 0.5478 - accuracy: 0.7486\n"
     ]
    }
   ],
   "source": [
    "aug_results_3 = aug_model_3.fit(aug_train_images, aug_train_labels_final, epochs=25, batch_size=75)"
   ]
  },
  {
   "cell_type": "code",
   "execution_count": 168,
   "metadata": {},
   "outputs": [
    {
     "name": "stdout",
     "output_type": "stream",
     "text": [
      "22/22 [==============================] - 1s 29ms/step - loss: 0.5787 - accuracy: 0.7457\n"
     ]
    }
   ],
   "source": [
    "train_loss, train_acc = aug_model_3.evaluate(aug_train_images, aug_train_labels_final)"
   ]
  },
  {
   "cell_type": "code",
   "execution_count": 169,
   "metadata": {},
   "outputs": [
    {
     "name": "stdout",
     "output_type": "stream",
     "text": [
      "4/4 [==============================] - 0s 20ms/step - loss: 0.6902 - accuracy: 0.6100\n"
     ]
    }
   ],
   "source": [
    "test_loss, test_acc = aug_model_3.evaluate(test_images, test_labels_final)"
   ]
  },
  {
   "cell_type": "markdown",
   "metadata": {},
   "source": [
    "No real difference. Trying again by adding more layers. "
   ]
  },
  {
   "cell_type": "code",
   "execution_count": 188,
   "metadata": {},
   "outputs": [],
   "source": [
    "aug_model_4 = models.Sequential()\n",
    "aug_model_4.add(layers.Conv2D(filters=64, kernel_size=(3, 3), activation='relu', input_shape=(64, 64, 3)))\n",
    "aug_model_4.add(layers.MaxPooling2D(pool_size=(2, 2)))\n",
    "aug_model_4.add(layers.Dropout(0.8))\n",
    "aug_model_4.add(layers.Conv2D(250, (3, 3), activation='relu'))\n",
    "aug_model_4.add(layers.MaxPooling2D(pool_size=(2, 2)))\n",
    "aug_model_4.add(layers.Dropout(0.5))\n",
    "aug_model_4.add(layers.Flatten())\n",
    "aug_model_4.add(layers.Dense(150, activation='relu'))\n",
    "aug_model_4.add(layers.Dropout(0.2))\n",
    "aug_model_4.add(layers.Dense(64, activation='relu'))\n",
    "aug_model_4.add(layers.Dense(1, activation='sigmoid'))"
   ]
  },
  {
   "cell_type": "code",
   "execution_count": 189,
   "metadata": {},
   "outputs": [],
   "source": [
    "aug_model_4.compile(optimizer=Adam(0.01), \n",
    "              loss='binary_crossentropy', \n",
    "              metrics=['accuracy'])"
   ]
  },
  {
   "cell_type": "code",
   "execution_count": 190,
   "metadata": {},
   "outputs": [
    {
     "name": "stdout",
     "output_type": "stream",
     "text": [
      "Epoch 1/25\n",
      "10/10 [==============================] - 7s 689ms/step - loss: 10.1075 - accuracy: 0.5586\n",
      "Epoch 2/25\n",
      "10/10 [==============================] - 7s 671ms/step - loss: 0.6436 - accuracy: 0.7486\n",
      "Epoch 3/25\n",
      "10/10 [==============================] - 7s 744ms/step - loss: 0.5960 - accuracy: 0.7486\n",
      "Epoch 4/25\n",
      "10/10 [==============================] - 7s 738ms/step - loss: 0.5695 - accuracy: 0.7486\n",
      "Epoch 5/25\n",
      "10/10 [==============================] - 7s 750ms/step - loss: 0.5694 - accuracy: 0.7486\n",
      "Epoch 6/25\n",
      "10/10 [==============================] - 8s 766ms/step - loss: 0.5649 - accuracy: 0.7486\n",
      "Epoch 7/25\n",
      "10/10 [==============================] - 7s 715ms/step - loss: 0.5665 - accuracy: 0.7486\n",
      "Epoch 8/25\n",
      "10/10 [==============================] - 7s 746ms/step - loss: 0.5650 - accuracy: 0.7486\n",
      "Epoch 9/25\n",
      "10/10 [==============================] - 7s 736ms/step - loss: 0.5674 - accuracy: 0.7486\n",
      "Epoch 10/25\n",
      "10/10 [==============================] - 6s 640ms/step - loss: 0.5636 - accuracy: 0.7486\n",
      "Epoch 11/25\n",
      "10/10 [==============================] - 7s 720ms/step - loss: 0.5681 - accuracy: 0.7486\n",
      "Epoch 12/25\n",
      "10/10 [==============================] - 8s 756ms/step - loss: 0.5650 - accuracy: 0.7486\n",
      "Epoch 13/25\n",
      "10/10 [==============================] - 8s 753ms/step - loss: 0.5658 - accuracy: 0.7486\n",
      "Epoch 14/25\n",
      "10/10 [==============================] - 8s 756ms/step - loss: 0.5671 - accuracy: 0.7486\n",
      "Epoch 15/25\n",
      "10/10 [==============================] - 7s 747ms/step - loss: 0.5659 - accuracy: 0.7486\n",
      "Epoch 16/25\n",
      "10/10 [==============================] - 8s 751ms/step - loss: 0.5658 - accuracy: 0.7486\n",
      "Epoch 17/25\n",
      "10/10 [==============================] - 8s 755ms/step - loss: 0.5655 - accuracy: 0.7486\n",
      "Epoch 18/25\n",
      "10/10 [==============================] - 8s 753ms/step - loss: 0.5645 - accuracy: 0.7486\n",
      "Epoch 19/25\n",
      "10/10 [==============================] - 8s 760ms/step - loss: 0.5648 - accuracy: 0.7486\n",
      "Epoch 20/25\n",
      "10/10 [==============================] - 8s 760ms/step - loss: 0.5643 - accuracy: 0.7486\n",
      "Epoch 21/25\n",
      "10/10 [==============================] - 8s 758ms/step - loss: 0.5649 - accuracy: 0.7486\n",
      "Epoch 22/25\n",
      "10/10 [==============================] - 8s 766ms/step - loss: 0.5643 - accuracy: 0.7486\n",
      "Epoch 23/25\n",
      "10/10 [==============================] - 8s 759ms/step - loss: 0.5654 - accuracy: 0.7486\n",
      "Epoch 24/25\n",
      "10/10 [==============================] - 8s 759ms/step - loss: 0.5648 - accuracy: 0.7486\n",
      "Epoch 25/25\n",
      "10/10 [==============================] - 7s 748ms/step - loss: 0.5639 - accuracy: 0.7486\n"
     ]
    }
   ],
   "source": [
    "aug_results_4 = aug_model_4.fit(aug_train_images, aug_train_labels_final, epochs=25, batch_size=75)"
   ]
  },
  {
   "cell_type": "code",
   "execution_count": 191,
   "metadata": {},
   "outputs": [
    {
     "name": "stdout",
     "output_type": "stream",
     "text": [
      "22/22 [==============================] - 2s 86ms/step - loss: 0.5639 - accuracy: 0.7486\n"
     ]
    }
   ],
   "source": [
    "train_loss, train_acc = aug_model_4.evaluate(aug_train_images, aug_train_labels_final)"
   ]
  },
  {
   "cell_type": "code",
   "execution_count": 192,
   "metadata": {},
   "outputs": [
    {
     "name": "stdout",
     "output_type": "stream",
     "text": [
      "4/4 [==============================] - 0s 52ms/step - loss: 0.7125 - accuracy: 0.6100\n"
     ]
    }
   ],
   "source": [
    "test_loss, test_acc = aug_model_4.evaluate(test_images, test_labels_final)"
   ]
  },
  {
   "cell_type": "markdown",
   "metadata": {},
   "source": [
    "Still not doing much. Let's try using the best model we had earlier (fifth model with learning rate 0.1) on our augmented data. "
   ]
  },
  {
   "cell_type": "code",
   "execution_count": 225,
   "metadata": {},
   "outputs": [],
   "source": [
    "aug_model_5 = models.Sequential()\n",
    "aug_model_5.add(layers.Conv2D(filters=32,\n",
    "                        kernel_size=(3, 3),\n",
    "                        activation='tanh',\n",
    "                        input_shape=(64, 64, 3),\n",
    "                        kernel_regularizer=regularizers.l2(0.01)))\n",
    "\n",
    "aug_model_5.add(layers.MaxPooling2D(pool_size=(2, 2)))\n",
    "aug_model_5.add(layers.Dropout(0.8))\n",
    "aug_model_5.add(layers.Conv2D(64, (3, 3), activation='tanh', kernel_regularizer=regularizers.l2(0.01)))\n",
    "aug_model_5.add(layers.Dropout(0.2))\n",
    "aug_model_5.add(layers.Flatten())\n",
    "aug_model_5.add(layers.Dense(1, activation='sigmoid', kernel_regularizer=regularizers.l2(0.01)))"
   ]
  },
  {
   "cell_type": "code",
   "execution_count": 230,
   "metadata": {},
   "outputs": [
    {
     "name": "stdout",
     "output_type": "stream",
     "text": [
      "Model: \"sequential_20\"\n",
      "_________________________________________________________________\n",
      "Layer (type)                 Output Shape              Param #   \n",
      "=================================================================\n",
      "conv2d_44 (Conv2D)           (None, 62, 62, 32)        896       \n",
      "_________________________________________________________________\n",
      "max_pooling2d_34 (MaxPooling (None, 31, 31, 32)        0         \n",
      "_________________________________________________________________\n",
      "dropout_39 (Dropout)         (None, 31, 31, 32)        0         \n",
      "_________________________________________________________________\n",
      "conv2d_45 (Conv2D)           (None, 29, 29, 64)        18496     \n",
      "_________________________________________________________________\n",
      "dropout_40 (Dropout)         (None, 29, 29, 64)        0         \n",
      "_________________________________________________________________\n",
      "flatten_20 (Flatten)         (None, 53824)             0         \n",
      "_________________________________________________________________\n",
      "dense_42 (Dense)             (None, 1)                 53825     \n",
      "=================================================================\n",
      "Total params: 73,217\n",
      "Trainable params: 73,217\n",
      "Non-trainable params: 0\n",
      "_________________________________________________________________\n"
     ]
    }
   ],
   "source": [
    "aug_model_5.summary()"
   ]
  },
  {
   "cell_type": "code",
   "execution_count": 226,
   "metadata": {},
   "outputs": [],
   "source": [
    "aug_model_5.compile(optimizer=Adam(lr=0.1), \n",
    "              loss='binary_crossentropy', \n",
    "              metrics=['accuracy'])"
   ]
  },
  {
   "cell_type": "code",
   "execution_count": 227,
   "metadata": {},
   "outputs": [
    {
     "name": "stdout",
     "output_type": "stream",
     "text": [
      "Epoch 1/25\n",
      "10/10 [==============================] - 2s 210ms/step - loss: 750.0402 - accuracy: 0.5671\n",
      "Epoch 2/25\n",
      "10/10 [==============================] - 2s 212ms/step - loss: 462.2536 - accuracy: 0.6400\n",
      "Epoch 3/25\n",
      "10/10 [==============================] - 2s 216ms/step - loss: 285.7617 - accuracy: 0.5743\n",
      "Epoch 4/25\n",
      "10/10 [==============================] - 2s 210ms/step - loss: 435.1820 - accuracy: 0.6400\n",
      "Epoch 5/25\n",
      "10/10 [==============================] - 2s 209ms/step - loss: 338.0626 - accuracy: 0.6514\n",
      "Epoch 6/25\n",
      "10/10 [==============================] - 2s 209ms/step - loss: 478.0849 - accuracy: 0.5929\n",
      "Epoch 7/25\n",
      "10/10 [==============================] - 2s 224ms/step - loss: 396.0857 - accuracy: 0.6457\n",
      "Epoch 8/25\n",
      "10/10 [==============================] - 2s 229ms/step - loss: 171.5293 - accuracy: 0.5786\n",
      "Epoch 9/25\n",
      "10/10 [==============================] - 2s 232ms/step - loss: 234.2194 - accuracy: 0.5614\n",
      "Epoch 10/25\n",
      "10/10 [==============================] - 2s 225ms/step - loss: 613.1973 - accuracy: 0.5614\n",
      "Epoch 11/25\n",
      "10/10 [==============================] - 2s 228ms/step - loss: 669.0206 - accuracy: 0.6857\n",
      "Epoch 12/25\n",
      "10/10 [==============================] - 2s 231ms/step - loss: 257.8644 - accuracy: 0.6571\n",
      "Epoch 13/25\n",
      "10/10 [==============================] - 2s 229ms/step - loss: 314.4314 - accuracy: 0.6514\n",
      "Epoch 14/25\n",
      "10/10 [==============================] - 2s 230ms/step - loss: 292.8313 - accuracy: 0.5886\n",
      "Epoch 15/25\n",
      "10/10 [==============================] - 2s 232ms/step - loss: 121.6529 - accuracy: 0.6543\n",
      "Epoch 16/25\n",
      "10/10 [==============================] - 2s 228ms/step - loss: 129.5934 - accuracy: 0.6429\n",
      "Epoch 17/25\n",
      "10/10 [==============================] - 2s 245ms/step - loss: 146.1162 - accuracy: 0.6071\n",
      "Epoch 18/25\n",
      "10/10 [==============================] - 3s 252ms/step - loss: 161.2974 - accuracy: 0.6500\n",
      "Epoch 19/25\n",
      "10/10 [==============================] - 3s 259ms/step - loss: 169.1120 - accuracy: 0.6214\n",
      "Epoch 20/25\n",
      "10/10 [==============================] - 3s 256ms/step - loss: 143.2723 - accuracy: 0.6386\n",
      "Epoch 21/25\n",
      "10/10 [==============================] - 3s 255ms/step - loss: 356.5239 - accuracy: 0.6129\n",
      "Epoch 22/25\n",
      "10/10 [==============================] - 3s 254ms/step - loss: 644.4681 - accuracy: 0.6457\n",
      "Epoch 23/25\n",
      "10/10 [==============================] - 3s 256ms/step - loss: 555.6660 - accuracy: 0.5957\n",
      "Epoch 24/25\n",
      "10/10 [==============================] - 3s 257ms/step - loss: 523.2288 - accuracy: 0.5929\n",
      "Epoch 25/25\n",
      "10/10 [==============================] - 3s 257ms/step - loss: 534.0582 - accuracy: 0.5929\n"
     ]
    }
   ],
   "source": [
    "aug_results_5 = aug_model_5.fit(aug_train_images, aug_train_labels_final, epochs=25, batch_size=75)"
   ]
  },
  {
   "cell_type": "code",
   "execution_count": 228,
   "metadata": {},
   "outputs": [
    {
     "name": "stdout",
     "output_type": "stream",
     "text": [
      "22/22 [==============================] - 1s 29ms/step - loss: 846.6748 - accuracy: 0.7486\n"
     ]
    }
   ],
   "source": [
    "train_loss, train_acc = aug_model_5.evaluate(aug_train_images, aug_train_labels_final)"
   ]
  },
  {
   "cell_type": "code",
   "execution_count": 229,
   "metadata": {},
   "outputs": [
    {
     "name": "stdout",
     "output_type": "stream",
     "text": [
      "4/4 [==============================] - 0s 18ms/step - loss: 1296.8898 - accuracy: 0.6100\n"
     ]
    }
   ],
   "source": [
    "test_loss, test_acc = aug_model_5.evaluate(test_images, test_labels_final)"
   ]
  },
  {
   "cell_type": "markdown",
   "metadata": {},
   "source": [
    "The augmented version scores are really not changing much. Let's try different units for the Conv2D and dense layers. Also switching to relu, see if that changes anything."
   ]
  },
  {
   "cell_type": "code",
   "execution_count": 244,
   "metadata": {},
   "outputs": [],
   "source": [
    "aug_model_6 = models.Sequential()\n",
    "aug_model_6.add(layers.Conv2D(64, (3, 3), activation='relu', input_shape=(64, 64, 3)))\n",
    "aug_model_6.add(layers.MaxPooling2D(pool_size=(2, 2)))\n",
    "aug_model_6.add(layers.BatchNormalization())\n",
    "aug_model_6.add(layers.Dropout(0.5))\n",
    "\n",
    "aug_model_6.add(layers.Conv2D(128, (3, 3), activation='relu'))\n",
    "aug_model_6.add(layers.MaxPooling2D(pool_size=(2, 2)))\n",
    "aug_model_6.add(layers.BatchNormalization())\n",
    "aug_model_6.add(layers.Dropout(0.5))\n",
    "\n",
    "aug_model_6.add(layers.Flatten())\n",
    "\n",
    "aug_model_6.add(layers.Dense(256, activation='relu'))\n",
    "aug_model_6.add(layers.BatchNormalization())\n",
    "aug_model_6.add(layers.Dropout(0.5))\n",
    "\n",
    "aug_model_6.add(layers.Dense(1, activation='sigmoid', kernel_regularizer=regularizers.l2(0.01)))"
   ]
  },
  {
   "cell_type": "code",
   "execution_count": 245,
   "metadata": {
    "scrolled": false
   },
   "outputs": [
    {
     "name": "stdout",
     "output_type": "stream",
     "text": [
      "Model: \"sequential_23\"\n",
      "_________________________________________________________________\n",
      "Layer (type)                 Output Shape              Param #   \n",
      "=================================================================\n",
      "conv2d_50 (Conv2D)           (None, 62, 62, 64)        1792      \n",
      "_________________________________________________________________\n",
      "max_pooling2d_39 (MaxPooling (None, 31, 31, 64)        0         \n",
      "_________________________________________________________________\n",
      "batch_normalization_3 (Batch (None, 31, 31, 64)        256       \n",
      "_________________________________________________________________\n",
      "dropout_47 (Dropout)         (None, 31, 31, 64)        0         \n",
      "_________________________________________________________________\n",
      "conv2d_51 (Conv2D)           (None, 29, 29, 128)       73856     \n",
      "_________________________________________________________________\n",
      "max_pooling2d_40 (MaxPooling (None, 14, 14, 128)       0         \n",
      "_________________________________________________________________\n",
      "batch_normalization_4 (Batch (None, 14, 14, 128)       512       \n",
      "_________________________________________________________________\n",
      "dropout_48 (Dropout)         (None, 14, 14, 128)       0         \n",
      "_________________________________________________________________\n",
      "flatten_23 (Flatten)         (None, 25088)             0         \n",
      "_________________________________________________________________\n",
      "dense_47 (Dense)             (None, 256)               6422784   \n",
      "_________________________________________________________________\n",
      "batch_normalization_5 (Batch (None, 256)               1024      \n",
      "_________________________________________________________________\n",
      "dropout_49 (Dropout)         (None, 256)               0         \n",
      "_________________________________________________________________\n",
      "dense_48 (Dense)             (None, 1)                 257       \n",
      "=================================================================\n",
      "Total params: 6,500,481\n",
      "Trainable params: 6,499,585\n",
      "Non-trainable params: 896\n",
      "_________________________________________________________________\n"
     ]
    }
   ],
   "source": [
    "aug_model_6.summary()"
   ]
  },
  {
   "cell_type": "code",
   "execution_count": 246,
   "metadata": {},
   "outputs": [],
   "source": [
    "aug_model_6.compile(optimizer=Adam(lr=0.1), \n",
    "              loss='binary_crossentropy', \n",
    "              metrics=['accuracy'])"
   ]
  },
  {
   "cell_type": "code",
   "execution_count": 247,
   "metadata": {},
   "outputs": [
    {
     "name": "stdout",
     "output_type": "stream",
     "text": [
      "Epoch 1/25\n",
      "10/10 [==============================] - 5s 535ms/step - loss: 1.6486 - accuracy: 0.6086\n",
      "Epoch 2/25\n",
      "10/10 [==============================] - 5s 523ms/step - loss: 1.0533 - accuracy: 0.6657\n",
      "Epoch 3/25\n",
      "10/10 [==============================] - 5s 530ms/step - loss: 0.7560 - accuracy: 0.7000\n",
      "Epoch 4/25\n",
      "10/10 [==============================] - 6s 585ms/step - loss: 0.7193 - accuracy: 0.6943\n",
      "Epoch 5/25\n",
      "10/10 [==============================] - 6s 580ms/step - loss: 0.6825 - accuracy: 0.7243\n",
      "Epoch 6/25\n",
      "10/10 [==============================] - 6s 571ms/step - loss: 0.5940 - accuracy: 0.7257\n",
      "Epoch 7/25\n",
      "10/10 [==============================] - 6s 582ms/step - loss: 0.5304 - accuracy: 0.7486\n",
      "Epoch 8/25\n",
      "10/10 [==============================] - 6s 612ms/step - loss: 0.5414 - accuracy: 0.7714\n",
      "Epoch 9/25\n",
      "10/10 [==============================] - 6s 584ms/step - loss: 0.5492 - accuracy: 0.7457\n",
      "Epoch 10/25\n",
      "10/10 [==============================] - 5s 542ms/step - loss: 0.5336 - accuracy: 0.7300\n",
      "Epoch 11/25\n",
      "10/10 [==============================] - 5s 543ms/step - loss: 0.5190 - accuracy: 0.7600\n",
      "Epoch 12/25\n",
      "10/10 [==============================] - 6s 623ms/step - loss: 0.4838 - accuracy: 0.7614\n",
      "Epoch 13/25\n",
      "10/10 [==============================] - 6s 584ms/step - loss: 0.4809 - accuracy: 0.7786\n",
      "Epoch 14/25\n",
      "10/10 [==============================] - 6s 606ms/step - loss: 0.5089 - accuracy: 0.7586\n",
      "Epoch 15/25\n",
      "10/10 [==============================] - 6s 584ms/step - loss: 0.4743 - accuracy: 0.7586\n",
      "Epoch 16/25\n",
      "10/10 [==============================] - 6s 585ms/step - loss: 0.5166 - accuracy: 0.7614\n",
      "Epoch 17/25\n",
      "10/10 [==============================] - 6s 588ms/step - loss: 0.4726 - accuracy: 0.7800\n",
      "Epoch 18/25\n",
      "10/10 [==============================] - 6s 584ms/step - loss: 0.4769 - accuracy: 0.7800\n",
      "Epoch 19/25\n",
      "10/10 [==============================] - 6s 583ms/step - loss: 0.4727 - accuracy: 0.7843\n",
      "Epoch 20/25\n",
      "10/10 [==============================] - 6s 579ms/step - loss: 0.4979 - accuracy: 0.7657\n",
      "Epoch 21/25\n",
      "10/10 [==============================] - 6s 587ms/step - loss: 0.4744 - accuracy: 0.7800\n",
      "Epoch 22/25\n",
      "10/10 [==============================] - 6s 585ms/step - loss: 0.4929 - accuracy: 0.7757\n",
      "Epoch 23/25\n",
      "10/10 [==============================] - 6s 581ms/step - loss: 0.4550 - accuracy: 0.7871\n",
      "Epoch 24/25\n",
      "10/10 [==============================] - 6s 582ms/step - loss: 0.5285 - accuracy: 0.7643\n",
      "Epoch 25/25\n",
      "10/10 [==============================] - 6s 586ms/step - loss: 0.5912 - accuracy: 0.7229\n"
     ]
    }
   ],
   "source": [
    "aug_results_6 = aug_model_6.fit(aug_train_images, aug_train_labels_final, epochs=25, batch_size=75)"
   ]
  },
  {
   "cell_type": "code",
   "execution_count": 248,
   "metadata": {
    "scrolled": true
   },
   "outputs": [
    {
     "name": "stdout",
     "output_type": "stream",
     "text": [
      "22/22 [==============================] - 1s 64ms/step - loss: 1.2519 - accuracy: 0.3843\n"
     ]
    }
   ],
   "source": [
    "train_loss, train_acc = aug_model_6.evaluate(aug_train_images, aug_train_labels_final)"
   ]
  },
  {
   "cell_type": "code",
   "execution_count": 249,
   "metadata": {},
   "outputs": [
    {
     "name": "stdout",
     "output_type": "stream",
     "text": [
      "4/4 [==============================] - 0s 42ms/step - loss: 0.6740 - accuracy: 0.6500\n"
     ]
    }
   ],
   "source": [
    "test_loss, test_acc = aug_model_6.evaluate(test_images, test_labels_final)"
   ]
  },
  {
   "cell_type": "markdown",
   "metadata": {},
   "source": [
    "OKAY that made it much worse, but at least the scores are changing. It's super underfit so let's pull back on the regularization. "
   ]
  },
  {
   "cell_type": "code",
   "execution_count": 284,
   "metadata": {},
   "outputs": [],
   "source": [
    "aug_model_7 = models.Sequential()\n",
    "aug_model_7.add(layers.Conv2D(64, (3, 3), activation='relu', input_shape=(64, 64, 3)))\n",
    "aug_model_7.add(layers.MaxPooling2D(pool_size=(2, 2)))\n",
    "aug_model_7.add(layers.BatchNormalization())\n",
    "aug_model_7.add(layers.Dropout(0.8))\n",
    "\n",
    "aug_model_7.add(layers.Conv2D(128, (3, 3), activation='relu'))\n",
    "aug_model_7.add(layers.MaxPooling2D(pool_size=(2, 2)))\n",
    "aug_model_7.add(layers.BatchNormalization())\n",
    "\n",
    "aug_model_7.add(layers.Flatten())\n",
    "\n",
    "aug_model_7.add(layers.Dense(256, activation='relu'))\n",
    "aug_model_7.add(layers.BatchNormalization())\n",
    "\n",
    "aug_model_7.add(layers.Dense(1, activation='sigmoid', kernel_regularizer=regularizers.l2(0.001)))"
   ]
  },
  {
   "cell_type": "code",
   "execution_count": 285,
   "metadata": {},
   "outputs": [],
   "source": [
    "aug_model_7.compile(optimizer=Adam(lr=0.1), \n",
    "              loss='binary_crossentropy', \n",
    "              metrics=['accuracy'])"
   ]
  },
  {
   "cell_type": "code",
   "execution_count": 286,
   "metadata": {},
   "outputs": [
    {
     "name": "stdout",
     "output_type": "stream",
     "text": [
      "Model: \"sequential_29\"\n",
      "_________________________________________________________________\n",
      "Layer (type)                 Output Shape              Param #   \n",
      "=================================================================\n",
      "conv2d_62 (Conv2D)           (None, 62, 62, 64)        1792      \n",
      "_________________________________________________________________\n",
      "max_pooling2d_51 (MaxPooling (None, 31, 31, 64)        0         \n",
      "_________________________________________________________________\n",
      "batch_normalization_21 (Batc (None, 31, 31, 64)        256       \n",
      "_________________________________________________________________\n",
      "dropout_57 (Dropout)         (None, 31, 31, 64)        0         \n",
      "_________________________________________________________________\n",
      "conv2d_63 (Conv2D)           (None, 29, 29, 128)       73856     \n",
      "_________________________________________________________________\n",
      "max_pooling2d_52 (MaxPooling (None, 14, 14, 128)       0         \n",
      "_________________________________________________________________\n",
      "batch_normalization_22 (Batc (None, 14, 14, 128)       512       \n",
      "_________________________________________________________________\n",
      "flatten_29 (Flatten)         (None, 25088)             0         \n",
      "_________________________________________________________________\n",
      "dense_59 (Dense)             (None, 256)               6422784   \n",
      "_________________________________________________________________\n",
      "batch_normalization_23 (Batc (None, 256)               1024      \n",
      "_________________________________________________________________\n",
      "dense_60 (Dense)             (None, 1)                 257       \n",
      "=================================================================\n",
      "Total params: 6,500,481\n",
      "Trainable params: 6,499,585\n",
      "Non-trainable params: 896\n",
      "_________________________________________________________________\n"
     ]
    }
   ],
   "source": [
    "aug_model_7.summary()"
   ]
  },
  {
   "cell_type": "code",
   "execution_count": 287,
   "metadata": {},
   "outputs": [
    {
     "name": "stdout",
     "output_type": "stream",
     "text": [
      "Epoch 1/25\n",
      "10/10 [==============================] - 5s 479ms/step - loss: 1.9141 - accuracy: 0.6114\n",
      "Epoch 2/25\n",
      "10/10 [==============================] - 5s 461ms/step - loss: 0.7222 - accuracy: 0.6914\n",
      "Epoch 3/25\n",
      "10/10 [==============================] - 5s 456ms/step - loss: 0.6210 - accuracy: 0.7171\n",
      "Epoch 4/25\n",
      "10/10 [==============================] - 5s 467ms/step - loss: 0.5691 - accuracy: 0.7443\n",
      "Epoch 5/25\n",
      "10/10 [==============================] - 5s 484ms/step - loss: 0.5413 - accuracy: 0.7543\n",
      "Epoch 6/25\n",
      "10/10 [==============================] - 5s 526ms/step - loss: 0.5171 - accuracy: 0.7629\n",
      "Epoch 7/25\n",
      "10/10 [==============================] - 5s 526ms/step - loss: 0.4767 - accuracy: 0.7686\n",
      "Epoch 8/25\n",
      "10/10 [==============================] - 6s 550ms/step - loss: 0.4799 - accuracy: 0.7629\n",
      "Epoch 9/25\n",
      "10/10 [==============================] - 6s 577ms/step - loss: 0.4618 - accuracy: 0.7671\n",
      "Epoch 10/25\n",
      "10/10 [==============================] - 6s 615ms/step - loss: 0.4491 - accuracy: 0.7757\n",
      "Epoch 11/25\n",
      "10/10 [==============================] - 6s 599ms/step - loss: 0.4244 - accuracy: 0.7986\n",
      "Epoch 12/25\n",
      "10/10 [==============================] - 6s 586ms/step - loss: 0.4047 - accuracy: 0.8100\n",
      "Epoch 13/25\n",
      "10/10 [==============================] - 6s 578ms/step - loss: 0.4033 - accuracy: 0.8171\n",
      "Epoch 14/25\n",
      "10/10 [==============================] - 6s 576ms/step - loss: 0.4159 - accuracy: 0.8143\n",
      "Epoch 15/25\n",
      "10/10 [==============================] - 6s 588ms/step - loss: 0.3944 - accuracy: 0.8143\n",
      "Epoch 16/25\n",
      "10/10 [==============================] - 6s 585ms/step - loss: 0.3671 - accuracy: 0.8171\n",
      "Epoch 17/25\n",
      "10/10 [==============================] - 6s 563ms/step - loss: 0.3575 - accuracy: 0.8443\n",
      "Epoch 18/25\n",
      "10/10 [==============================] - 6s 574ms/step - loss: 0.3230 - accuracy: 0.8586\n",
      "Epoch 19/25\n",
      "10/10 [==============================] - 6s 615ms/step - loss: 0.3386 - accuracy: 0.8729\n",
      "Epoch 20/25\n",
      "10/10 [==============================] - 6s 592ms/step - loss: 0.3537 - accuracy: 0.8529\n",
      "Epoch 21/25\n",
      "10/10 [==============================] - 6s 633ms/step - loss: 0.3627 - accuracy: 0.8514\n",
      "Epoch 22/25\n",
      "10/10 [==============================] - 6s 620ms/step - loss: 0.3552 - accuracy: 0.8500\n",
      "Epoch 23/25\n",
      "10/10 [==============================] - 6s 617ms/step - loss: 0.3487 - accuracy: 0.8414\n",
      "Epoch 24/25\n",
      "10/10 [==============================] - 6s 593ms/step - loss: 0.2829 - accuracy: 0.8914\n",
      "Epoch 25/25\n",
      "10/10 [==============================] - 7s 656ms/step - loss: 0.3108 - accuracy: 0.8700\n"
     ]
    }
   ],
   "source": [
    "aug_results_7 = aug_model_7.fit(aug_train_images, aug_train_labels_final, epochs=25, batch_size=75)"
   ]
  },
  {
   "cell_type": "code",
   "execution_count": 288,
   "metadata": {},
   "outputs": [
    {
     "name": "stdout",
     "output_type": "stream",
     "text": [
      "22/22 [==============================] - 2s 70ms/step - loss: 0.5214 - accuracy: 0.7786\n"
     ]
    }
   ],
   "source": [
    "train_loss, train_acc = aug_model_7.evaluate(aug_train_images, aug_train_labels_final)"
   ]
  },
  {
   "cell_type": "code",
   "execution_count": 289,
   "metadata": {},
   "outputs": [
    {
     "name": "stdout",
     "output_type": "stream",
     "text": [
      "4/4 [==============================] - 0s 44ms/step - loss: 1.0394 - accuracy: 0.6500\n"
     ]
    }
   ],
   "source": [
    "test_loss, test_acc = aug_model_7.evaluate(test_images, test_labels_final)"
   ]
  },
  {
   "cell_type": "markdown",
   "metadata": {},
   "source": [
    "And now it's super overfit.. let's try decreasing the learning rate. "
   ]
  },
  {
   "cell_type": "code",
   "execution_count": 299,
   "metadata": {},
   "outputs": [],
   "source": [
    "aug_model_8 = models.Sequential()\n",
    "aug_model_8.add(layers.Conv2D(64, (3, 3), activation='relu', input_shape=(64, 64, 3)))\n",
    "aug_model_8.add(layers.MaxPooling2D(pool_size=(2, 2)))\n",
    "aug_model_8.add(layers.BatchNormalization())\n",
    "aug_model_8.add(layers.Dropout(0.8))\n",
    "\n",
    "aug_model_8.add(layers.Conv2D(128, (3, 3), activation='relu'))\n",
    "aug_model_8.add(layers.MaxPooling2D(pool_size=(2, 2)))\n",
    "aug_model_8.add(layers.BatchNormalization())\n",
    "\n",
    "aug_model_8.add(layers.Flatten())\n",
    "\n",
    "aug_model_8.add(layers.Dense(256, activation='relu'))\n",
    "aug_model_8.add(layers.BatchNormalization())\n",
    "\n",
    "aug_model_8.add(layers.Dense(1, activation='sigmoid', kernel_regularizer=regularizers.l2(0.001)))"
   ]
  },
  {
   "cell_type": "code",
   "execution_count": 300,
   "metadata": {},
   "outputs": [],
   "source": [
    "aug_model_8.compile(optimizer=Adam(lr=0.001), \n",
    "              loss='binary_crossentropy', \n",
    "              metrics=['accuracy'])"
   ]
  },
  {
   "cell_type": "code",
   "execution_count": 301,
   "metadata": {},
   "outputs": [
    {
     "name": "stdout",
     "output_type": "stream",
     "text": [
      "Epoch 1/25\n",
      "10/10 [==============================] - 6s 560ms/step - loss: 1.0474 - accuracy: 0.6029\n",
      "Epoch 2/25\n",
      "10/10 [==============================] - 6s 560ms/step - loss: 0.5882 - accuracy: 0.7029\n",
      "Epoch 3/25\n",
      "10/10 [==============================] - 6s 557ms/step - loss: 0.5094 - accuracy: 0.7986\n",
      "Epoch 4/25\n",
      "10/10 [==============================] - 6s 550ms/step - loss: 0.4602 - accuracy: 0.8071\n",
      "Epoch 5/25\n",
      "10/10 [==============================] - 6s 564ms/step - loss: 0.4128 - accuracy: 0.8457\n",
      "Epoch 6/25\n",
      "10/10 [==============================] - 6s 553ms/step - loss: 0.3888 - accuracy: 0.8443\n",
      "Epoch 7/25\n",
      "10/10 [==============================] - 6s 556ms/step - loss: 0.3501 - accuracy: 0.8771\n",
      "Epoch 8/25\n",
      "10/10 [==============================] - 5s 543ms/step - loss: 0.3197 - accuracy: 0.8757\n",
      "Epoch 9/25\n",
      "10/10 [==============================] - 5s 527ms/step - loss: 0.2909 - accuracy: 0.8814\n",
      "Epoch 10/25\n",
      "10/10 [==============================] - 5s 523ms/step - loss: 0.2821 - accuracy: 0.8986\n",
      "Epoch 11/25\n",
      "10/10 [==============================] - 5s 519ms/step - loss: 0.2629 - accuracy: 0.8971\n",
      "Epoch 12/25\n",
      "10/10 [==============================] - 5s 511ms/step - loss: 0.2575 - accuracy: 0.9057\n",
      "Epoch 13/25\n",
      "10/10 [==============================] - 5s 522ms/step - loss: 0.2397 - accuracy: 0.9157\n",
      "Epoch 14/25\n",
      "10/10 [==============================] - 5s 526ms/step - loss: 0.2033 - accuracy: 0.9286\n",
      "Epoch 15/25\n",
      "10/10 [==============================] - 5s 548ms/step - loss: 0.1926 - accuracy: 0.9400\n",
      "Epoch 16/25\n",
      "10/10 [==============================] - 6s 573ms/step - loss: 0.1823 - accuracy: 0.9414\n",
      "Epoch 17/25\n",
      "10/10 [==============================] - 6s 575ms/step - loss: 0.1662 - accuracy: 0.9429\n",
      "Epoch 18/25\n",
      "10/10 [==============================] - 6s 556ms/step - loss: 0.1567 - accuracy: 0.9443\n",
      "Epoch 19/25\n",
      "10/10 [==============================] - 5s 542ms/step - loss: 0.1384 - accuracy: 0.9557\n",
      "Epoch 20/25\n",
      "10/10 [==============================] - 5s 531ms/step - loss: 0.1214 - accuracy: 0.9586\n",
      "Epoch 21/25\n",
      "10/10 [==============================] - 5s 523ms/step - loss: 0.1071 - accuracy: 0.9686\n",
      "Epoch 22/25\n",
      "10/10 [==============================] - 5s 523ms/step - loss: 0.1126 - accuracy: 0.9629\n",
      "Epoch 23/25\n",
      "10/10 [==============================] - 5s 528ms/step - loss: 0.1017 - accuracy: 0.9700\n",
      "Epoch 24/25\n",
      "10/10 [==============================] - 5s 537ms/step - loss: 0.1131 - accuracy: 0.9643\n",
      "Epoch 25/25\n",
      "10/10 [==============================] - 6s 575ms/step - loss: 0.1021 - accuracy: 0.9614\n"
     ]
    }
   ],
   "source": [
    "aug_results_8 = aug_model_8.fit(aug_train_images, aug_train_labels_final, epochs=25, batch_size=75)"
   ]
  },
  {
   "cell_type": "code",
   "execution_count": 302,
   "metadata": {},
   "outputs": [
    {
     "name": "stdout",
     "output_type": "stream",
     "text": [
      "22/22 [==============================] - 2s 87ms/step - loss: 0.4870 - accuracy: 0.8557\n"
     ]
    }
   ],
   "source": [
    "train_loss, train_acc = aug_model_8.evaluate(aug_train_images, aug_train_labels_final)"
   ]
  },
  {
   "cell_type": "code",
   "execution_count": 303,
   "metadata": {},
   "outputs": [
    {
     "name": "stdout",
     "output_type": "stream",
     "text": [
      "4/4 [==============================] - 0s 38ms/step - loss: 0.5454 - accuracy: 0.8100\n"
     ]
    }
   ],
   "source": [
    "test_loss, test_acc = aug_model_8.evaluate(test_images, test_labels_final)"
   ]
  },
  {
   "cell_type": "markdown",
   "metadata": {},
   "source": [
    "SO MUCH BETTER! Let's try a smaller learning rate value and see if that helps. "
   ]
  },
  {
   "cell_type": "code",
   "execution_count": 304,
   "metadata": {},
   "outputs": [],
   "source": [
    "aug_model_9 = models.Sequential()\n",
    "aug_model_9.add(layers.Conv2D(64, (3, 3), activation='relu', input_shape=(64, 64, 3)))\n",
    "aug_model_9.add(layers.MaxPooling2D(pool_size=(2, 2)))\n",
    "aug_model_9.add(layers.BatchNormalization())\n",
    "aug_model_9.add(layers.Dropout(0.8))\n",
    "\n",
    "aug_model_9.add(layers.Conv2D(128, (3, 3), activation='relu'))\n",
    "aug_model_9.add(layers.MaxPooling2D(pool_size=(2, 2)))\n",
    "aug_model_9.add(layers.BatchNormalization())\n",
    "\n",
    "aug_model_9.add(layers.Flatten())\n",
    "\n",
    "aug_model_9.add(layers.Dense(256, activation='relu'))\n",
    "aug_model_9.add(layers.BatchNormalization())\n",
    "\n",
    "aug_model_9.add(layers.Dense(1, activation='sigmoid', kernel_regularizer=regularizers.l2(0.001)))"
   ]
  },
  {
   "cell_type": "code",
   "execution_count": 305,
   "metadata": {},
   "outputs": [],
   "source": [
    "aug_model_9.compile(optimizer=Adam(lr=0.00001), \n",
    "              loss='binary_crossentropy', \n",
    "              metrics=['accuracy'])"
   ]
  },
  {
   "cell_type": "code",
   "execution_count": 306,
   "metadata": {},
   "outputs": [
    {
     "name": "stdout",
     "output_type": "stream",
     "text": [
      "Epoch 1/25\n",
      "10/10 [==============================] - 5s 511ms/step - loss: 0.8768 - accuracy: 0.5043\n",
      "Epoch 2/25\n",
      "10/10 [==============================] - 5s 511ms/step - loss: 0.7733 - accuracy: 0.5457\n",
      "Epoch 3/25\n",
      "10/10 [==============================] - 5s 532ms/step - loss: 0.7597 - accuracy: 0.5800\n",
      "Epoch 4/25\n",
      "10/10 [==============================] - 5s 462ms/step - loss: 0.7533 - accuracy: 0.5871\n",
      "Epoch 5/25\n",
      "10/10 [==============================] - 5s 515ms/step - loss: 0.7291 - accuracy: 0.6057\n",
      "Epoch 6/25\n",
      "10/10 [==============================] - 6s 581ms/step - loss: 0.7056 - accuracy: 0.6086\n",
      "Epoch 7/25\n",
      "10/10 [==============================] - 6s 563ms/step - loss: 0.6764 - accuracy: 0.6329\n",
      "Epoch 8/25\n",
      "10/10 [==============================] - 6s 570ms/step - loss: 0.6792 - accuracy: 0.6271\n",
      "Epoch 9/25\n",
      "10/10 [==============================] - 5s 540ms/step - loss: 0.6663 - accuracy: 0.6271\n",
      "Epoch 10/25\n",
      "10/10 [==============================] - 5s 522ms/step - loss: 0.6302 - accuracy: 0.6614\n",
      "Epoch 11/25\n",
      "10/10 [==============================] - 7s 680ms/step - loss: 0.6663 - accuracy: 0.6586\n",
      "Epoch 12/25\n",
      "10/10 [==============================] - 6s 612ms/step - loss: 0.6382 - accuracy: 0.6471\n",
      "Epoch 13/25\n",
      "10/10 [==============================] - 6s 617ms/step - loss: 0.6232 - accuracy: 0.6914\n",
      "Epoch 14/25\n",
      "10/10 [==============================] - 5s 511ms/step - loss: 0.6278 - accuracy: 0.6843\n",
      "Epoch 15/25\n",
      "10/10 [==============================] - 5s 499ms/step - loss: 0.6247 - accuracy: 0.6929\n",
      "Epoch 16/25\n",
      "10/10 [==============================] - 5s 500ms/step - loss: 0.6133 - accuracy: 0.6829\n",
      "Epoch 17/25\n",
      "10/10 [==============================] - 5s 494ms/step - loss: 0.6384 - accuracy: 0.6571\n",
      "Epoch 18/25\n",
      "10/10 [==============================] - 5s 539ms/step - loss: 0.5964 - accuracy: 0.6871\n",
      "Epoch 19/25\n",
      "10/10 [==============================] - 5s 512ms/step - loss: 0.6115 - accuracy: 0.6800\n",
      "Epoch 20/25\n",
      "10/10 [==============================] - 6s 556ms/step - loss: 0.5713 - accuracy: 0.7214\n",
      "Epoch 21/25\n",
      "10/10 [==============================] - 5s 483ms/step - loss: 0.5984 - accuracy: 0.7043\n",
      "Epoch 22/25\n",
      "10/10 [==============================] - 6s 575ms/step - loss: 0.5652 - accuracy: 0.7029\n",
      "Epoch 23/25\n",
      "10/10 [==============================] - 5s 494ms/step - loss: 0.5499 - accuracy: 0.7457\n",
      "Epoch 24/25\n",
      "10/10 [==============================] - 4s 399ms/step - loss: 0.5541 - accuracy: 0.7200\n",
      "Epoch 25/25\n",
      "10/10 [==============================] - 5s 500ms/step - loss: 0.5620 - accuracy: 0.7329\n"
     ]
    }
   ],
   "source": [
    "aug_results_9 = aug_model_9.fit(aug_train_images, aug_train_labels_final, epochs=25, batch_size=75)"
   ]
  },
  {
   "cell_type": "code",
   "execution_count": 307,
   "metadata": {},
   "outputs": [
    {
     "name": "stdout",
     "output_type": "stream",
     "text": [
      "22/22 [==============================] - 2s 69ms/step - loss: 0.5848 - accuracy: 0.7529\n"
     ]
    }
   ],
   "source": [
    "train_loss, train_acc = aug_model_9.evaluate(aug_train_images, aug_train_labels_final)"
   ]
  },
  {
   "cell_type": "code",
   "execution_count": 308,
   "metadata": {},
   "outputs": [
    {
     "name": "stdout",
     "output_type": "stream",
     "text": [
      "4/4 [==============================] - 0s 37ms/step - loss: 0.6472 - accuracy: 0.6100\n"
     ]
    }
   ],
   "source": [
    "test_loss, test_acc = aug_model_9.evaluate(test_images, test_labels_final)"
   ]
  },
  {
   "cell_type": "markdown",
   "metadata": {},
   "source": [
    "This is a little worse. Let's try increasing the learning rate to be in the middle model 8 and model 9. "
   ]
  },
  {
   "cell_type": "code",
   "execution_count": 309,
   "metadata": {},
   "outputs": [],
   "source": [
    "aug_model_10 = models.Sequential()\n",
    "aug_model_10.add(layers.Conv2D(64, (3, 3), activation='relu', input_shape=(64, 64, 3)))\n",
    "aug_model_10.add(layers.MaxPooling2D(pool_size=(2, 2)))\n",
    "aug_model_10.add(layers.BatchNormalization())\n",
    "aug_model_10.add(layers.Dropout(0.8))\n",
    "\n",
    "aug_model_10.add(layers.Conv2D(128, (3, 3), activation='relu'))\n",
    "aug_model_10.add(layers.MaxPooling2D(pool_size=(2, 2)))\n",
    "aug_model_10.add(layers.BatchNormalization())\n",
    "\n",
    "aug_model_10.add(layers.Flatten())\n",
    "\n",
    "aug_model_10.add(layers.Dense(256, activation='relu'))\n",
    "aug_model_10.add(layers.BatchNormalization())\n",
    "\n",
    "aug_model_10.add(layers.Dense(1, activation='sigmoid', kernel_regularizer=regularizers.l2(0.001)))"
   ]
  },
  {
   "cell_type": "code",
   "execution_count": 311,
   "metadata": {},
   "outputs": [],
   "source": [
    "aug_model_10.compile(optimizer=Adam(lr=0.001), \n",
    "              loss='binary_crossentropy', \n",
    "              metrics=['accuracy'])"
   ]
  },
  {
   "cell_type": "code",
   "execution_count": 312,
   "metadata": {},
   "outputs": [
    {
     "name": "stdout",
     "output_type": "stream",
     "text": [
      "Epoch 1/25\n",
      "10/10 [==============================] - 3s 289ms/step - loss: 2.7843 - accuracy: 0.4829\n",
      "Epoch 2/25\n",
      "10/10 [==============================] - 5s 453ms/step - loss: 0.7599 - accuracy: 0.6029\n",
      "Epoch 3/25\n",
      "10/10 [==============================] - 5s 488ms/step - loss: 0.5666 - accuracy: 0.7271\n",
      "Epoch 4/25\n",
      "10/10 [==============================] - 5s 491ms/step - loss: 0.5182 - accuracy: 0.7500\n",
      "Epoch 5/25\n",
      "10/10 [==============================] - 5s 478ms/step - loss: 0.4783 - accuracy: 0.8000\n",
      "Epoch 6/25\n",
      "10/10 [==============================] - 5s 514ms/step - loss: 0.4323 - accuracy: 0.8314\n",
      "Epoch 7/25\n",
      "10/10 [==============================] - 5s 529ms/step - loss: 0.4126 - accuracy: 0.8257\n",
      "Epoch 8/25\n",
      "10/10 [==============================] - 5s 535ms/step - loss: 0.3620 - accuracy: 0.8714\n",
      "Epoch 9/25\n",
      "10/10 [==============================] - 5s 522ms/step - loss: 0.3355 - accuracy: 0.8671\n",
      "Epoch 10/25\n",
      "10/10 [==============================] - 5s 526ms/step - loss: 0.3179 - accuracy: 0.8786\n",
      "Epoch 11/25\n",
      "10/10 [==============================] - 5s 525ms/step - loss: 0.3084 - accuracy: 0.8771\n",
      "Epoch 12/25\n",
      "10/10 [==============================] - 5s 514ms/step - loss: 0.2749 - accuracy: 0.8971\n",
      "Epoch 13/25\n",
      "10/10 [==============================] - 5s 472ms/step - loss: 0.2679 - accuracy: 0.9057\n",
      "Epoch 14/25\n",
      "10/10 [==============================] - 5s 480ms/step - loss: 0.2514 - accuracy: 0.9043\n",
      "Epoch 15/25\n",
      "10/10 [==============================] - 5s 492ms/step - loss: 0.2284 - accuracy: 0.9129\n",
      "Epoch 16/25\n",
      "10/10 [==============================] - 5s 476ms/step - loss: 0.2249 - accuracy: 0.9157\n",
      "Epoch 17/25\n",
      "10/10 [==============================] - 5s 456ms/step - loss: 0.2045 - accuracy: 0.9271\n",
      "Epoch 18/25\n",
      "10/10 [==============================] - 5s 450ms/step - loss: 0.2088 - accuracy: 0.9314\n",
      "Epoch 19/25\n",
      "10/10 [==============================] - 4s 434ms/step - loss: 0.1796 - accuracy: 0.9429\n",
      "Epoch 20/25\n",
      "10/10 [==============================] - 4s 435ms/step - loss: 0.1993 - accuracy: 0.9243\n",
      "Epoch 21/25\n",
      "10/10 [==============================] - 6s 634ms/step - loss: 0.1663 - accuracy: 0.9457\n",
      "Epoch 22/25\n",
      "10/10 [==============================] - 7s 689ms/step - loss: 0.1642 - accuracy: 0.9329\n",
      "Epoch 23/25\n",
      "10/10 [==============================] - 8s 833ms/step - loss: 0.1265 - accuracy: 0.9643\n",
      "Epoch 24/25\n",
      "10/10 [==============================] - 7s 750ms/step - loss: 0.1139 - accuracy: 0.9686\n",
      "Epoch 25/25\n",
      "10/10 [==============================] - 6s 584ms/step - loss: 0.1108 - accuracy: 0.9700\n"
     ]
    }
   ],
   "source": [
    "aug_results_10 = aug_model_10.fit(aug_train_images, aug_train_labels_final, epochs=25, batch_size=75)"
   ]
  },
  {
   "cell_type": "code",
   "execution_count": 313,
   "metadata": {},
   "outputs": [
    {
     "name": "stdout",
     "output_type": "stream",
     "text": [
      "22/22 [==============================] - 1s 61ms/step - loss: 0.7940 - accuracy: 0.4886\n"
     ]
    }
   ],
   "source": [
    "train_loss, train_acc = aug_model_10.evaluate(aug_train_images, aug_train_labels_final)"
   ]
  },
  {
   "cell_type": "code",
   "execution_count": 314,
   "metadata": {},
   "outputs": [
    {
     "name": "stdout",
     "output_type": "stream",
     "text": [
      "4/4 [==============================] - 0s 36ms/step - loss: 0.5004 - accuracy: 0.7800\n"
     ]
    }
   ],
   "source": [
    "test_loss, test_acc = aug_model_10.evaluate(test_images, test_labels_final)"
   ]
  },
  {
   "cell_type": "markdown",
   "metadata": {},
   "source": [
    "This is very underfit. Amazing how changing the learning rate slightly has such an impact. \n",
    "\n",
    "So far, the best model is the augmented model #8. Let's try the exact same model, but using tanh instead of relu."
   ]
  },
  {
   "cell_type": "code",
   "execution_count": 330,
   "metadata": {},
   "outputs": [],
   "source": [
    "aug_model_11 = models.Sequential()\n",
    "aug_model_11.add(layers.Conv2D(64, (3, 3), activation='tanh', input_shape=(64, 64, 3)))\n",
    "aug_model_11.add(layers.MaxPooling2D(pool_size=(2, 2)))\n",
    "aug_model_11.add(layers.BatchNormalization())\n",
    "aug_model_11.add(layers.Dropout(0.8))\n",
    "\n",
    "aug_model_11.add(layers.Conv2D(128, (3, 3), activation='tanh'))\n",
    "aug_model_11.add(layers.MaxPooling2D(pool_size=(2, 2)))\n",
    "aug_model_11.add(layers.BatchNormalization())\n",
    "\n",
    "aug_model_11.add(layers.Flatten())\n",
    "\n",
    "aug_model_11.add(layers.Dense(256, activation='tanh'))\n",
    "aug_model_11.add(layers.BatchNormalization())\n",
    "\n",
    "aug_model_11.add(layers.Dense(1, activation='sigmoid', kernel_regularizer=regularizers.l2(0.001)))"
   ]
  },
  {
   "cell_type": "code",
   "execution_count": 331,
   "metadata": {},
   "outputs": [],
   "source": [
    "aug_model_11.compile(optimizer=Adam(lr=0.001), \n",
    "              loss='binary_crossentropy', \n",
    "              metrics=['accuracy'])"
   ]
  },
  {
   "cell_type": "code",
   "execution_count": 332,
   "metadata": {},
   "outputs": [
    {
     "name": "stdout",
     "output_type": "stream",
     "text": [
      "Epoch 1/25\n",
      "10/10 [==============================] - 5s 538ms/step - loss: 2.0091 - accuracy: 0.5486\n",
      "Epoch 2/25\n",
      "10/10 [==============================] - 5s 505ms/step - loss: 0.6550 - accuracy: 0.6614\n",
      "Epoch 3/25\n",
      "10/10 [==============================] - 5s 499ms/step - loss: 0.5309 - accuracy: 0.7929\n",
      "Epoch 4/25\n",
      "10/10 [==============================] - 5s 518ms/step - loss: 0.4943 - accuracy: 0.7700\n",
      "Epoch 5/25\n",
      "10/10 [==============================] - 5s 513ms/step - loss: 0.4330 - accuracy: 0.8200\n",
      "Epoch 6/25\n",
      "10/10 [==============================] - 4s 394ms/step - loss: 0.3814 - accuracy: 0.8443\n",
      "Epoch 7/25\n",
      "10/10 [==============================] - 3s 274ms/step - loss: 0.3581 - accuracy: 0.8586\n",
      "Epoch 8/25\n",
      "10/10 [==============================] - 3s 283ms/step - loss: 0.3485 - accuracy: 0.8500\n",
      "Epoch 9/25\n",
      "10/10 [==============================] - 3s 267ms/step - loss: 0.3121 - accuracy: 0.8857\n",
      "Epoch 10/25\n",
      "10/10 [==============================] - 3s 268ms/step - loss: 0.2989 - accuracy: 0.8814\n",
      "Epoch 11/25\n",
      "10/10 [==============================] - 3s 269ms/step - loss: 0.3183 - accuracy: 0.8814\n",
      "Epoch 12/25\n",
      "10/10 [==============================] - 3s 269ms/step - loss: 0.2827 - accuracy: 0.8871\n",
      "Epoch 13/25\n",
      "10/10 [==============================] - 3s 268ms/step - loss: 0.2552 - accuracy: 0.9029\n",
      "Epoch 14/25\n",
      "10/10 [==============================] - 3s 270ms/step - loss: 0.2693 - accuracy: 0.8843\n",
      "Epoch 15/25\n",
      "10/10 [==============================] - 3s 271ms/step - loss: 0.2396 - accuracy: 0.9043\n",
      "Epoch 16/25\n",
      "10/10 [==============================] - 3s 277ms/step - loss: 0.2165 - accuracy: 0.9143\n",
      "Epoch 17/25\n",
      "10/10 [==============================] - 3s 281ms/step - loss: 0.2302 - accuracy: 0.8971\n",
      "Epoch 18/25\n",
      "10/10 [==============================] - 3s 284ms/step - loss: 0.2104 - accuracy: 0.9129\n",
      "Epoch 19/25\n",
      "10/10 [==============================] - 3s 285ms/step - loss: 0.2061 - accuracy: 0.9243\n",
      "Epoch 20/25\n",
      "10/10 [==============================] - 3s 286ms/step - loss: 0.1854 - accuracy: 0.9314\n",
      "Epoch 21/25\n",
      "10/10 [==============================] - 3s 285ms/step - loss: 0.1880 - accuracy: 0.9214\n",
      "Epoch 22/25\n",
      "10/10 [==============================] - 3s 285ms/step - loss: 0.1759 - accuracy: 0.9314\n",
      "Epoch 23/25\n",
      "10/10 [==============================] - 3s 287ms/step - loss: 0.1582 - accuracy: 0.9443\n",
      "Epoch 24/25\n",
      "10/10 [==============================] - 3s 287ms/step - loss: 0.1546 - accuracy: 0.9371\n",
      "Epoch 25/25\n",
      "10/10 [==============================] - 3s 289ms/step - loss: 0.1553 - accuracy: 0.9371\n"
     ]
    }
   ],
   "source": [
    "aug_results_11 = aug_model_11.fit(aug_train_images, aug_train_labels_final, epochs=25, batch_size=75)"
   ]
  },
  {
   "cell_type": "code",
   "execution_count": 333,
   "metadata": {},
   "outputs": [
    {
     "name": "stdout",
     "output_type": "stream",
     "text": [
      "22/22 [==============================] - 1s 32ms/step - loss: 0.5028 - accuracy: 0.7800\n"
     ]
    }
   ],
   "source": [
    "train_loss, train_acc = aug_model_11.evaluate(aug_train_images, aug_train_labels_final)"
   ]
  },
  {
   "cell_type": "code",
   "execution_count": 334,
   "metadata": {},
   "outputs": [
    {
     "name": "stdout",
     "output_type": "stream",
     "text": [
      "4/4 [==============================] - 0s 17ms/step - loss: 0.6123 - accuracy: 0.6700\n"
     ]
    }
   ],
   "source": [
    "test_loss, test_acc = aug_model_11.evaluate(test_images, test_labels_final)"
   ]
  },
  {
   "cell_type": "markdown",
   "metadata": {},
   "source": [
    "Did a little worse with tanh. Sticking with model 8!"
   ]
  },
  {
   "cell_type": "markdown",
   "metadata": {},
   "source": [
    "### Picking a final model"
   ]
  },
  {
   "cell_type": "markdown",
   "metadata": {},
   "source": [
    "The augmented model 8 had the highest results, so let's run it again and set it as our final model. "
   ]
  },
  {
   "cell_type": "code",
   "execution_count": 441,
   "metadata": {},
   "outputs": [],
   "source": [
    "aug_model_8 = models.Sequential()\n",
    "aug_model_8.add(layers.Conv2D(64, (3, 3), activation='relu', input_shape=(64, 64, 3)))\n",
    "aug_model_8.add(layers.MaxPooling2D(pool_size=(2, 2)))\n",
    "aug_model_8.add(layers.BatchNormalization())\n",
    "aug_model_8.add(layers.Dropout(0.8))\n",
    "\n",
    "aug_model_8.add(layers.Conv2D(128, (3, 3), activation='relu'))\n",
    "aug_model_8.add(layers.MaxPooling2D(pool_size=(2, 2)))\n",
    "aug_model_8.add(layers.BatchNormalization())\n",
    "\n",
    "aug_model_8.add(layers.Flatten())\n",
    "\n",
    "aug_model_8.add(layers.Dense(256, activation='relu'))\n",
    "aug_model_8.add(layers.BatchNormalization())\n",
    "\n",
    "aug_model_8.add(layers.Dense(1, activation='sigmoid', kernel_regularizer=regularizers.l2(0.001)))"
   ]
  },
  {
   "cell_type": "code",
   "execution_count": 442,
   "metadata": {},
   "outputs": [],
   "source": [
    "aug_model_8.compile(optimizer=Adam(lr=0.001), \n",
    "              loss='binary_crossentropy', \n",
    "              metrics=['accuracy', Recall(), Precision()])"
   ]
  },
  {
   "cell_type": "code",
   "execution_count": 443,
   "metadata": {},
   "outputs": [
    {
     "name": "stdout",
     "output_type": "stream",
     "text": [
      "Epoch 1/25\n",
      "10/10 [==============================] - 8s 761ms/step - loss: 3.6549 - accuracy: 0.5343 - recall_5: 0.5455 - precision_5: 0.2807\n",
      "Epoch 2/25\n",
      "10/10 [==============================] - 7s 662ms/step - loss: 1.1090 - accuracy: 0.6500 - recall_5: 0.6534 - precision_5: 0.3846\n",
      "Epoch 3/25\n",
      "10/10 [==============================] - 6s 634ms/step - loss: 0.6307 - accuracy: 0.6971 - recall_5: 0.6364 - precision_5: 0.4308\n",
      "Epoch 4/25\n",
      "10/10 [==============================] - 6s 639ms/step - loss: 0.4976 - accuracy: 0.7943 - recall_5: 0.5909 - precision_5: 0.5909\n",
      "Epoch 5/25\n",
      "10/10 [==============================] - 6s 626ms/step - loss: 0.4468 - accuracy: 0.8129 - recall_5: 0.6364 - precision_5: 0.6257\n",
      "Epoch 6/25\n",
      "10/10 [==============================] - 6s 639ms/step - loss: 0.4111 - accuracy: 0.8314 - recall_5: 0.6534 - precision_5: 0.6686\n",
      "Epoch 7/25\n",
      "10/10 [==============================] - 8s 800ms/step - loss: 0.3834 - accuracy: 0.8529 - recall_5: 0.6761 - precision_5: 0.7212\n",
      "Epoch 8/25\n",
      "10/10 [==============================] - 8s 836ms/step - loss: 0.3560 - accuracy: 0.8686 - recall_5: 0.7159 - precision_5: 0.7500\n",
      "Epoch 9/25\n",
      "10/10 [==============================] - 13s 1s/step - loss: 0.3285 - accuracy: 0.8729 - recall_5: 0.6989 - precision_5: 0.7736\n",
      "Epoch 10/25\n",
      "10/10 [==============================] - 10s 1s/step - loss: 0.2975 - accuracy: 0.8886 - recall_5: 0.7841 - precision_5: 0.7753\n",
      "Epoch 11/25\n",
      "10/10 [==============================] - 11s 1s/step - loss: 0.2686 - accuracy: 0.8986 - recall_5: 0.8352 - precision_5: 0.7778\n",
      "Epoch 12/25\n",
      "10/10 [==============================] - 10s 1s/step - loss: 0.2512 - accuracy: 0.9200 - recall_5: 0.8352 - precision_5: 0.8448\n",
      "Epoch 13/25\n",
      "10/10 [==============================] - 9s 919ms/step - loss: 0.2338 - accuracy: 0.9214 - recall_5: 0.8409 - precision_5: 0.8457\n",
      "Epoch 14/25\n",
      "10/10 [==============================] - 7s 692ms/step - loss: 0.2017 - accuracy: 0.9486 - recall_5: 0.8580 - precision_5: 0.9321\n",
      "Epoch 15/25\n",
      "10/10 [==============================] - 7s 681ms/step - loss: 0.2059 - accuracy: 0.9271 - recall_5: 0.8466 - precision_5: 0.8613\n",
      "Epoch 16/25\n",
      "10/10 [==============================] - 4s 427ms/step - loss: 0.1770 - accuracy: 0.9486 - recall_5: 0.8580 - precision_5: 0.9321\n",
      "Epoch 17/25\n",
      "10/10 [==============================] - 3s 283ms/step - loss: 0.1614 - accuracy: 0.9514 - recall_5: 0.8977 - precision_5: 0.9080\n",
      "Epoch 18/25\n",
      "10/10 [==============================] - 3s 280ms/step - loss: 0.1361 - accuracy: 0.9600 - recall_5: 0.9091 - precision_5: 0.9302\n",
      "Epoch 19/25\n",
      "10/10 [==============================] - 3s 276ms/step - loss: 0.1534 - accuracy: 0.9514 - recall_5: 0.8750 - precision_5: 0.9277\n",
      "Epoch 20/25\n",
      "10/10 [==============================] - 3s 282ms/step - loss: 0.1466 - accuracy: 0.9557 - recall_5: 0.9148 - precision_5: 0.9096\n",
      "Epoch 21/25\n",
      "10/10 [==============================] - 3s 289ms/step - loss: 0.1183 - accuracy: 0.9729 - recall_5: 0.9545 - precision_5: 0.9385\n",
      "Epoch 22/25\n",
      "10/10 [==============================] - 3s 293ms/step - loss: 0.1168 - accuracy: 0.9757 - recall_5: 0.9545 - precision_5: 0.9492\n",
      "Epoch 23/25\n",
      "10/10 [==============================] - 3s 325ms/step - loss: 0.0820 - accuracy: 0.9786 - recall_5: 0.9886 - precision_5: 0.9305\n",
      "Epoch 24/25\n",
      "10/10 [==============================] - 3s 330ms/step - loss: 0.0696 - accuracy: 0.9929 - recall_5: 0.9943 - precision_5: 0.9777\n",
      "Epoch 25/25\n",
      "10/10 [==============================] - 3s 322ms/step - loss: 0.0905 - accuracy: 0.9643 - recall_5: 0.9432 - precision_5: 0.9171\n"
     ]
    }
   ],
   "source": [
    "aug_results_8 = aug_model_8.fit(aug_train_images, aug_train_labels_final, epochs=25, batch_size=75)"
   ]
  },
  {
   "cell_type": "code",
   "execution_count": 444,
   "metadata": {},
   "outputs": [
    {
     "name": "stdout",
     "output_type": "stream",
     "text": [
      "22/22 [==============================] - 1s 36ms/step - loss: 0.5485 - accuracy: 0.8757 - recall_5: 0.7670 - precision_5: 0.7459\n"
     ]
    }
   ],
   "source": [
    "aug_model_8_results_train = aug_model_8.evaluate(aug_train_images, aug_train_labels_final)"
   ]
  },
  {
   "cell_type": "code",
   "execution_count": 445,
   "metadata": {},
   "outputs": [
    {
     "name": "stdout",
     "output_type": "stream",
     "text": [
      "4/4 [==============================] - 0s 19ms/step - loss: 0.5422 - accuracy: 0.9000 - recall_5: 0.8462 - precision_5: 0.8919\n"
     ]
    }
   ],
   "source": [
    "aug_model_8_results_test = aug_model_8.evaluate(test_images, test_labels_final)"
   ]
  },
  {
   "cell_type": "markdown",
   "metadata": {},
   "source": [
    "Train accuracy is 88% and test accuracy is 90%. Finally! It's not overfit, and we have great scores. Let's set this as our final model and evaluate it. "
   ]
  },
  {
   "cell_type": "markdown",
   "metadata": {},
   "source": [
    "#### Setting the final model"
   ]
  },
  {
   "cell_type": "code",
   "execution_count": 474,
   "metadata": {},
   "outputs": [],
   "source": [
    "final_model = aug_model_8"
   ]
  },
  {
   "cell_type": "code",
   "execution_count": 475,
   "metadata": {},
   "outputs": [],
   "source": [
    "final_results = aug_results_8"
   ]
  },
  {
   "cell_type": "code",
   "execution_count": 476,
   "metadata": {},
   "outputs": [
    {
     "name": "stdout",
     "output_type": "stream",
     "text": [
      "22/22 [==============================] - 2s 72ms/step - loss: 0.5485 - accuracy: 0.8757 - recall_5: 0.7670 - precision_5: 0.7459\n"
     ]
    }
   ],
   "source": [
    "final_train_loss, final_train_acc, \\\n",
    "final_train_recall, final_train_precision = final_model.evaluate(aug_train_images, aug_train_labels_final)"
   ]
  },
  {
   "cell_type": "code",
   "execution_count": 477,
   "metadata": {},
   "outputs": [
    {
     "name": "stdout",
     "output_type": "stream",
     "text": [
      "4/4 [==============================] - 0s 42ms/step - loss: 0.5422 - accuracy: 0.9000 - recall_5: 0.8462 - precision_5: 0.8919\n"
     ]
    }
   ],
   "source": [
    "final_test_loss, final_test_acc, \\\n",
    "final_test_recall, final_test_precision = final_model.evaluate(test_images, test_labels_final)"
   ]
  },
  {
   "cell_type": "code",
   "execution_count": 478,
   "metadata": {},
   "outputs": [
    {
     "name": "stdout",
     "output_type": "stream",
     "text": [
      "Final Train Loss: 0.5485\n",
      "Final Train Accuracy: 0.8757\n",
      "Final Train Recall: 0.767\n",
      "Final Train Precision: 0.7459\n",
      "------------------------------------------\n",
      "Final Test Loss: 0.5422\n",
      "Final Test Accuracy: 0.9\n",
      "Final Test Recall: 0.8462\n",
      "Final Test Precision: 0.8919\n"
     ]
    }
   ],
   "source": [
    "print(f\"Final Train Loss: {round(final_train_loss,4)}\")\n",
    "print(f\"Final Train Accuracy: {round(final_train_acc,4)}\")\n",
    "print(f\"Final Train Recall: {round(final_train_recall,4)}\")\n",
    "print(f\"Final Train Precision: {round(final_train_precision,4)}\")\n",
    "print(\"------------------------------------------\")\n",
    "print(f\"Final Test Loss: {round(final_test_loss,4)}\")\n",
    "print(f\"Final Test Accuracy: {round(final_test_acc,4)}\")\n",
    "print(f\"Final Test Recall: {round(final_test_recall,4)}\")\n",
    "print(f\"Final Test Precision: {round(final_test_precision,4)}\")"
   ]
  },
  {
   "cell_type": "code",
   "execution_count": 479,
   "metadata": {},
   "outputs": [
    {
     "name": "stdout",
     "output_type": "stream",
     "text": [
      "Model: \"sequential_45\"\n",
      "_________________________________________________________________\n",
      "Layer (type)                 Output Shape              Param #   \n",
      "=================================================================\n",
      "conv2d_94 (Conv2D)           (None, 62, 62, 64)        1792      \n",
      "_________________________________________________________________\n",
      "max_pooling2d_83 (MaxPooling (None, 31, 31, 64)        0         \n",
      "_________________________________________________________________\n",
      "batch_normalization_69 (Batc (None, 31, 31, 64)        256       \n",
      "_________________________________________________________________\n",
      "dropout_73 (Dropout)         (None, 31, 31, 64)        0         \n",
      "_________________________________________________________________\n",
      "conv2d_95 (Conv2D)           (None, 29, 29, 128)       73856     \n",
      "_________________________________________________________________\n",
      "max_pooling2d_84 (MaxPooling (None, 14, 14, 128)       0         \n",
      "_________________________________________________________________\n",
      "batch_normalization_70 (Batc (None, 14, 14, 128)       512       \n",
      "_________________________________________________________________\n",
      "flatten_45 (Flatten)         (None, 25088)             0         \n",
      "_________________________________________________________________\n",
      "dense_91 (Dense)             (None, 256)               6422784   \n",
      "_________________________________________________________________\n",
      "batch_normalization_71 (Batc (None, 256)               1024      \n",
      "_________________________________________________________________\n",
      "dense_92 (Dense)             (None, 1)                 257       \n",
      "=================================================================\n",
      "Total params: 6,500,481\n",
      "Trainable params: 6,499,585\n",
      "Non-trainable params: 896\n",
      "_________________________________________________________________\n"
     ]
    }
   ],
   "source": [
    "final_model.summary()"
   ]
  },
  {
   "cell_type": "markdown",
   "metadata": {},
   "source": [
    "Test in on the holdout validation data. "
   ]
  },
  {
   "cell_type": "code",
   "execution_count": 480,
   "metadata": {},
   "outputs": [
    {
     "name": "stdout",
     "output_type": "stream",
     "text": [
      "1/1 [==============================] - 0s 2ms/step - loss: 0.6134 - accuracy: 0.5625 - recall_5: 0.2500 - precision_5: 0.6667\n"
     ]
    }
   ],
   "source": [
    "final_val_loss, final_val_acc, \\\n",
    "final_val_recall, final_val_precision = final_model.evaluate(val_images, val_labels_final)"
   ]
  },
  {
   "cell_type": "markdown",
   "metadata": {},
   "source": [
    "#### Plotting the final model"
   ]
  },
  {
   "cell_type": "code",
   "execution_count": 500,
   "metadata": {},
   "outputs": [
    {
     "data": {
      "image/png": "[encoded data removed]",
      "text/plain": [
       "<Figure size 720x360 with 2 Axes>"
      ]
     },
     "metadata": {
      "needs_background": "light"
     },
     "output_type": "display_data"
    }
   ],
   "source": [
    "# this isn't fully correct, think we needed to add validation or test data as the validation set in the compile step\n",
    "# mess around with this tomorrow\n",
    "\n",
    "train_loss = final_results.history['loss']\n",
    "train_accuracy = final_results.history['accuracy']\n",
    "train_recall = final_results.history['recall_5']\n",
    "train_precision = final_results.history['precision_5']\n",
    "\n",
    "fig, (ax1, ax2) = plt.subplots(1, 2, figsize=(10, 5))\n",
    "sns.lineplot(x=final_results.epoch, y=train_loss, ax=ax1, label='train_loss')\n",
    "sns.lineplot(x=final_results.epoch, y=train_accuracy, ax=ax2, label='train_accuracy')\n",
    "\n",
    "sns.lineplot(x=final_results.epoch, y=final_test_loss, ax=ax1, label='test_loss')\n",
    "sns.lineplot(x=final_results.epoch, y=final_test_acc, ax=ax2, label='test_accuracy');"
   ]
  },
  {
   "cell_type": "markdown",
   "metadata": {},
   "source": [
    "Confusion matrix: "
   ]
  },
  {
   "cell_type": "code",
   "execution_count": 535,
   "metadata": {},
   "outputs": [],
   "source": [
    "# make predictions\n",
    "final_preds = final_model.predict(test_images)"
   ]
  },
  {
   "cell_type": "code",
   "execution_count": 536,
   "metadata": {},
   "outputs": [],
   "source": [
    "predicted_classes = [1 if pred > 0.5 else 0 for pred in final_preds]"
   ]
  },
  {
   "cell_type": "code",
   "execution_count": 537,
   "metadata": {},
   "outputs": [],
   "source": [
    "cm = confusion_matrix(y_true=test_labels_final, y_pred=predicted_classes)"
   ]
  },
  {
   "cell_type": "code",
   "execution_count": 539,
   "metadata": {
    "scrolled": true
   },
   "outputs": [
    {
     "data": {
      "image/png": "[encoded data removed]",
      "text/plain": [
       "<Figure size 432x288 with 2 Axes>"
      ]
     },
     "metadata": {
      "needs_background": "light"
     },
     "output_type": "display_data"
    }
   ],
   "source": [
    "ConfusionMatrixDisplay(cm).plot();"
   ]
  },
  {
   "cell_type": "code",
   "execution_count": 533,
   "metadata": {},
   "outputs": [],
   "source": [
    "# getting a smaller confusion matrix because we did batches of 100, not sure why it's not using the entire test set\n",
    "# 57 true negatives, 33 true positives, 6 false negatives and 4 false positives"
   ]
  },
  {
   "cell_type": "code",
   "execution_count": null,
   "metadata": {},
   "outputs": [],
   "source": []
  },
  {
   "cell_type": "code",
   "execution_count": null,
   "metadata": {},
   "outputs": [],
   "source": []
  }
 ],
 "metadata": {
  "kernelspec": {
   "display_name": "Python (learn-env)",
   "language": "python",
   "name": "learn-env"
  },
  "language_info": {
   "codemirror_mode": {
    "name": "ipython",
    "version": 3
   },
   "file_extension": ".py",
   "mimetype": "text/x-python",
   "name": "python",
   "nbconvert_exporter": "python",
   "pygments_lexer": "ipython3",
   "version": "3.8.5"
  }
 },
 "nbformat": 4,
 "nbformat_minor": 4
}
