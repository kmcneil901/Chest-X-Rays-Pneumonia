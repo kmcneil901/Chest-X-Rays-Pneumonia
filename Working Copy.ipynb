{
 "cells": [
  {
   "cell_type": "markdown",
   "metadata": {},
   "source": [
    "# Chest X-Ray Images (Pneumonia)"
   ]
  },
  {
   "cell_type": "markdown",
   "metadata": {},
   "source": [
    "Data found here: https://www.kaggle.com/datasets/paultimothymooney/chest-xray-pneumonia/\n",
    "\n",
    "There are 3 different sets: test, train, validation. Load in all of them. Start with the imports."
   ]
  },
  {
   "cell_type": "code",
   "execution_count": 1,
   "metadata": {},
   "outputs": [],
   "source": [
    "import os\n",
    "import sys\n",
    "module_path = os.path.abspath(os.path.join(os.pardir, os.pardir))\n",
    "if module_path not in sys.path:\n",
    "    sys.path.append(module_path)\n",
    "    \n",
    "import pandas as pd\n",
    "import numpy as np\n",
    "import seaborn as sns\n",
    "import matplotlib.pyplot as plt\n",
    "import matplotlib.image as mpimg\n",
    "\n",
    "from sklearn.model_selection import train_test_split, cross_val_score\n",
    "from sklearn.datasets import load_digits, load_sample_images\n",
    "from sklearn.preprocessing import OneHotEncoder\n",
    "from sklearn.metrics import accuracy_score, confusion_matrix\n",
    "\n",
    "from keras.preprocessing.image import ImageDataGenerator, img_to_array, array_to_img, load_img\n",
    "from tensorflow.keras import datasets, layers, models, callbacks, regularizers\n",
    "from sklearn.metrics import ConfusionMatrixDisplay\n",
    "from keras.optimizers import SGD, Adam\n",
    "\n",
    "%matplotlib inline\n",
    "%load_ext autoreload\n",
    "%autoreload 2"
   ]
  },
  {
   "cell_type": "code",
   "execution_count": 2,
   "metadata": {},
   "outputs": [],
   "source": [
    "# create directory paths to where the data is saved for each train, test, val\n",
    "train_path = 'Data/chest_xray/train'\n",
    "test_path = 'Data/chest_xray/test'\n",
    "val_path = 'Data/chest_xray/val'"
   ]
  },
  {
   "cell_type": "markdown",
   "metadata": {},
   "source": [
    "Before rescaling it, let's get an idea of the size of the original images. Let's load it in with no parameters set except for batch_size."
   ]
  },
  {
   "cell_type": "code",
   "execution_count": 3,
   "metadata": {},
   "outputs": [
    {
     "name": "stdout",
     "output_type": "stream",
     "text": [
      "Found 5216 images belonging to 2 classes.\n",
      "Found 624 images belonging to 2 classes.\n",
      "Found 16 images belonging to 2 classes.\n"
     ]
    }
   ],
   "source": [
    "original_train = ImageDataGenerator().flow_from_directory(train_path, batch_size=5216)\n",
    "original_test = ImageDataGenerator().flow_from_directory(test_path, batch_size=624)\n",
    "original_val = ImageDataGenerator().flow_from_directory(val_path, batch_size=16)\n",
    "\n",
    "original_train_images, original_train_labels = next(original_train)\n",
    "original_test_images, original_test_labels = next(original_test)\n",
    "original_val_images, original_val_labels = next(original_val)"
   ]
  },
  {
   "cell_type": "markdown",
   "metadata": {},
   "source": [
    "I want to know if each image in the images set are the same size. Let's create a list, loop through each image set, then take the set of it to get the unique entries. "
   ]
  },
  {
   "cell_type": "code",
   "execution_count": 4,
   "metadata": {},
   "outputs": [],
   "source": [
    "# loop through each images in the array and add the size to a list\n",
    "\n",
    "train_sizes = []\n",
    "test_sizes = []\n",
    "val_sizes = []\n",
    "\n",
    "for img in original_train_images:\n",
    "    size = np.array(array_to_img(img).size)\n",
    "    train_sizes.append(size)\n",
    "    \n",
    "for img in original_test_images:\n",
    "    size = np.array(array_to_img(img).size)\n",
    "    test_sizes.append(size)\n",
    "    \n",
    "for img in original_val_images:\n",
    "    size = np.array(array_to_img(img).size)\n",
    "    val_sizes.append(size)"
   ]
  },
  {
   "cell_type": "code",
   "execution_count": 5,
   "metadata": {},
   "outputs": [
    {
     "name": "stdout",
     "output_type": "stream",
     "text": [
      "original train size: [(256, 256)]\n",
      "original test size: [(256, 256)]\n",
      "original val size: [(256, 256)]\n"
     ]
    }
   ],
   "source": [
    "# how many unique sizes are in each list? should be the same for each pic\n",
    "# change the list of np arrays into a list of tuples, then take the \"set\" to get unique values\n",
    "\n",
    "unique_train_sizes = list(set([tuple(size) for size in train_sizes]))\n",
    "unique_test_sizes = list(set([tuple(size) for size in test_sizes]))\n",
    "unique_val_sizes = list(set([tuple(size) for size in val_sizes]))\n",
    "\n",
    "print(f\"original train size: {unique_train_sizes}\")\n",
    "print(f\"original test size: {unique_test_sizes}\")\n",
    "print(f\"original val size: {unique_val_sizes}\")"
   ]
  },
  {
   "cell_type": "markdown",
   "metadata": {},
   "source": [
    "So the original scale of all of the pictures was 256 x 256. \n",
    "\n",
    "Let's rescale to 64x64 and normalize. "
   ]
  },
  {
   "cell_type": "code",
   "execution_count": 6,
   "metadata": {},
   "outputs": [],
   "source": [
    "# notes from david\n",
    "# validation - use at very very end to test it\n",
    "# train on test, test against test, validation = holdout set\n",
    "\n",
    "# to do\n",
    "# check size of original images\n",
    "# change target, use sigmoid\n",
    "# change labels from [0,1] to either 0 or 1 since this is binary not multi class"
   ]
  },
  {
   "cell_type": "code",
   "execution_count": 7,
   "metadata": {},
   "outputs": [
    {
     "name": "stdout",
     "output_type": "stream",
     "text": [
      "train max: 255.0\n",
      "test max: 255.0\n",
      "val max: 255.0\n"
     ]
    }
   ],
   "source": [
    "# look at the max of each image for normalization\n",
    "print(f\"train max: {original_train_images[0].max()}\")\n",
    "print(f\"test max: {original_test_images[0].max()}\")\n",
    "print(f\"val max: {original_val_images[0].max()}\")"
   ]
  },
  {
   "cell_type": "code",
   "execution_count": 8,
   "metadata": {
    "scrolled": true
   },
   "outputs": [
    {
     "name": "stdout",
     "output_type": "stream",
     "text": [
      "Found 5216 images belonging to 2 classes.\n",
      "Found 624 images belonging to 2 classes.\n",
      "Found 16 images belonging to 2 classes.\n"
     ]
    }
   ],
   "source": [
    "# load in data\n",
    "# normalize with rescale = 1.0/255\n",
    "# resize each image to be 64x64\n",
    "\n",
    "train_generator = ImageDataGenerator(rescale=1.0/255).flow_from_directory(\n",
    "        train_path, \n",
    "        target_size=(64, 64), batch_size=5216) # look up how it impacts results on doc string\n",
    "\n",
    "test_generator = ImageDataGenerator(rescale=1.0/255).flow_from_directory(\n",
    "        test_path, \n",
    "        target_size=(64, 64), batch_size=624)\n",
    "\n",
    "val_generator = ImageDataGenerator(rescale=1.0/255).flow_from_directory(\n",
    "        val_path, \n",
    "        target_size=(64, 64), batch_size=16)\n",
    "\n",
    "# Create the datasets\n",
    "train_images, train_labels = next(train_generator)\n",
    "test_images, test_labels = next(test_generator)\n",
    "val_images, val_labels = next(val_generator)"
   ]
  },
  {
   "cell_type": "markdown",
   "metadata": {},
   "source": [
    "Check the size and a few images to make sure they loaded correctly. "
   ]
  },
  {
   "cell_type": "code",
   "execution_count": 9,
   "metadata": {},
   "outputs": [
    {
     "data": {
      "text/plain": [
       "(64, 64)"
      ]
     },
     "execution_count": 9,
     "metadata": {},
     "output_type": "execute_result"
    }
   ],
   "source": [
    "array_to_img(train_images[791]).size"
   ]
  },
  {
   "cell_type": "code",
   "execution_count": 10,
   "metadata": {},
   "outputs": [
    {
     "data": {
      "image/png": "[encoded data removed]",
      "text/plain": [
       "<PIL.Image.Image image mode=RGB size=64x64 at 0x1CB870FC910>"
      ]
     },
     "execution_count": 10,
     "metadata": {},
     "output_type": "execute_result"
    }
   ],
   "source": [
    "# check out some images to make sure they loaded properly\n",
    "array_to_img(train_images[791])"
   ]
  },
  {
   "cell_type": "code",
   "execution_count": 11,
   "metadata": {},
   "outputs": [
    {
     "data": {
      "image/png": "[encoded data removed]",
      "text/plain": [
       "<PIL.Image.Image image mode=RGB size=64x64 at 0x1CB87129700>"
      ]
     },
     "execution_count": 11,
     "metadata": {},
     "output_type": "execute_result"
    }
   ],
   "source": [
    "array_to_img(train_images[0])"
   ]
  },
  {
   "cell_type": "code",
   "execution_count": 12,
   "metadata": {},
   "outputs": [
    {
     "data": {
      "image/png": "[encoded data removed]",
      "text/plain": [
       "<PIL.Image.Image image mode=RGB size=64x64 at 0x1CB87129070>"
      ]
     },
     "execution_count": 12,
     "metadata": {},
     "output_type": "execute_result"
    }
   ],
   "source": [
    "array_to_img(test_images[0])"
   ]
  },
  {
   "cell_type": "code",
   "execution_count": 13,
   "metadata": {},
   "outputs": [
    {
     "data": {
      "image/png": "[encoded data removed]",
      "text/plain": [
       "<PIL.Image.Image image mode=RGB size=64x64 at 0x1CB87129460>"
      ]
     },
     "execution_count": 13,
     "metadata": {},
     "output_type": "execute_result"
    }
   ],
   "source": [
    "array_to_img(val_images[0])"
   ]
  },
  {
   "cell_type": "code",
   "execution_count": 14,
   "metadata": {},
   "outputs": [
    {
     "name": "stdout",
     "output_type": "stream",
     "text": [
      "train images: (5216, 64, 64, 3)\n",
      "train labels: (5216, 2)\n",
      "test images: (624, 64, 64, 3)\n",
      "test labels: (624, 2)\n",
      "val images: (16, 64, 64, 3)\n",
      "val labels: (16, 2)\n"
     ]
    }
   ],
   "source": [
    "# look at the shapes\n",
    "print(f\"train images: {train_images.shape}\")\n",
    "print(f\"train labels: {train_labels.shape}\")\n",
    "print(f\"test images: {test_images.shape}\")\n",
    "print(f\"test labels: {test_labels.shape}\")\n",
    "print(f\"val images: {val_images.shape}\")\n",
    "print(f\"val labels: {val_labels.shape}\")"
   ]
  },
  {
   "cell_type": "markdown",
   "metadata": {},
   "source": [
    "The labels each have shape (x, 2) implying it's multiclass. This is a binary classification (it's either pneumonia or normal) so we need to change the shape to be (x, 1). So change output from [0,1] or [1,0] to be either 0 or 1."
   ]
  },
  {
   "cell_type": "code",
   "execution_count": 15,
   "metadata": {},
   "outputs": [
    {
     "data": {
      "text/plain": [
       "{'NORMAL': 0, 'PNEUMONIA': 1}"
      ]
     },
     "execution_count": 15,
     "metadata": {},
     "output_type": "execute_result"
    }
   ],
   "source": [
    "# look at what each data set is classifying as normal vs pneumonia\n",
    "train_generator.class_indices"
   ]
  },
  {
   "cell_type": "code",
   "execution_count": 16,
   "metadata": {},
   "outputs": [
    {
     "data": {
      "text/plain": [
       "{'NORMAL': 0, 'PNEUMONIA': 1}"
      ]
     },
     "execution_count": 16,
     "metadata": {},
     "output_type": "execute_result"
    }
   ],
   "source": [
    "test_generator.class_indices"
   ]
  },
  {
   "cell_type": "code",
   "execution_count": 17,
   "metadata": {},
   "outputs": [
    {
     "data": {
      "text/plain": [
       "{'NORMAL': 0, 'PNEUMONIA': 1}"
      ]
     },
     "execution_count": 17,
     "metadata": {},
     "output_type": "execute_result"
    }
   ],
   "source": [
    "val_generator.class_indices"
   ]
  },
  {
   "cell_type": "markdown",
   "metadata": {},
   "source": [
    "Change the labels from multi to binary"
   ]
  },
  {
   "cell_type": "code",
   "execution_count": 18,
   "metadata": {},
   "outputs": [],
   "source": [
    "# there are 3875 pneumonia images and 1341 normal images\n",
    "# using T[0] targets the minority class (normal) as the positive class (class 1)\n",
    "# The models primary task becomes predicting the normal class, which is the minority class\n",
    "# prioritize recall - want to minimize number of missed pneumonia "
   ]
  },
  {
   "cell_type": "code",
   "execution_count": 19,
   "metadata": {},
   "outputs": [
    {
     "name": "stdout",
     "output_type": "stream",
     "text": [
      "train labels updated shape: (5216,)\n",
      "test labels updated shape: (624,)\n",
      "val labels updated shape: (16,)\n"
     ]
    }
   ],
   "source": [
    "# train_labels.T[0] selects the first row of the transposed matrix. Should correspond to normal.\n",
    "# train_labels.T[1] selects the second row of the transposed matrix. should correspond to pneumonia.\n",
    "# using train_labels.T[0] swaps the results. \n",
    "# so use train_labels.T[1]\n",
    "\n",
    "train_labels_final = train_labels.T[0]\n",
    "test_labels_final = test_labels.T[0]\n",
    "val_labels_final = val_labels.T[0]\n",
    "\n",
    "print(f\"train labels updated shape: {train_labels_final.shape}\")\n",
    "print(f\"test labels updated shape: {test_labels_final.shape}\")\n",
    "print(f\"val labels updated shape: {val_labels_final.shape}\")"
   ]
  },
  {
   "cell_type": "code",
   "execution_count": 20,
   "metadata": {},
   "outputs": [
    {
     "name": "stdout",
     "output_type": "stream",
     "text": [
      "original train labels shape: (5216, 2)\n",
      "updated train labels shape: (5216,)\n"
     ]
    }
   ],
   "source": [
    "print(f\"original train labels shape: {train_labels.shape}\")\n",
    "print(f\"updated train labels shape: {train_labels_final.shape}\")"
   ]
  },
  {
   "cell_type": "markdown",
   "metadata": {},
   "source": [
    "Check it out: visually inspect to see if these labels make sense."
   ]
  },
  {
   "cell_type": "code",
   "execution_count": 21,
   "metadata": {
    "scrolled": true
   },
   "outputs": [
    {
     "data": {
      "image/png": "[encoded data removed]",
      "text/plain": [
       "<PIL.Image.Image image mode=RGB size=64x64 at 0x1CB80D80C40>"
      ]
     },
     "execution_count": 21,
     "metadata": {},
     "output_type": "execute_result"
    }
   ],
   "source": [
    "array_to_img(train_images[241])"
   ]
  },
  {
   "cell_type": "code",
   "execution_count": 22,
   "metadata": {},
   "outputs": [
    {
     "data": {
      "text/plain": [
       "0.0"
      ]
     },
     "execution_count": 22,
     "metadata": {},
     "output_type": "execute_result"
    }
   ],
   "source": [
    "# class 0: this is \"normal\"\n",
    "train_labels_final[241]"
   ]
  },
  {
   "cell_type": "code",
   "execution_count": 23,
   "metadata": {},
   "outputs": [
    {
     "data": {
      "image/png": "[encoded data removed]",
      "text/plain": [
       "<PIL.Image.Image image mode=RGB size=64x64 at 0x1CB80D802E0>"
      ]
     },
     "execution_count": 23,
     "metadata": {},
     "output_type": "execute_result"
    }
   ],
   "source": [
    "array_to_img(train_images[461])"
   ]
  },
  {
   "cell_type": "code",
   "execution_count": 24,
   "metadata": {},
   "outputs": [
    {
     "data": {
      "text/plain": [
       "1.0"
      ]
     },
     "execution_count": 24,
     "metadata": {},
     "output_type": "execute_result"
    }
   ],
   "source": [
    "# class 1: this is \"pneumonia\"\n",
    "train_labels_final[461]"
   ]
  },
  {
   "cell_type": "code",
   "execution_count": 25,
   "metadata": {},
   "outputs": [
    {
     "data": {
      "image/png": "[encoded data removed]",
      "text/plain": [
       "<PIL.Image.Image image mode=RGB size=64x64 at 0x1CB80D80F70>"
      ]
     },
     "execution_count": 25,
     "metadata": {},
     "output_type": "execute_result"
    }
   ],
   "source": [
    "array_to_img(train_images[11])"
   ]
  },
  {
   "cell_type": "code",
   "execution_count": 26,
   "metadata": {},
   "outputs": [
    {
     "data": {
      "text/plain": [
       "1.0"
      ]
     },
     "execution_count": 26,
     "metadata": {},
     "output_type": "execute_result"
    }
   ],
   "source": [
    "# class 1: this is \"pneumonia\"\n",
    "train_labels_final[11]"
   ]
  },
  {
   "cell_type": "code",
   "execution_count": 27,
   "metadata": {},
   "outputs": [
    {
     "data": {
      "image/png": "[encoded data removed]",
      "text/plain": [
       "<PIL.Image.Image image mode=RGB size=64x64 at 0x1CB871293A0>"
      ]
     },
     "execution_count": 27,
     "metadata": {},
     "output_type": "execute_result"
    }
   ],
   "source": [
    "array_to_img(train_images[7])"
   ]
  },
  {
   "cell_type": "code",
   "execution_count": 28,
   "metadata": {},
   "outputs": [
    {
     "data": {
      "text/plain": [
       "1.0"
      ]
     },
     "execution_count": 28,
     "metadata": {},
     "output_type": "execute_result"
    }
   ],
   "source": [
    "# class 1: this is \"pneumonia\"\n",
    "train_labels_final[7]"
   ]
  },
  {
   "cell_type": "code",
   "execution_count": 29,
   "metadata": {},
   "outputs": [
    {
     "data": {
      "image/png": "[encoded data removed]",
      "text/plain": [
       "<PIL.Image.Image image mode=RGB size=64x64 at 0x1CB8007E040>"
      ]
     },
     "execution_count": 29,
     "metadata": {},
     "output_type": "execute_result"
    }
   ],
   "source": [
    "array_to_img(train_images[89])"
   ]
  },
  {
   "cell_type": "code",
   "execution_count": 30,
   "metadata": {},
   "outputs": [
    {
     "data": {
      "text/plain": [
       "0.0"
      ]
     },
     "execution_count": 30,
     "metadata": {},
     "output_type": "execute_result"
    }
   ],
   "source": [
    "# class 0: this is \"normal\"\n",
    "train_labels_final[89]"
   ]
  },
  {
   "cell_type": "code",
   "execution_count": 31,
   "metadata": {},
   "outputs": [],
   "source": [
    "# so switching them means that normal would become class 1 and pneumonia would be class 0. \n",
    "# labels might be switched - look into this morning tomorrow"
   ]
  },
  {
   "cell_type": "code",
   "execution_count": 32,
   "metadata": {
    "scrolled": true
   },
   "outputs": [
    {
     "data": {
      "text/plain": [
       "{'NORMAL': 0, 'PNEUMONIA': 1}"
      ]
     },
     "execution_count": 32,
     "metadata": {},
     "output_type": "execute_result"
    }
   ],
   "source": [
    "train_generator.class_indices"
   ]
  },
  {
   "cell_type": "markdown",
   "metadata": {},
   "source": [
    "Base model: create a basic sequential model with 1 input layer, flatten it, and have a dense output layer. Using sigmoid as the output activation since this is a binary classification. "
   ]
  },
  {
   "cell_type": "code",
   "execution_count": 33,
   "metadata": {},
   "outputs": [],
   "source": [
    "baseline_model = models.Sequential()\n",
    "baseline_model.add(layers.Conv2D(filters=32,\n",
    "                                 kernel_size=(3, 3),\n",
    "                                 activation='relu',\n",
    "                                 input_shape=(64, 64, 3)))\n",
    "\n",
    "baseline_model.add(layers.Flatten())\n",
    "baseline_model.add(layers.Dense(1, activation='sigmoid'))"
   ]
  },
  {
   "cell_type": "code",
   "execution_count": 34,
   "metadata": {},
   "outputs": [
    {
     "name": "stdout",
     "output_type": "stream",
     "text": [
      "Model: \"sequential\"\n",
      "_________________________________________________________________\n",
      "Layer (type)                 Output Shape              Param #   \n",
      "=================================================================\n",
      "conv2d (Conv2D)              (None, 62, 62, 32)        896       \n",
      "_________________________________________________________________\n",
      "flatten (Flatten)            (None, 123008)            0         \n",
      "_________________________________________________________________\n",
      "dense (Dense)                (None, 1)                 123009    \n",
      "=================================================================\n",
      "Total params: 123,905\n",
      "Trainable params: 123,905\n",
      "Non-trainable params: 0\n",
      "_________________________________________________________________\n"
     ]
    }
   ],
   "source": [
    "# look at the smmary\n",
    "baseline_model.summary()"
   ]
  },
  {
   "cell_type": "code",
   "execution_count": 35,
   "metadata": {},
   "outputs": [],
   "source": [
    "# compile it\n",
    "# using adam to start\n",
    "# binary_crossentropy because this is a binary classification\n",
    "\n",
    "baseline_model.compile(optimizer='adam',\n",
    "                       loss='binary_crossentropy',\n",
    "                       metrics=['accuracy'])"
   ]
  },
  {
   "cell_type": "code",
   "execution_count": 36,
   "metadata": {},
   "outputs": [
    {
     "name": "stdout",
     "output_type": "stream",
     "text": [
      "Epoch 1/25\n",
      "70/70 [==============================] - 5s 78ms/step - loss: 0.4426 - accuracy: 0.8499\n",
      "Epoch 2/25\n",
      "70/70 [==============================] - 5s 76ms/step - loss: 0.1226 - accuracy: 0.9538\n",
      "Epoch 3/25\n",
      "70/70 [==============================] - 6s 79ms/step - loss: 0.0867 - accuracy: 0.9705\n",
      "Epoch 4/25\n",
      "70/70 [==============================] - 5s 78ms/step - loss: 0.0679 - accuracy: 0.9770\n",
      "Epoch 5/25\n",
      "70/70 [==============================] - 5s 78ms/step - loss: 0.0542 - accuracy: 0.9829\n",
      "Epoch 6/25\n",
      "70/70 [==============================] - 5s 77ms/step - loss: 0.0437 - accuracy: 0.9881\n",
      "Epoch 7/25\n",
      "70/70 [==============================] - 5s 78ms/step - loss: 0.0433 - accuracy: 0.9852\n",
      "Epoch 8/25\n",
      "70/70 [==============================] - 5s 73ms/step - loss: 0.0432 - accuracy: 0.9873\n",
      "Epoch 9/25\n",
      "70/70 [==============================] - 5s 75ms/step - loss: 0.0273 - accuracy: 0.9941\n",
      "Epoch 10/25\n",
      "70/70 [==============================] - 5s 76ms/step - loss: 0.0260 - accuracy: 0.9946\n",
      "Epoch 11/25\n",
      "70/70 [==============================] - 5s 78ms/step - loss: 0.0186 - accuracy: 0.9973\n",
      "Epoch 12/25\n",
      "70/70 [==============================] - 5s 75ms/step - loss: 0.0166 - accuracy: 0.9981\n",
      "Epoch 13/25\n",
      "70/70 [==============================] - 6s 81ms/step - loss: 0.0136 - accuracy: 0.9990\n",
      "Epoch 14/25\n",
      "70/70 [==============================] - 6s 80ms/step - loss: 0.0164 - accuracy: 0.9967\n",
      "Epoch 15/25\n",
      "70/70 [==============================] - 6s 81ms/step - loss: 0.0080 - accuracy: 0.9998\n",
      "Epoch 16/25\n",
      "70/70 [==============================] - 6s 79ms/step - loss: 0.0066 - accuracy: 1.0000\n",
      "Epoch 17/25\n",
      "70/70 [==============================] - 6s 82ms/step - loss: 0.0057 - accuracy: 1.0000\n",
      "Epoch 18/25\n",
      "70/70 [==============================] - 5s 75ms/step - loss: 0.0048 - accuracy: 1.0000\n",
      "Epoch 19/25\n",
      "70/70 [==============================] - 5s 78ms/step - loss: 0.0044 - accuracy: 1.0000\n",
      "Epoch 20/25\n",
      "70/70 [==============================] - 6s 79ms/step - loss: 0.0043 - accuracy: 1.0000\n",
      "Epoch 21/25\n",
      "70/70 [==============================] - 6s 80ms/step - loss: 0.0036 - accuracy: 1.0000\n",
      "Epoch 22/25\n",
      "70/70 [==============================] - 6s 84ms/step - loss: 0.0028 - accuracy: 1.0000\n",
      "Epoch 23/25\n",
      "70/70 [==============================] - 6s 86ms/step - loss: 0.0028 - accuracy: 1.0000\n",
      "Epoch 24/25\n",
      "70/70 [==============================] - 6s 82ms/step - loss: 0.0025 - accuracy: 1.0000\n",
      "Epoch 25/25\n",
      "70/70 [==============================] - 6s 81ms/step - loss: 0.0024 - accuracy: 1.0000\n"
     ]
    }
   ],
   "source": [
    "# fit on the model\n",
    "baseline_results = baseline_model.fit(train_images, \n",
    "                                      train_labels_final, \n",
    "                                      epochs=25, \n",
    "                                      batch_size=75)"
   ]
  },
  {
   "cell_type": "code",
   "execution_count": 37,
   "metadata": {},
   "outputs": [
    {
     "name": "stdout",
     "output_type": "stream",
     "text": [
      "163/163 [==============================] - 3s 18ms/step - loss: 0.0019 - accuracy: 1.0000\n"
     ]
    }
   ],
   "source": [
    "# train scores\n",
    "train_loss, train_acc = baseline_model.evaluate(train_images, train_labels_final)"
   ]
  },
  {
   "cell_type": "code",
   "execution_count": 38,
   "metadata": {},
   "outputs": [
    {
     "name": "stdout",
     "output_type": "stream",
     "text": [
      "20/20 [==============================] - 0s 18ms/step - loss: 1.6323 - accuracy: 0.7404\n"
     ]
    }
   ],
   "source": [
    "# test scores\n",
    "test_loss, test_acc = baseline_model.evaluate(test_images, test_labels_final)"
   ]
  },
  {
   "cell_type": "markdown",
   "metadata": {},
   "source": [
    "Train accuracy is 1 and test is 74 - this model is super overfit. Trying again by adding some hidden layers. "
   ]
  },
  {
   "cell_type": "code",
   "execution_count": 39,
   "metadata": {},
   "outputs": [],
   "source": [
    "# create the convolutional base\n",
    "# can use any activation that makes sense\n",
    "first_model = models.Sequential()\n",
    "first_model.add(layers.Conv2D(filters=32,\n",
    "                        kernel_size=(3, 3),\n",
    "                        activation='relu',\n",
    "                        input_shape=(64, 64, 3)))\n",
    "\n",
    "first_model.add(layers.MaxPooling2D(pool_size=(2, 2)))\n",
    "first_model.add(layers.Conv2D(64, (3, 3), activation='relu'))\n",
    "\n",
    "first_model.add(layers.Flatten())\n",
    "first_model.add(layers.Dense(1, activation='sigmoid')) # sigmoid class, softmax multiclass"
   ]
  },
  {
   "cell_type": "code",
   "execution_count": 40,
   "metadata": {},
   "outputs": [
    {
     "name": "stdout",
     "output_type": "stream",
     "text": [
      "Model: \"sequential_1\"\n",
      "_________________________________________________________________\n",
      "Layer (type)                 Output Shape              Param #   \n",
      "=================================================================\n",
      "conv2d_1 (Conv2D)            (None, 62, 62, 32)        896       \n",
      "_________________________________________________________________\n",
      "max_pooling2d (MaxPooling2D) (None, 31, 31, 32)        0         \n",
      "_________________________________________________________________\n",
      "conv2d_2 (Conv2D)            (None, 29, 29, 64)        18496     \n",
      "_________________________________________________________________\n",
      "flatten_1 (Flatten)          (None, 53824)             0         \n",
      "_________________________________________________________________\n",
      "dense_1 (Dense)              (None, 1)                 53825     \n",
      "=================================================================\n",
      "Total params: 73,217\n",
      "Trainable params: 73,217\n",
      "Non-trainable params: 0\n",
      "_________________________________________________________________\n"
     ]
    }
   ],
   "source": [
    "first_model.summary()"
   ]
  },
  {
   "cell_type": "code",
   "execution_count": 41,
   "metadata": {},
   "outputs": [],
   "source": [
    "first_model.compile(optimizer='adam', # pick any that make sense\n",
    "              loss='binary_crossentropy', # look at loss functions, can use binary cross entropy once labels are fixed\n",
    "              metrics=['accuracy']) # pick any that make sense"
   ]
  },
  {
   "cell_type": "code",
   "execution_count": 42,
   "metadata": {},
   "outputs": [
    {
     "name": "stdout",
     "output_type": "stream",
     "text": [
      "Epoch 1/25\n",
      "70/70 [==============================] - 12s 177ms/step - loss: 0.3256 - accuracy: 0.8568\n",
      "Epoch 2/25\n",
      "70/70 [==============================] - 13s 184ms/step - loss: 0.1164 - accuracy: 0.9559 - E - E\n",
      "Epoch 3/25\n",
      "70/70 [==============================] - 13s 187ms/step - loss: 0.0983 - accuracy: 0.9645\n",
      "Epoch 4/25\n",
      "70/70 [==============================] - 14s 203ms/step - loss: 0.0864 - accuracy: 0.9680\n",
      "Epoch 5/25\n",
      "70/70 [==============================] - 14s 193ms/step - loss: 0.0818 - accuracy: 0.9699\n",
      "Epoch 6/25\n",
      "70/70 [==============================] - 13s 190ms/step - loss: 0.0707 - accuracy: 0.9734\n",
      "Epoch 7/25\n",
      "70/70 [==============================] - 13s 180ms/step - loss: 0.0595 - accuracy: 0.9766\n",
      "Epoch 8/25\n",
      "70/70 [==============================] - 13s 189ms/step - loss: 0.0563 - accuracy: 0.9801\n",
      "Epoch 9/25\n",
      "70/70 [==============================] - 14s 198ms/step - loss: 0.0522 - accuracy: 0.9816\n",
      "Epoch 10/25\n",
      "70/70 [==============================] - 14s 197ms/step - loss: 0.0417 - accuracy: 0.9835\n",
      "Epoch 11/25\n",
      "70/70 [==============================] - 13s 191ms/step - loss: 0.0354 - accuracy: 0.9866s - loss: 0.035\n",
      "Epoch 12/25\n",
      "70/70 [==============================] - 13s 187ms/step - loss: 0.0376 - accuracy: 0.9868\n",
      "Epoch 13/25\n",
      "70/70 [==============================] - 16s 229ms/step - loss: 0.0395 - accuracy: 0.9849s - loss: 0.0399 - \n",
      "Epoch 14/25\n",
      "70/70 [==============================] - 14s 206ms/step - loss: 0.0216 - accuracy: 0.9929\n",
      "Epoch 15/25\n",
      "70/70 [==============================] - 14s 197ms/step - loss: 0.0253 - accuracy: 0.9904\n",
      "Epoch 16/25\n",
      "70/70 [==============================] - 14s 207ms/step - loss: 0.0292 - accuracy: 0.9885\n",
      "Epoch 17/25\n",
      "70/70 [==============================] - 14s 196ms/step - loss: 0.0181 - accuracy: 0.9946\n",
      "Epoch 18/25\n",
      "70/70 [==============================] - 14s 195ms/step - loss: 0.0148 - accuracy: 0.9952\n",
      "Epoch 19/25\n",
      "70/70 [==============================] - 14s 195ms/step - loss: 0.0102 - accuracy: 0.9975\n",
      "Epoch 20/25\n",
      "70/70 [==============================] - 14s 203ms/step - loss: 0.0086 - accuracy: 0.9981\n",
      "Epoch 21/25\n",
      "70/70 [==============================] - 14s 204ms/step - loss: 0.0064 - accuracy: 0.9988\n",
      "Epoch 22/25\n",
      "70/70 [==============================] - 13s 193ms/step - loss: 0.0036 - accuracy: 0.9996s - loss: 0.0036 - accu\n",
      "Epoch 23/25\n",
      "70/70 [==============================] - 13s 193ms/step - loss: 0.0032 - accuracy: 1.0000\n",
      "Epoch 24/25\n",
      "70/70 [==============================] - 15s 219ms/step - loss: 0.0035 - accuracy: 1.0000\n",
      "Epoch 25/25\n",
      "70/70 [==============================] - 15s 208ms/step - loss: 0.0024 - accuracy: 1.0000\n"
     ]
    }
   ],
   "source": [
    "first_results = first_model.fit(train_images, train_labels_final, \n",
    "          epochs=25, \n",
    "          batch_size=75)"
   ]
  },
  {
   "cell_type": "code",
   "execution_count": 43,
   "metadata": {},
   "outputs": [
    {
     "name": "stdout",
     "output_type": "stream",
     "text": [
      "163/163 [==============================] - 5s 30ms/step - loss: 0.0014 - accuracy: 1.0000\n"
     ]
    }
   ],
   "source": [
    "train_loss, train_acc = first_model.evaluate(train_images, train_labels_final)"
   ]
  },
  {
   "cell_type": "code",
   "execution_count": 44,
   "metadata": {},
   "outputs": [
    {
     "name": "stdout",
     "output_type": "stream",
     "text": [
      "20/20 [==============================] - 1s 26ms/step - loss: 2.1515 - accuracy: 0.7532\n"
     ]
    }
   ],
   "source": [
    "test_loss, test_acc = first_model.evaluate(test_images, test_labels_final)"
   ]
  },
  {
   "cell_type": "markdown",
   "metadata": {},
   "source": [
    "Slightly better test score at 75%, but as train score is still 1, this is still super overfit. Visualizing the accuracy below. "
   ]
  },
  {
   "cell_type": "code",
   "execution_count": 46,
   "metadata": {},
   "outputs": [
    {
     "data": {
      "image/png": "[encoded data removed]",
      "text/plain": [
       "<Figure size 720x360 with 2 Axes>"
      ]
     },
     "metadata": {
      "needs_background": "light"
     },
     "output_type": "display_data"
    }
   ],
   "source": [
    "fig, (ax1, ax2) = plt.subplots(1, 2, figsize=(10, 5))\n",
    "sns.lineplot(x=first_results.epoch, y=train_loss, ax=ax1, label='train_loss')\n",
    "sns.lineplot(x=first_results.epoch, y=train_acc, ax=ax2, label='train_accuracy')\n",
    "\n",
    "sns.lineplot(x=first_results.epoch, y=test_loss, ax=ax1, label='val_loss')\n",
    "sns.lineplot(x=first_results.epoch, y=test_acc, ax=ax2, label='val_accuracy');"
   ]
  },
  {
   "cell_type": "markdown",
   "metadata": {},
   "source": [
    "Making another model by adding more hidden layers:"
   ]
  },
  {
   "cell_type": "code",
   "execution_count": 47,
   "metadata": {},
   "outputs": [],
   "source": [
    "second_model = models.Sequential()\n",
    "second_model.add(layers.Conv2D(filters=32,\n",
    "                        kernel_size=(3, 3),\n",
    "                        activation='relu',\n",
    "                        input_shape=(64, 64, 3)))\n",
    "\n",
    "second_model.add(layers.MaxPooling2D(pool_size=(2, 2)))\n",
    "second_model.add(layers.Conv2D(64, (3, 3), activation='relu'))\n",
    "second_model.add(layers.MaxPooling2D((2, 2)))\n",
    "second_model.add(layers.Conv2D(64, (3, 3), activation='relu'))\n",
    "second_model.add(layers.Flatten())\n",
    "second_model.add(layers.Dense(1, activation='sigmoid'))"
   ]
  },
  {
   "cell_type": "code",
   "execution_count": 48,
   "metadata": {},
   "outputs": [
    {
     "name": "stdout",
     "output_type": "stream",
     "text": [
      "Model: \"sequential_2\"\n",
      "_________________________________________________________________\n",
      "Layer (type)                 Output Shape              Param #   \n",
      "=================================================================\n",
      "conv2d_3 (Conv2D)            (None, 62, 62, 32)        896       \n",
      "_________________________________________________________________\n",
      "max_pooling2d_1 (MaxPooling2 (None, 31, 31, 32)        0         \n",
      "_________________________________________________________________\n",
      "conv2d_4 (Conv2D)            (None, 29, 29, 64)        18496     \n",
      "_________________________________________________________________\n",
      "max_pooling2d_2 (MaxPooling2 (None, 14, 14, 64)        0         \n",
      "_________________________________________________________________\n",
      "conv2d_5 (Conv2D)            (None, 12, 12, 64)        36928     \n",
      "_________________________________________________________________\n",
      "flatten_2 (Flatten)          (None, 9216)              0         \n",
      "_________________________________________________________________\n",
      "dense_2 (Dense)              (None, 1)                 9217      \n",
      "=================================================================\n",
      "Total params: 65,537\n",
      "Trainable params: 65,537\n",
      "Non-trainable params: 0\n",
      "_________________________________________________________________\n"
     ]
    }
   ],
   "source": [
    "second_model.summary()"
   ]
  },
  {
   "cell_type": "code",
   "execution_count": 49,
   "metadata": {},
   "outputs": [],
   "source": [
    "second_model.compile(optimizer='adam', \n",
    "              loss='binary_crossentropy', \n",
    "              metrics=['accuracy'])"
   ]
  },
  {
   "cell_type": "code",
   "execution_count": 50,
   "metadata": {},
   "outputs": [
    {
     "name": "stdout",
     "output_type": "stream",
     "text": [
      "Epoch 1/25\n",
      "70/70 [==============================] - 15s 210ms/step - loss: 0.4273 - accuracy: 0.7993\n",
      "Epoch 2/25\n",
      "70/70 [==============================] - 15s 219ms/step - loss: 0.1749 - accuracy: 0.9293\n",
      "Epoch 3/25\n",
      "70/70 [==============================] - 15s 218ms/step - loss: 0.1405 - accuracy: 0.9492\n",
      "Epoch 4/25\n",
      "70/70 [==============================] - 17s 248ms/step - loss: 0.1022 - accuracy: 0.9617\n",
      "Epoch 5/25\n",
      "70/70 [==============================] - 18s 259ms/step - loss: 0.0942 - accuracy: 0.9628\n",
      "Epoch 6/25\n",
      "70/70 [==============================] - 18s 262ms/step - loss: 0.0964 - accuracy: 0.9647\n",
      "Epoch 7/25\n",
      "70/70 [==============================] - 18s 252ms/step - loss: 0.0828 - accuracy: 0.9697\n",
      "Epoch 8/25\n",
      "70/70 [==============================] - 18s 262ms/step - loss: 0.0714 - accuracy: 0.9747\n",
      "Epoch 9/25\n",
      "70/70 [==============================] - 17s 243ms/step - loss: 0.0637 - accuracy: 0.9783\n",
      "Epoch 10/25\n",
      "70/70 [==============================] - 17s 247ms/step - loss: 0.0638 - accuracy: 0.9776\n",
      "Epoch 11/25\n",
      "70/70 [==============================] - 18s 257ms/step - loss: 0.0579 - accuracy: 0.9789\n",
      "Epoch 12/25\n",
      "70/70 [==============================] - 17s 240ms/step - loss: 0.0528 - accuracy: 0.9806\n",
      "Epoch 13/25\n",
      "70/70 [==============================] - 16s 224ms/step - loss: 0.0482 - accuracy: 0.9818\n",
      "Epoch 14/25\n",
      "70/70 [==============================] - 16s 231ms/step - loss: 0.0471 - accuracy: 0.9827\n",
      "Epoch 15/25\n",
      "70/70 [==============================] - 18s 252ms/step - loss: 0.0397 - accuracy: 0.9852\n",
      "Epoch 16/25\n",
      "70/70 [==============================] - 17s 243ms/step - loss: 0.0417 - accuracy: 0.9849\n",
      "Epoch 17/25\n",
      "70/70 [==============================] - 17s 245ms/step - loss: 0.0369 - accuracy: 0.9864\n",
      "Epoch 18/25\n",
      "70/70 [==============================] - 16s 225ms/step - loss: 0.0321 - accuracy: 0.9887\n",
      "Epoch 19/25\n",
      "70/70 [==============================] - 17s 244ms/step - loss: 0.0330 - accuracy: 0.9870\n",
      "Epoch 20/25\n",
      "70/70 [==============================] - 17s 250ms/step - loss: 0.0286 - accuracy: 0.9879\n",
      "Epoch 21/25\n",
      "70/70 [==============================] - 16s 234ms/step - loss: 0.0309 - accuracy: 0.9883\n",
      "Epoch 22/25\n",
      "70/70 [==============================] - 16s 226ms/step - loss: 0.0240 - accuracy: 0.9910\n",
      "Epoch 23/25\n",
      "70/70 [==============================] - 19s 276ms/step - loss: 0.0195 - accuracy: 0.9933\n",
      "Epoch 24/25\n",
      "70/70 [==============================] - 18s 254ms/step - loss: 0.0181 - accuracy: 0.9941\n",
      "Epoch 25/25\n",
      "70/70 [==============================] - 17s 242ms/step - loss: 0.0149 - accuracy: 0.9948\n"
     ]
    }
   ],
   "source": [
    "second_results = second_model.fit(train_images, train_labels_final, epochs=25, batch_size=75)"
   ]
  },
  {
   "cell_type": "code",
   "execution_count": 51,
   "metadata": {},
   "outputs": [
    {
     "name": "stdout",
     "output_type": "stream",
     "text": [
      "163/163 [==============================] - 6s 36ms/step - loss: 0.0139 - accuracy: 0.9948\n"
     ]
    }
   ],
   "source": [
    "train_loss, train_acc = second_model.evaluate(train_images, train_labels_final)"
   ]
  },
  {
   "cell_type": "code",
   "execution_count": 52,
   "metadata": {},
   "outputs": [
    {
     "name": "stdout",
     "output_type": "stream",
     "text": [
      "20/20 [==============================] - 1s 35ms/step - loss: 2.0196 - accuracy: 0.7452\n"
     ]
    }
   ],
   "source": [
    "test_loss, test_acc = second_model.evaluate(test_images, test_labels_final)"
   ]
  },
  {
   "cell_type": "markdown",
   "metadata": {},
   "source": [
    "About the same, train score came down minutely, test score at 75. Still overfit, try adding regularization:"
   ]
  },
  {
   "cell_type": "code",
   "execution_count": 53,
   "metadata": {},
   "outputs": [],
   "source": [
    "# starting with adding just L2 regularizer\n",
    "third_model = models.Sequential()\n",
    "third_model.add(layers.Conv2D(filters=32,\n",
    "                        kernel_size=(3, 3),\n",
    "                        activation='relu',\n",
    "                        input_shape=(64, 64, 3),\n",
    "                        kernel_regularizer=regularizers.l2(0.01)))\n",
    "\n",
    "third_model.add(layers.MaxPooling2D(pool_size=(2, 2)))\n",
    "third_model.add(layers.Conv2D(64, (3, 3), activation='relu', kernel_regularizer=regularizers.l2(0.01)))\n",
    "third_model.add(layers.MaxPooling2D((2, 2)))\n",
    "third_model.add(layers.Conv2D(64, (3, 3), activation='relu', kernel_regularizer=regularizers.l2(0.01)))\n",
    "third_model.add(layers.Flatten())\n",
    "third_model.add(layers.Dense(1, activation='sigmoid', kernel_regularizer=regularizers.l2(0.01)))"
   ]
  },
  {
   "cell_type": "code",
   "execution_count": 54,
   "metadata": {},
   "outputs": [
    {
     "name": "stdout",
     "output_type": "stream",
     "text": [
      "Model: \"sequential_3\"\n",
      "_________________________________________________________________\n",
      "Layer (type)                 Output Shape              Param #   \n",
      "=================================================================\n",
      "conv2d_6 (Conv2D)            (None, 62, 62, 32)        896       \n",
      "_________________________________________________________________\n",
      "max_pooling2d_3 (MaxPooling2 (None, 31, 31, 32)        0         \n",
      "_________________________________________________________________\n",
      "conv2d_7 (Conv2D)            (None, 29, 29, 64)        18496     \n",
      "_________________________________________________________________\n",
      "max_pooling2d_4 (MaxPooling2 (None, 14, 14, 64)        0         \n",
      "_________________________________________________________________\n",
      "conv2d_8 (Conv2D)            (None, 12, 12, 64)        36928     \n",
      "_________________________________________________________________\n",
      "flatten_3 (Flatten)          (None, 9216)              0         \n",
      "_________________________________________________________________\n",
      "dense_3 (Dense)              (None, 1)                 9217      \n",
      "=================================================================\n",
      "Total params: 65,537\n",
      "Trainable params: 65,537\n",
      "Non-trainable params: 0\n",
      "_________________________________________________________________\n"
     ]
    }
   ],
   "source": [
    "third_model.summary()"
   ]
  },
  {
   "cell_type": "code",
   "execution_count": 55,
   "metadata": {},
   "outputs": [],
   "source": [
    "third_model.compile(optimizer='adam', \n",
    "              loss='binary_crossentropy', \n",
    "              metrics=['accuracy'])"
   ]
  },
  {
   "cell_type": "code",
   "execution_count": 56,
   "metadata": {},
   "outputs": [
    {
     "name": "stdout",
     "output_type": "stream",
     "text": [
      "Epoch 1/25\n",
      "70/70 [==============================] - 14s 206ms/step - loss: 0.9446 - accuracy: 0.7889\n",
      "Epoch 2/25\n",
      "70/70 [==============================] - 14s 202ms/step - loss: 0.3657 - accuracy: 0.9135\n",
      "Epoch 3/25\n",
      "70/70 [==============================] - 15s 218ms/step - loss: 0.2855 - accuracy: 0.9367\n",
      "Epoch 4/25\n",
      "70/70 [==============================] - 16s 232ms/step - loss: 0.2568 - accuracy: 0.9431\n",
      "Epoch 5/25\n",
      "70/70 [==============================] - 19s 278ms/step - loss: 0.2335 - accuracy: 0.9479\n",
      "Epoch 6/25\n",
      "70/70 [==============================] - 19s 278ms/step - loss: 0.2147 - accuracy: 0.9521\n",
      "Epoch 7/25\n",
      "70/70 [==============================] - 19s 277ms/step - loss: 0.2186 - accuracy: 0.9479\n",
      "Epoch 8/25\n",
      "70/70 [==============================] - 18s 256ms/step - loss: 0.2087 - accuracy: 0.9486\n",
      "Epoch 9/25\n",
      "70/70 [==============================] - 18s 263ms/step - loss: 0.1918 - accuracy: 0.9584\n",
      "Epoch 10/25\n",
      "70/70 [==============================] - 18s 263ms/step - loss: 0.1888 - accuracy: 0.9546\n",
      "Epoch 11/25\n",
      "70/70 [==============================] - 16s 235ms/step - loss: 0.1826 - accuracy: 0.9569\n",
      "Epoch 12/25\n",
      "70/70 [==============================] - 18s 261ms/step - loss: 0.1877 - accuracy: 0.9549\n",
      "Epoch 13/25\n",
      "70/70 [==============================] - 20s 288ms/step - loss: 0.1854 - accuracy: 0.9546\n",
      "Epoch 14/25\n",
      "70/70 [==============================] - 17s 249ms/step - loss: 0.1736 - accuracy: 0.9578\n",
      "Epoch 15/25\n",
      "70/70 [==============================] - 17s 237ms/step - loss: 0.1687 - accuracy: 0.9601\n",
      "Epoch 16/25\n",
      "70/70 [==============================] - 16s 234ms/step - loss: 0.1689 - accuracy: 0.9611\n",
      "Epoch 17/25\n",
      "70/70 [==============================] - 16s 227ms/step - loss: 0.1660 - accuracy: 0.9601\n",
      "Epoch 18/25\n",
      "70/70 [==============================] - 15s 213ms/step - loss: 0.1728 - accuracy: 0.9572\n",
      "Epoch 19/25\n",
      "70/70 [==============================] - 15s 214ms/step - loss: 0.1777 - accuracy: 0.9582\n",
      "Epoch 20/25\n",
      "70/70 [==============================] - 15s 216ms/step - loss: 0.1639 - accuracy: 0.9618\n",
      "Epoch 21/25\n",
      "70/70 [==============================] - 17s 242ms/step - loss: 0.1588 - accuracy: 0.9622\n",
      "Epoch 22/25\n",
      "70/70 [==============================] - 17s 236ms/step - loss: 0.1655 - accuracy: 0.9607\n",
      "Epoch 23/25\n",
      "70/70 [==============================] - 15s 220ms/step - loss: 0.1581 - accuracy: 0.9640\n",
      "Epoch 24/25\n",
      "70/70 [==============================] - 15s 219ms/step - loss: 0.1610 - accuracy: 0.9647\n",
      "Epoch 25/25\n",
      "70/70 [==============================] - 17s 245ms/step - loss: 0.1659 - accuracy: 0.9611\n"
     ]
    }
   ],
   "source": [
    "third_results = third_model.fit(train_images, train_labels_final, epochs=25, batch_size=75)"
   ]
  },
  {
   "cell_type": "code",
   "execution_count": 57,
   "metadata": {},
   "outputs": [
    {
     "name": "stdout",
     "output_type": "stream",
     "text": [
      "163/163 [==============================] - 6s 37ms/step - loss: 0.1695 - accuracy: 0.9640\n"
     ]
    }
   ],
   "source": [
    "train_loss, train_acc = third_model.evaluate(train_images, train_labels_final)"
   ]
  },
  {
   "cell_type": "code",
   "execution_count": 58,
   "metadata": {
    "scrolled": true
   },
   "outputs": [
    {
     "name": "stdout",
     "output_type": "stream",
     "text": [
      "20/20 [==============================] - 1s 32ms/step - loss: 0.5952 - accuracy: 0.7997\n"
     ]
    }
   ],
   "source": [
    "test_loss, test_acc = third_model.evaluate(test_images, test_labels_final)"
   ]
  },
  {
   "cell_type": "markdown",
   "metadata": {},
   "source": [
    "This is doing a little better. Train accuracy at 96 and test accuracy at 80. Trying adding dropout regularization. "
   ]
  },
  {
   "cell_type": "code",
   "execution_count": 59,
   "metadata": {},
   "outputs": [],
   "source": [
    "fourth_model = models.Sequential()\n",
    "fourth_model.add(layers.Conv2D(filters=32,\n",
    "                        kernel_size=(3, 3),\n",
    "                        activation='relu',\n",
    "                        input_shape=(64, 64, 3),\n",
    "                        kernel_regularizer=regularizers.l2(0.01)))\n",
    "\n",
    "fourth_model.add(layers.MaxPooling2D(pool_size=(2, 2)))\n",
    "fourth_model.add(layers.Dropout(0.8))\n",
    "fourth_model.add(layers.Conv2D(64, (3, 3), activation='relu', kernel_regularizer=regularizers.l2(0.01)))\n",
    "fourth_model.add(layers.Dropout(0.6))\n",
    "fourth_model.add(layers.MaxPooling2D((2, 2)))\n",
    "fourth_model.add(layers.Dropout(0.4))\n",
    "fourth_model.add(layers.Conv2D(64, (3, 3), activation='relu', kernel_regularizer=regularizers.l2(0.01)))\n",
    "fourth_model.add(layers.Dropout(0.2))\n",
    "fourth_model.add(layers.Flatten())\n",
    "fourth_model.add(layers.Dense(1, activation='sigmoid', kernel_regularizer=regularizers.l2(0.01)))"
   ]
  },
  {
   "cell_type": "code",
   "execution_count": 60,
   "metadata": {},
   "outputs": [
    {
     "name": "stdout",
     "output_type": "stream",
     "text": [
      "Model: \"sequential_4\"\n",
      "_________________________________________________________________\n",
      "Layer (type)                 Output Shape              Param #   \n",
      "=================================================================\n",
      "conv2d_9 (Conv2D)            (None, 62, 62, 32)        896       \n",
      "_________________________________________________________________\n",
      "max_pooling2d_5 (MaxPooling2 (None, 31, 31, 32)        0         \n",
      "_________________________________________________________________\n",
      "dropout (Dropout)            (None, 31, 31, 32)        0         \n",
      "_________________________________________________________________\n",
      "conv2d_10 (Conv2D)           (None, 29, 29, 64)        18496     \n",
      "_________________________________________________________________\n",
      "dropout_1 (Dropout)          (None, 29, 29, 64)        0         \n",
      "_________________________________________________________________\n",
      "max_pooling2d_6 (MaxPooling2 (None, 14, 14, 64)        0         \n",
      "_________________________________________________________________\n",
      "dropout_2 (Dropout)          (None, 14, 14, 64)        0         \n",
      "_________________________________________________________________\n",
      "conv2d_11 (Conv2D)           (None, 12, 12, 64)        36928     \n",
      "_________________________________________________________________\n",
      "dropout_3 (Dropout)          (None, 12, 12, 64)        0         \n",
      "_________________________________________________________________\n",
      "flatten_4 (Flatten)          (None, 9216)              0         \n",
      "_________________________________________________________________\n",
      "dense_4 (Dense)              (None, 1)                 9217      \n",
      "=================================================================\n",
      "Total params: 65,537\n",
      "Trainable params: 65,537\n",
      "Non-trainable params: 0\n",
      "_________________________________________________________________\n"
     ]
    }
   ],
   "source": [
    "fourth_model.summary()"
   ]
  },
  {
   "cell_type": "code",
   "execution_count": 61,
   "metadata": {},
   "outputs": [],
   "source": [
    "fourth_model.compile(optimizer='adam', \n",
    "              loss='binary_crossentropy', \n",
    "              metrics=['accuracy'])"
   ]
  },
  {
   "cell_type": "code",
   "execution_count": 62,
   "metadata": {},
   "outputs": [
    {
     "name": "stdout",
     "output_type": "stream",
     "text": [
      "Epoch 1/25\n",
      "70/70 [==============================] - 24s 338ms/step - loss: 1.3375 - accuracy: 0.7456\n",
      "Epoch 2/25\n",
      "70/70 [==============================] - 23s 332ms/step - loss: 0.7144 - accuracy: 0.8583\n",
      "Epoch 3/25\n",
      "70/70 [==============================] - 25s 357ms/step - loss: 0.5008 - accuracy: 0.8923\n",
      "Epoch 4/25\n",
      "70/70 [==============================] - 25s 357ms/step - loss: 0.3860 - accuracy: 0.9166\n",
      "Epoch 5/25\n",
      "70/70 [==============================] - 25s 356ms/step - loss: 0.3466 - accuracy: 0.9151\n",
      "Epoch 6/25\n",
      "70/70 [==============================] - 24s 349ms/step - loss: 0.3169 - accuracy: 0.9212\n",
      "Epoch 7/25\n",
      "70/70 [==============================] - 25s 357ms/step - loss: 0.3024 - accuracy: 0.9208\n",
      "Epoch 8/25\n",
      "70/70 [==============================] - 25s 359ms/step - loss: 0.2838 - accuracy: 0.9252\n",
      "Epoch 9/25\n",
      "70/70 [==============================] - 25s 353ms/step - loss: 0.2653 - accuracy: 0.9225\n",
      "Epoch 10/25\n",
      "70/70 [==============================] - 25s 363ms/step - loss: 0.2579 - accuracy: 0.9312\n",
      "Epoch 11/25\n",
      "70/70 [==============================] - 25s 359ms/step - loss: 0.2676 - accuracy: 0.9308\n",
      "Epoch 12/25\n",
      "70/70 [==============================] - 25s 361ms/step - loss: 0.2412 - accuracy: 0.9369\n",
      "Epoch 13/25\n",
      "70/70 [==============================] - 25s 361ms/step - loss: 0.2449 - accuracy: 0.9358\n",
      "Epoch 14/25\n",
      "70/70 [==============================] - 25s 362ms/step - loss: 0.2348 - accuracy: 0.9381\n",
      "Epoch 15/25\n",
      "70/70 [==============================] - 25s 361ms/step - loss: 0.2380 - accuracy: 0.9369\n",
      "Epoch 16/25\n",
      "70/70 [==============================] - 25s 360ms/step - loss: 0.2255 - accuracy: 0.9398\n",
      "Epoch 17/25\n",
      "70/70 [==============================] - 1804s 26s/step - loss: 0.2304 - accuracy: 0.9363\n",
      "Epoch 18/25\n",
      "70/70 [==============================] - 24s 347ms/step - loss: 0.2305 - accuracy: 0.9421\n",
      "Epoch 19/25\n",
      "70/70 [==============================] - 26s 372ms/step - loss: 0.2207 - accuracy: 0.9410\n",
      "Epoch 20/25\n",
      "70/70 [==============================] - 25s 359ms/step - loss: 0.2237 - accuracy: 0.9408\n",
      "Epoch 21/25\n",
      "70/70 [==============================] - 25s 364ms/step - loss: 0.2232 - accuracy: 0.9392\n",
      "Epoch 22/25\n",
      "70/70 [==============================] - 25s 359ms/step - loss: 0.2222 - accuracy: 0.9404\n",
      "Epoch 23/25\n",
      "70/70 [==============================] - 25s 353ms/step - loss: 0.2306 - accuracy: 0.9398\n",
      "Epoch 24/25\n",
      "70/70 [==============================] - 24s 348ms/step - loss: 0.2226 - accuracy: 0.9429\n",
      "Epoch 25/25\n",
      "70/70 [==============================] - 24s 344ms/step - loss: 0.2134 - accuracy: 0.9429\n"
     ]
    }
   ],
   "source": [
    "fourth_results = fourth_model.fit(train_images, train_labels_final, epochs=25, batch_size=75)"
   ]
  },
  {
   "cell_type": "code",
   "execution_count": 63,
   "metadata": {},
   "outputs": [
    {
     "name": "stdout",
     "output_type": "stream",
     "text": [
      "163/163 [==============================] - 6s 35ms/step - loss: 0.2632 - accuracy: 0.9195\n"
     ]
    }
   ],
   "source": [
    "train_loss, train_acc = fourth_model.evaluate(train_images, train_labels_final)"
   ]
  },
  {
   "cell_type": "code",
   "execution_count": 64,
   "metadata": {},
   "outputs": [
    {
     "name": "stdout",
     "output_type": "stream",
     "text": [
      "20/20 [==============================] - 1s 34ms/step - loss: 0.6808 - accuracy: 0.7067\n"
     ]
    }
   ],
   "source": [
    "test_loss, test_acc = fourth_model.evaluate(test_images, test_labels_final)"
   ]
  },
  {
   "cell_type": "code",
   "execution_count": 65,
   "metadata": {},
   "outputs": [
    {
     "data": {
      "image/png": "[encoded data removed]",
      "text/plain": [
       "<Figure size 720x360 with 2 Axes>"
      ]
     },
     "metadata": {
      "needs_background": "light"
     },
     "output_type": "display_data"
    }
   ],
   "source": [
    "fig, (ax1, ax2) = plt.subplots(1, 2, figsize=(10, 5))\n",
    "sns.lineplot(x=fourth_results.epoch, y=train_loss, ax=ax1, label='train_loss')\n",
    "sns.lineplot(x=fourth_results.epoch, y=train_acc, ax=ax2, label='train_accuracy')\n",
    "\n",
    "sns.lineplot(x=fourth_results.epoch, y=test_loss, ax=ax1, label='val_loss')\n",
    "sns.lineplot(x=fourth_results.epoch, y=test_acc, ax=ax2, label='val_accuracy');"
   ]
  },
  {
   "cell_type": "markdown",
   "metadata": {},
   "source": [
    "Still overfit. Train accuracy is a little less high at 92, but test score is worse at 71. Let's try changing the activation functions. "
   ]
  },
  {
   "cell_type": "code",
   "execution_count": 66,
   "metadata": {},
   "outputs": [],
   "source": [
    "# tanh\n",
    "# sigmoid\n",
    "# relu\n",
    "# leaky relu\n",
    "# "
   ]
  },
  {
   "cell_type": "code",
   "execution_count": 67,
   "metadata": {},
   "outputs": [],
   "source": [
    "fifth_model = models.Sequential()\n",
    "fifth_model.add(layers.Conv2D(filters=32,\n",
    "                        kernel_size=(3, 3),\n",
    "                        activation='tanh',\n",
    "                        input_shape=(64, 64, 3),\n",
    "                        kernel_regularizer=regularizers.l2(0.01)))\n",
    "\n",
    "fifth_model.add(layers.MaxPooling2D(pool_size=(2, 2)))\n",
    "fifth_model.add(layers.Dropout(0.8))\n",
    "fifth_model.add(layers.Conv2D(64, (3, 3), activation='tanh', kernel_regularizer=regularizers.l2(0.01)))\n",
    "fifth_model.add(layers.Dropout(0.2))\n",
    "fifth_model.add(layers.Flatten())\n",
    "fifth_model.add(layers.Dense(1, activation='sigmoid', kernel_regularizer=regularizers.l2(0.01)))"
   ]
  },
  {
   "cell_type": "code",
   "execution_count": 68,
   "metadata": {},
   "outputs": [
    {
     "name": "stdout",
     "output_type": "stream",
     "text": [
      "Model: \"sequential_5\"\n",
      "_________________________________________________________________\n",
      "Layer (type)                 Output Shape              Param #   \n",
      "=================================================================\n",
      "conv2d_12 (Conv2D)           (None, 62, 62, 32)        896       \n",
      "_________________________________________________________________\n",
      "max_pooling2d_7 (MaxPooling2 (None, 31, 31, 32)        0         \n",
      "_________________________________________________________________\n",
      "dropout_4 (Dropout)          (None, 31, 31, 32)        0         \n",
      "_________________________________________________________________\n",
      "conv2d_13 (Conv2D)           (None, 29, 29, 64)        18496     \n",
      "_________________________________________________________________\n",
      "dropout_5 (Dropout)          (None, 29, 29, 64)        0         \n",
      "_________________________________________________________________\n",
      "flatten_5 (Flatten)          (None, 53824)             0         \n",
      "_________________________________________________________________\n",
      "dense_5 (Dense)              (None, 1)                 53825     \n",
      "=================================================================\n",
      "Total params: 73,217\n",
      "Trainable params: 73,217\n",
      "Non-trainable params: 0\n",
      "_________________________________________________________________\n"
     ]
    }
   ],
   "source": [
    "fifth_model.summary()"
   ]
  },
  {
   "cell_type": "code",
   "execution_count": 69,
   "metadata": {},
   "outputs": [],
   "source": [
    "fifth_model.compile(optimizer='adam', \n",
    "              loss='binary_crossentropy', \n",
    "              metrics=['accuracy'])"
   ]
  },
  {
   "cell_type": "code",
   "execution_count": 70,
   "metadata": {
    "scrolled": false
   },
   "outputs": [
    {
     "name": "stdout",
     "output_type": "stream",
     "text": [
      "Epoch 1/25\n",
      "70/70 [==============================] - 19s 266ms/step - loss: 0.7933 - accuracy: 0.8361\n",
      "Epoch 2/25\n",
      "70/70 [==============================] - 19s 273ms/step - loss: 0.4563 - accuracy: 0.9316\n",
      "Epoch 3/25\n",
      "70/70 [==============================] - 19s 276ms/step - loss: 0.3546 - accuracy: 0.9457\n",
      "Epoch 4/25\n",
      "70/70 [==============================] - 19s 269ms/step - loss: 0.3023 - accuracy: 0.9473\n",
      "Epoch 5/25\n",
      "70/70 [==============================] - 21s 295ms/step - loss: 0.2751 - accuracy: 0.9498\n",
      "Epoch 6/25\n",
      "70/70 [==============================] - 21s 295ms/step - loss: 0.2527 - accuracy: 0.9532\n",
      "Epoch 7/25\n",
      "70/70 [==============================] - 21s 294ms/step - loss: 0.2416 - accuracy: 0.9534\n",
      "Epoch 8/25\n",
      "70/70 [==============================] - 21s 293ms/step - loss: 0.2346 - accuracy: 0.9549\n",
      "Epoch 9/25\n",
      "70/70 [==============================] - 21s 295ms/step - loss: 0.2240 - accuracy: 0.9563\n",
      "Epoch 10/25\n",
      "70/70 [==============================] - 21s 295ms/step - loss: 0.2230 - accuracy: 0.9528\n",
      "Epoch 11/25\n",
      "70/70 [==============================] - 20s 290ms/step - loss: 0.2246 - accuracy: 0.9507\n",
      "Epoch 12/25\n",
      "70/70 [==============================] - 20s 292ms/step - loss: 0.2196 - accuracy: 0.9542\n",
      "Epoch 13/25\n",
      "70/70 [==============================] - 20s 290ms/step - loss: 0.2108 - accuracy: 0.9561\n",
      "Epoch 14/25\n",
      "70/70 [==============================] - 21s 294ms/step - loss: 0.2100 - accuracy: 0.9563\n",
      "Epoch 15/25\n",
      "70/70 [==============================] - 21s 297ms/step - loss: 0.2111 - accuracy: 0.9569\n",
      "Epoch 16/25\n",
      "70/70 [==============================] - 21s 302ms/step - loss: 0.2160 - accuracy: 0.9526\n",
      "Epoch 17/25\n",
      "70/70 [==============================] - 21s 299ms/step - loss: 0.2128 - accuracy: 0.9546\n",
      "Epoch 18/25\n",
      "70/70 [==============================] - 21s 299ms/step - loss: 0.2096 - accuracy: 0.9561\n",
      "Epoch 19/25\n",
      "70/70 [==============================] - 21s 297ms/step - loss: 0.2010 - accuracy: 0.9588\n",
      "Epoch 20/25\n",
      "70/70 [==============================] - 21s 295ms/step - loss: 0.2069 - accuracy: 0.9563\n",
      "Epoch 21/25\n",
      "70/70 [==============================] - 21s 296ms/step - loss: 0.2062 - accuracy: 0.9555\n",
      "Epoch 22/25\n",
      "70/70 [==============================] - 21s 298ms/step - loss: 0.2011 - accuracy: 0.9584\n",
      "Epoch 23/25\n",
      "70/70 [==============================] - 21s 298ms/step - loss: 0.1963 - accuracy: 0.9576\n",
      "Epoch 24/25\n",
      "70/70 [==============================] - 21s 293ms/step - loss: 0.1947 - accuracy: 0.9615\n",
      "Epoch 25/25\n",
      "70/70 [==============================] - 21s 294ms/step - loss: 0.1966 - accuracy: 0.9584\n"
     ]
    }
   ],
   "source": [
    "fifth_results = fifth_model.fit(train_images, train_labels_final, epochs=25, batch_size=75)"
   ]
  },
  {
   "cell_type": "code",
   "execution_count": 71,
   "metadata": {},
   "outputs": [
    {
     "name": "stdout",
     "output_type": "stream",
     "text": [
      "163/163 [==============================] - 5s 30ms/step - loss: 0.1778 - accuracy: 0.9697 0s - loss: 0.1778 - accuracy: 0.\n"
     ]
    }
   ],
   "source": [
    "train_loss, train_acc = fifth_model.evaluate(train_images, train_labels_final)"
   ]
  },
  {
   "cell_type": "code",
   "execution_count": 72,
   "metadata": {},
   "outputs": [
    {
     "name": "stdout",
     "output_type": "stream",
     "text": [
      "20/20 [==============================] - 1s 30ms/step - loss: 0.6901 - accuracy: 0.7516 0s - loss: 0.6979 - accuracy: \n"
     ]
    }
   ],
   "source": [
    "test_loss, test_acc = fifth_model.evaluate(test_images, test_labels_final)"
   ]
  },
  {
   "cell_type": "code",
   "execution_count": 73,
   "metadata": {},
   "outputs": [
    {
     "data": {
      "image/png": "[encoded data removed]",
      "text/plain": [
       "<Figure size 720x360 with 2 Axes>"
      ]
     },
     "metadata": {
      "needs_background": "light"
     },
     "output_type": "display_data"
    }
   ],
   "source": [
    "fig, (ax1, ax2) = plt.subplots(1, 2, figsize=(10, 5))\n",
    "sns.lineplot(x=fifth_results.epoch, y=train_loss, ax=ax1, label='train_loss')\n",
    "sns.lineplot(x=fifth_results.epoch, y=train_acc, ax=ax2, label='train_accuracy')\n",
    "\n",
    "sns.lineplot(x=fifth_results.epoch, y=test_loss, ax=ax1, label='val_loss')\n",
    "sns.lineplot(x=fifth_results.epoch, y=test_acc, ax=ax2, label='val_accuracy');"
   ]
  },
  {
   "cell_type": "markdown",
   "metadata": {},
   "source": [
    "Third model is still better. Does changing the optimizer change anything?"
   ]
  },
  {
   "cell_type": "code",
   "execution_count": 74,
   "metadata": {},
   "outputs": [],
   "source": [
    "fifth_model.compile(optimizer='sgd', \n",
    "              loss='binary_crossentropy', \n",
    "              metrics=['accuracy'])"
   ]
  },
  {
   "cell_type": "code",
   "execution_count": 75,
   "metadata": {},
   "outputs": [
    {
     "name": "stdout",
     "output_type": "stream",
     "text": [
      "Epoch 1/25\n",
      "70/70 [==============================] - 21s 296ms/step - loss: 0.1897 - accuracy: 0.9617\n",
      "Epoch 2/25\n",
      "70/70 [==============================] - 21s 296ms/step - loss: 0.1877 - accuracy: 0.9595\n",
      "Epoch 3/25\n",
      "70/70 [==============================] - 21s 297ms/step - loss: 0.1864 - accuracy: 0.9622\n",
      "Epoch 4/25\n",
      "70/70 [==============================] - 20s 288ms/step - loss: 0.1878 - accuracy: 0.9605\n",
      "Epoch 5/25\n",
      "70/70 [==============================] - 19s 265ms/step - loss: 0.1834 - accuracy: 0.9618\n",
      "Epoch 6/25\n",
      "70/70 [==============================] - 19s 272ms/step - loss: 0.1829 - accuracy: 0.9649\n",
      "Epoch 7/25\n",
      "70/70 [==============================] - 21s 294ms/step - loss: 0.1827 - accuracy: 0.9620\n",
      "Epoch 8/25\n",
      "70/70 [==============================] - 21s 302ms/step - loss: 0.1841 - accuracy: 0.9605\n",
      "Epoch 9/25\n",
      "70/70 [==============================] - 20s 291ms/step - loss: 0.1819 - accuracy: 0.9641\n",
      "Epoch 10/25\n",
      "70/70 [==============================] - 21s 293ms/step - loss: 0.1823 - accuracy: 0.9613\n",
      "Epoch 11/25\n",
      "70/70 [==============================] - 21s 300ms/step - loss: 0.1796 - accuracy: 0.9620\n",
      "Epoch 12/25\n",
      "70/70 [==============================] - 21s 294ms/step - loss: 0.1782 - accuracy: 0.9640\n",
      "Epoch 13/25\n",
      "70/70 [==============================] - 21s 294ms/step - loss: 0.1780 - accuracy: 0.9615\n",
      "Epoch 14/25\n",
      "70/70 [==============================] - 21s 295ms/step - loss: 0.1769 - accuracy: 0.9640\n",
      "Epoch 15/25\n",
      "70/70 [==============================] - 21s 296ms/step - loss: 0.1803 - accuracy: 0.9594\n",
      "Epoch 16/25\n",
      "70/70 [==============================] - 21s 295ms/step - loss: 0.1751 - accuracy: 0.9630\n",
      "Epoch 17/25\n",
      "70/70 [==============================] - 21s 298ms/step - loss: 0.1746 - accuracy: 0.9628\n",
      "Epoch 18/25\n",
      "70/70 [==============================] - 21s 296ms/step - loss: 0.1740 - accuracy: 0.9620\n",
      "Epoch 19/25\n",
      "70/70 [==============================] - 21s 297ms/step - loss: 0.1744 - accuracy: 0.9626\n",
      "Epoch 20/25\n",
      "70/70 [==============================] - 21s 297ms/step - loss: 0.1751 - accuracy: 0.9630\n",
      "Epoch 21/25\n",
      "70/70 [==============================] - 21s 294ms/step - loss: 0.1756 - accuracy: 0.9613\n",
      "Epoch 22/25\n",
      "70/70 [==============================] - 19s 264ms/step - loss: 0.1732 - accuracy: 0.9636\n",
      "Epoch 23/25\n",
      "70/70 [==============================] - 22s 317ms/step - loss: 0.1696 - accuracy: 0.9638\n",
      "Epoch 24/25\n",
      "70/70 [==============================] - 21s 300ms/step - loss: 0.1741 - accuracy: 0.9628\n",
      "Epoch 25/25\n",
      "70/70 [==============================] - 23s 325ms/step - loss: 0.1712 - accuracy: 0.9613\n"
     ]
    }
   ],
   "source": [
    "fifth_results = fifth_model.fit(train_images, train_labels_final, epochs=25, batch_size=75)"
   ]
  },
  {
   "cell_type": "code",
   "execution_count": 76,
   "metadata": {},
   "outputs": [
    {
     "name": "stdout",
     "output_type": "stream",
     "text": [
      "163/163 [==============================] - 5s 33ms/step - loss: 0.1647 - accuracy: 0.9638\n"
     ]
    }
   ],
   "source": [
    "train_loss, train_acc = fifth_model.evaluate(train_images, train_labels_final)"
   ]
  },
  {
   "cell_type": "code",
   "execution_count": 77,
   "metadata": {},
   "outputs": [
    {
     "name": "stdout",
     "output_type": "stream",
     "text": [
      "20/20 [==============================] - 1s 29ms/step - loss: 0.8939 - accuracy: 0.7212\n"
     ]
    }
   ],
   "source": [
    "test_loss, test_acc = fifth_model.evaluate(test_images, test_labels_final)"
   ]
  },
  {
   "cell_type": "markdown",
   "metadata": {},
   "source": [
    "Not any better, trying another optimizer. "
   ]
  },
  {
   "cell_type": "code",
   "execution_count": 78,
   "metadata": {},
   "outputs": [],
   "source": [
    "fifth_model.compile(optimizer='nadam', \n",
    "              loss='binary_crossentropy', \n",
    "              metrics=['accuracy'])"
   ]
  },
  {
   "cell_type": "code",
   "execution_count": 79,
   "metadata": {
    "scrolled": false
   },
   "outputs": [
    {
     "name": "stdout",
     "output_type": "stream",
     "text": [
      "Epoch 1/25\n",
      "70/70 [==============================] - 21s 299ms/step - loss: 0.1975 - accuracy: 0.9544\n",
      "Epoch 2/25\n",
      "70/70 [==============================] - 20s 286ms/step - loss: 0.1972 - accuracy: 0.9526\n",
      "Epoch 3/25\n",
      "70/70 [==============================] - 21s 294ms/step - loss: 0.1949 - accuracy: 0.9538\n",
      "Epoch 4/25\n",
      "70/70 [==============================] - 20s 293ms/step - loss: 0.7276 - accuracy: 0.8865\n",
      "Epoch 5/25\n",
      "70/70 [==============================] - 23s 334ms/step - loss: 0.2508 - accuracy: 0.9500\n",
      "Epoch 6/25\n",
      "70/70 [==============================] - 21s 295ms/step - loss: 0.2208 - accuracy: 0.9551\n",
      "Epoch 7/25\n",
      "70/70 [==============================] - 20s 291ms/step - loss: 0.2048 - accuracy: 0.9597\n",
      "Epoch 8/25\n",
      "70/70 [==============================] - 21s 294ms/step - loss: 0.1974 - accuracy: 0.9588\n",
      "Epoch 9/25\n",
      "70/70 [==============================] - 21s 297ms/step - loss: 0.1842 - accuracy: 0.9586\n",
      "Epoch 10/25\n",
      "70/70 [==============================] - 21s 296ms/step - loss: 0.1819 - accuracy: 0.9609\n",
      "Epoch 11/25\n",
      "70/70 [==============================] - 20s 284ms/step - loss: 0.1887 - accuracy: 0.9582\n",
      "Epoch 12/25\n",
      "70/70 [==============================] - 19s 276ms/step - loss: 0.1792 - accuracy: 0.9580\n",
      "Epoch 13/25\n",
      "70/70 [==============================] - 20s 281ms/step - loss: 0.1767 - accuracy: 0.9607\n",
      "Epoch 14/25\n",
      "70/70 [==============================] - 21s 305ms/step - loss: 0.1777 - accuracy: 0.9595\n",
      "Epoch 15/25\n",
      "70/70 [==============================] - 22s 312ms/step - loss: 0.1727 - accuracy: 0.9638\n",
      "Epoch 16/25\n",
      "70/70 [==============================] - 22s 315ms/step - loss: 0.1836 - accuracy: 0.9565\n",
      "Epoch 17/25\n",
      "70/70 [==============================] - 20s 286ms/step - loss: 0.1779 - accuracy: 0.9582\n",
      "Epoch 18/25\n",
      "70/70 [==============================] - 20s 287ms/step - loss: 0.1734 - accuracy: 0.9624\n",
      "Epoch 19/25\n",
      "70/70 [==============================] - 20s 287ms/step - loss: 0.1800 - accuracy: 0.9555\n",
      "Epoch 20/25\n",
      "70/70 [==============================] - 20s 286ms/step - loss: 0.1766 - accuracy: 0.9588\n",
      "Epoch 21/25\n",
      "70/70 [==============================] - 20s 285ms/step - loss: 0.1819 - accuracy: 0.9578\n",
      "Epoch 22/25\n",
      "70/70 [==============================] - 20s 288ms/step - loss: 0.1738 - accuracy: 0.9615\n",
      "Epoch 23/25\n",
      "70/70 [==============================] - 20s 289ms/step - loss: 0.1776 - accuracy: 0.9588s - loss: 0.1776 - accuracy: 0.95\n",
      "Epoch 24/25\n",
      "70/70 [==============================] - 19s 275ms/step - loss: 0.1773 - accuracy: 0.9586\n",
      "Epoch 25/25\n",
      "70/70 [==============================] - 19s 268ms/step - loss: 0.1777 - accuracy: 0.9588\n"
     ]
    }
   ],
   "source": [
    "fifth_results = fifth_model.fit(train_images, train_labels_final, epochs=25, batch_size=75)"
   ]
  },
  {
   "cell_type": "code",
   "execution_count": 80,
   "metadata": {},
   "outputs": [
    {
     "name": "stdout",
     "output_type": "stream",
     "text": [
      "163/163 [==============================] - 7s 41ms/step - loss: 0.1564 - accuracy: 0.9697\n"
     ]
    }
   ],
   "source": [
    "train_loss, train_acc = fifth_model.evaluate(train_images, train_labels_final)"
   ]
  },
  {
   "cell_type": "code",
   "execution_count": 81,
   "metadata": {},
   "outputs": [
    {
     "name": "stdout",
     "output_type": "stream",
     "text": [
      "20/20 [==============================] - 1s 30ms/step - loss: 0.7658 - accuracy: 0.7404\n"
     ]
    }
   ],
   "source": [
    "test_loss, test_acc = fifth_model.evaluate(test_images, test_labels_final)"
   ]
  },
  {
   "cell_type": "markdown",
   "metadata": {},
   "source": [
    "Train score 97 test 74 - not any better than earlier models. Sticking with adam optimizer. \n",
    "\n",
    "Let's try adding in the learning rate. "
   ]
  },
  {
   "cell_type": "code",
   "execution_count": 82,
   "metadata": {},
   "outputs": [],
   "source": [
    "fifth_model.compile(optimizer=Adam(lr=0.1), \n",
    "              loss='binary_crossentropy', \n",
    "              metrics=['accuracy'])"
   ]
  },
  {
   "cell_type": "code",
   "execution_count": 83,
   "metadata": {
    "scrolled": false
   },
   "outputs": [
    {
     "name": "stdout",
     "output_type": "stream",
     "text": [
      "Epoch 1/25\n",
      "70/70 [==============================] - 23s 326ms/step - loss: 322.9123 - accuracy: 0.6210\n",
      "Epoch 2/25\n",
      "70/70 [==============================] - 21s 305ms/step - loss: 378.5122 - accuracy: 0.6294\n",
      "Epoch 3/25\n",
      "70/70 [==============================] - 21s 306ms/step - loss: 109.6580 - accuracy: 0.6940\n",
      "Epoch 4/25\n",
      "70/70 [==============================] - 20s 283ms/step - loss: 106.2094 - accuracy: 0.6963\n",
      "Epoch 5/25\n",
      "70/70 [==============================] - 20s 289ms/step - loss: 55.5555 - accuracy: 0.7989\n",
      "Epoch 6/25\n",
      "70/70 [==============================] - 22s 315ms/step - loss: 57.8151 - accuracy: 0.8112\n",
      "Epoch 7/25\n",
      "70/70 [==============================] - 22s 308ms/step - loss: 37.6267 - accuracy: 0.8625\n",
      "Epoch 8/25\n",
      "70/70 [==============================] - 20s 286ms/step - loss: 41.3808 - accuracy: 0.8434\n",
      "Epoch 9/25\n",
      "70/70 [==============================] - 21s 293ms/step - loss: 33.6156 - accuracy: 0.8512\n",
      "Epoch 10/25\n",
      "70/70 [==============================] - 19s 267ms/step - loss: 53.0273 - accuracy: 0.8370\n",
      "Epoch 11/25\n",
      "70/70 [==============================] - 18s 252ms/step - loss: 38.7846 - accuracy: 0.8723\n",
      "Epoch 12/25\n",
      "70/70 [==============================] - 20s 279ms/step - loss: 43.9100 - accuracy: 0.8451\n",
      "Epoch 13/25\n",
      "70/70 [==============================] - 21s 295ms/step - loss: 34.1115 - accuracy: 0.8696\n",
      "Epoch 14/25\n",
      "70/70 [==============================] - 20s 288ms/step - loss: 76.7542 - accuracy: 0.8301\n",
      "Epoch 15/25\n",
      "70/70 [==============================] - 20s 287ms/step - loss: 74.6327 - accuracy: 0.8351\n",
      "Epoch 16/25\n",
      "70/70 [==============================] - 20s 285ms/step - loss: 76.4562 - accuracy: 0.8455\n",
      "Epoch 17/25\n",
      "70/70 [==============================] - 20s 284ms/step - loss: 73.7541 - accuracy: 0.8367\n",
      "Epoch 18/25\n",
      "70/70 [==============================] - 20s 287ms/step - loss: 78.2123 - accuracy: 0.8309\n",
      "Epoch 19/25\n",
      "70/70 [==============================] - 20s 280ms/step - loss: 70.3202 - accuracy: 0.8390\n",
      "Epoch 20/25\n",
      "70/70 [==============================] - 20s 285ms/step - loss: 68.4339 - accuracy: 0.8399\n",
      "Epoch 21/25\n",
      "70/70 [==============================] - 20s 281ms/step - loss: 65.1623 - accuracy: 0.8449\n",
      "Epoch 22/25\n",
      "70/70 [==============================] - 20s 282ms/step - loss: 105.7338 - accuracy: 0.8344\n",
      "Epoch 23/25\n",
      "70/70 [==============================] - 19s 271ms/step - loss: 115.8490 - accuracy: 0.8044\n",
      "Epoch 24/25\n",
      "70/70 [==============================] - 19s 274ms/step - loss: 118.7734 - accuracy: 0.8054\n",
      "Epoch 25/25\n",
      "70/70 [==============================] - 20s 283ms/step - loss: 81.4984 - accuracy: 0.8541\n"
     ]
    }
   ],
   "source": [
    "fifth_results = fifth_model.fit(train_images, train_labels_final, epochs=25, batch_size=75)"
   ]
  },
  {
   "cell_type": "code",
   "execution_count": 84,
   "metadata": {},
   "outputs": [
    {
     "name": "stdout",
     "output_type": "stream",
     "text": [
      "163/163 [==============================] - 5s 31ms/step - loss: 51.6778 - accuracy: 0.8972\n"
     ]
    }
   ],
   "source": [
    "train_loss, train_acc = fifth_model.evaluate(train_images, train_labels_final)"
   ]
  },
  {
   "cell_type": "code",
   "execution_count": 85,
   "metadata": {},
   "outputs": [
    {
     "name": "stdout",
     "output_type": "stream",
     "text": [
      "20/20 [==============================] - 1s 29ms/step - loss: 66.9221 - accuracy: 0.7997\n"
     ]
    }
   ],
   "source": [
    "test_loss, test_acc = fifth_model.evaluate(test_images, test_labels_final)"
   ]
  },
  {
   "cell_type": "markdown",
   "metadata": {},
   "source": [
    "Train score at 90 and test score at 80 - this is so far the best performing model.    "
   ]
  }
 ],
 "metadata": {
  "kernelspec": {
   "display_name": "Python (learn-env)",
   "language": "python",
   "name": "learn-env"
  },
  "language_info": {
   "codemirror_mode": {
    "name": "ipython",
    "version": 3
   },
   "file_extension": ".py",
   "mimetype": "text/x-python",
   "name": "python",
   "nbconvert_exporter": "python",
   "pygments_lexer": "ipython3",
   "version": "3.8.5"
  }
 },
 "nbformat": 4,
 "nbformat_minor": 4
}
