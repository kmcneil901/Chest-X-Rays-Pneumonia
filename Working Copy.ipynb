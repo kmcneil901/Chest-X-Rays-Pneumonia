{
 "cells": [
  {
   "cell_type": "markdown",
   "metadata": {},
   "source": [
    "# Chest X-Ray Images (Pneumonia)"
   ]
  },
  {
   "cell_type": "markdown",
   "metadata": {},
   "source": [
    "Data found here: https://www.kaggle.com/datasets/paultimothymooney/chest-xray-pneumonia/\n",
    "\n",
    "There are 3 different sets: test, train, validation. Load in all of them. Start with the imports."
   ]
  },
  {
   "cell_type": "code",
   "execution_count": 1,
   "metadata": {},
   "outputs": [],
   "source": [
    "import os\n",
    "import sys\n",
    "module_path = os.path.abspath(os.path.join(os.pardir, os.pardir))\n",
    "if module_path not in sys.path:\n",
    "    sys.path.append(module_path)\n",
    "    \n",
    "import pandas as pd\n",
    "import numpy as np\n",
    "import seaborn as sns\n",
    "import matplotlib.pyplot as plt\n",
    "import matplotlib.image as mpimg\n",
    "\n",
    "from sklearn.model_selection import train_test_split, cross_val_score\n",
    "from sklearn.datasets import load_digits, load_sample_images\n",
    "from sklearn.preprocessing import OneHotEncoder\n",
    "from sklearn.metrics import accuracy_score, confusion_matrix\n",
    "\n",
    "from keras.preprocessing.image import ImageDataGenerator, img_to_array, array_to_img, load_img\n",
    "from tensorflow.keras import datasets, layers, models, callbacks\n",
    "from sklearn.metrics import ConfusionMatrixDisplay\n",
    "\n",
    "%matplotlib inline\n",
    "%load_ext autoreload\n",
    "%autoreload 2"
   ]
  },
  {
   "cell_type": "code",
   "execution_count": 2,
   "metadata": {},
   "outputs": [],
   "source": [
    "# create directory paths to where the data is saved for each train, test, val\n",
    "train_path = 'Data/chest_xray/train'\n",
    "test_path = 'Data/chest_xray/test'\n",
    "val_path = 'Data/chest_xray/val'"
   ]
  },
  {
   "cell_type": "markdown",
   "metadata": {},
   "source": [
    "Before rescaling it, let's get an idea of the size of the original images. Let's load it in with no parameters set except for batch_size."
   ]
  },
  {
   "cell_type": "code",
   "execution_count": 3,
   "metadata": {},
   "outputs": [
    {
     "name": "stdout",
     "output_type": "stream",
     "text": [
      "Found 5216 images belonging to 2 classes.\n",
      "Found 624 images belonging to 2 classes.\n",
      "Found 16 images belonging to 2 classes.\n"
     ]
    }
   ],
   "source": [
    "original_train = ImageDataGenerator().flow_from_directory(train_path, batch_size=5216)\n",
    "original_test = ImageDataGenerator().flow_from_directory(test_path, batch_size=624)\n",
    "original_val = ImageDataGenerator().flow_from_directory(val_path, batch_size=16)\n",
    "\n",
    "original_train_images, original_train_labels = next(original_train)\n",
    "original_test_images, original_test_labels = next(original_test)\n",
    "original_val_images, original_val_labels = next(original_val)"
   ]
  },
  {
   "cell_type": "markdown",
   "metadata": {},
   "source": [
    "I want to know if each image in the images set are the same size. Let's create a list, loop through each image set, then take the set of it to get the unique entries. "
   ]
  },
  {
   "cell_type": "code",
   "execution_count": 4,
   "metadata": {},
   "outputs": [],
   "source": [
    "# loop through each images in the array and add the size to a list\n",
    "\n",
    "train_sizes = []\n",
    "test_sizes = []\n",
    "val_sizes = []\n",
    "\n",
    "for img in original_train_images:\n",
    "    size = np.array(array_to_img(img).size)\n",
    "    train_sizes.append(size)\n",
    "    \n",
    "for img in original_test_images:\n",
    "    size = np.array(array_to_img(img).size)\n",
    "    test_sizes.append(size)\n",
    "    \n",
    "for img in original_val_images:\n",
    "    size = np.array(array_to_img(img).size)\n",
    "    val_sizes.append(size)"
   ]
  },
  {
   "cell_type": "code",
   "execution_count": 5,
   "metadata": {},
   "outputs": [
    {
     "name": "stdout",
     "output_type": "stream",
     "text": [
      "original train size: [(256, 256)]\n",
      "original test size: [(256, 256)]\n",
      "original val size: [(256, 256)]\n"
     ]
    }
   ],
   "source": [
    "# how many unique sizes are in each list? should be the same for each pic\n",
    "# change the list of np arrays into a list of tuples, then take the \"set\" to get unique values\n",
    "\n",
    "unique_train_sizes = list(set([tuple(size) for size in train_sizes]))\n",
    "unique_test_sizes = list(set([tuple(size) for size in test_sizes]))\n",
    "unique_val_sizes = list(set([tuple(size) for size in val_sizes]))\n",
    "\n",
    "print(f\"original train size: {unique_train_sizes}\")\n",
    "print(f\"original test size: {unique_test_sizes}\")\n",
    "print(f\"original val size: {unique_val_sizes}\")"
   ]
  },
  {
   "cell_type": "markdown",
   "metadata": {},
   "source": [
    "So the original scale of all of the pictures was 256 x 256. \n",
    "\n",
    "Let's rescale to 64x64 and normalize. "
   ]
  },
  {
   "cell_type": "code",
   "execution_count": 6,
   "metadata": {},
   "outputs": [],
   "source": [
    "# notes from david\n",
    "# validation - use at very very end to test it\n",
    "# train on test, test against test, validation = holdout set\n",
    "\n",
    "# to do\n",
    "# check size of original images\n",
    "# change target, use sigmoid\n",
    "# change labels from [0,1] to either 0 or 1 since this is binary not multi class"
   ]
  },
  {
   "cell_type": "code",
   "execution_count": 7,
   "metadata": {},
   "outputs": [
    {
     "name": "stdout",
     "output_type": "stream",
     "text": [
      "train max: 243.0\n",
      "test max: 255.0\n",
      "val max: 255.0\n"
     ]
    }
   ],
   "source": [
    "# look at the max of each image for normalization\n",
    "print(f\"train max: {original_train_images[0].max()}\")\n",
    "print(f\"test max: {original_test_images[0].max()}\")\n",
    "print(f\"val max: {original_val_images[0].max()}\")"
   ]
  },
  {
   "cell_type": "code",
   "execution_count": 8,
   "metadata": {
    "scrolled": true
   },
   "outputs": [
    {
     "name": "stdout",
     "output_type": "stream",
     "text": [
      "Found 5216 images belonging to 2 classes.\n",
      "Found 624 images belonging to 2 classes.\n",
      "Found 16 images belonging to 2 classes.\n"
     ]
    }
   ],
   "source": [
    "# load in data\n",
    "# normalize with rescale = 1.0/255\n",
    "# resize each image to be 64x64\n",
    "\n",
    "train_generator = ImageDataGenerator(rescale=1.0/255).flow_from_directory(\n",
    "        train_path, \n",
    "        target_size=(64, 64), batch_size=5216) # look up how it impacts results on doc string\n",
    "\n",
    "test_generator = ImageDataGenerator(rescale=1.0/255).flow_from_directory(\n",
    "        test_path, \n",
    "        target_size=(64, 64), batch_size=624)\n",
    "\n",
    "val_generator = ImageDataGenerator(rescale=1.0/255).flow_from_directory(\n",
    "        val_path, \n",
    "        target_size=(64, 64), batch_size=16)\n",
    "\n",
    "# Create the datasets\n",
    "train_images, train_labels = next(train_generator)\n",
    "test_images, test_labels = next(test_generator)\n",
    "val_images, val_labels = next(val_generator)"
   ]
  },
  {
   "cell_type": "markdown",
   "metadata": {},
   "source": [
    "Check the size and a few images to make sure they loaded correctly. "
   ]
  },
  {
   "cell_type": "code",
   "execution_count": 9,
   "metadata": {},
   "outputs": [
    {
     "data": {
      "text/plain": [
       "(64, 64)"
      ]
     },
     "execution_count": 9,
     "metadata": {},
     "output_type": "execute_result"
    }
   ],
   "source": [
    "array_to_img(train_images[791]).size"
   ]
  },
  {
   "cell_type": "code",
   "execution_count": 10,
   "metadata": {},
   "outputs": [
    {
     "data": {
      "image/png": "[encoded data removed]",
      "text/plain": [
       "<PIL.Image.Image image mode=RGB size=64x64 at 0x220B03700A0>"
      ]
     },
     "execution_count": 10,
     "metadata": {},
     "output_type": "execute_result"
    }
   ],
   "source": [
    "array_to_img(train_images[791])"
   ]
  },
  {
   "cell_type": "code",
   "execution_count": 11,
   "metadata": {},
   "outputs": [
    {
     "data": {
      "image/png": "[encoded data removed]",
      "text/plain": [
       "<PIL.Image.Image image mode=RGB size=64x64 at 0x220B0370160>"
      ]
     },
     "execution_count": 11,
     "metadata": {},
     "output_type": "execute_result"
    }
   ],
   "source": [
    "# check out some images to make sure they loaded properly\n",
    "array_to_img(train_images[0])"
   ]
  },
  {
   "cell_type": "code",
   "execution_count": 12,
   "metadata": {},
   "outputs": [
    {
     "data": {
      "image/png": "[encoded data removed]",
      "text/plain": [
       "<PIL.Image.Image image mode=RGB size=64x64 at 0x220B033B7C0>"
      ]
     },
     "execution_count": 12,
     "metadata": {},
     "output_type": "execute_result"
    }
   ],
   "source": [
    "array_to_img(test_images[0])"
   ]
  },
  {
   "cell_type": "code",
   "execution_count": 13,
   "metadata": {},
   "outputs": [
    {
     "data": {
      "image/png": "[encoded data removed]",
      "text/plain": [
       "<PIL.Image.Image image mode=RGB size=64x64 at 0x220B0370310>"
      ]
     },
     "execution_count": 13,
     "metadata": {},
     "output_type": "execute_result"
    }
   ],
   "source": [
    "array_to_img(val_images[0])"
   ]
  },
  {
   "cell_type": "code",
   "execution_count": 14,
   "metadata": {},
   "outputs": [
    {
     "name": "stdout",
     "output_type": "stream",
     "text": [
      "train images: (5216, 64, 64, 3)\n",
      "train labels: (5216, 2)\n",
      "test images: (624, 64, 64, 3)\n",
      "test labels: (624, 2)\n",
      "val images: (16, 64, 64, 3)\n",
      "val labels: (16, 2)\n"
     ]
    }
   ],
   "source": [
    "# look at the shapes\n",
    "print(f\"train images: {train_images.shape}\")\n",
    "print(f\"train labels: {train_labels.shape}\")\n",
    "print(f\"test images: {test_images.shape}\")\n",
    "print(f\"test labels: {test_labels.shape}\")\n",
    "print(f\"val images: {val_images.shape}\")\n",
    "print(f\"val labels: {val_labels.shape}\")"
   ]
  },
  {
   "cell_type": "markdown",
   "metadata": {},
   "source": [
    "The labels each have shape (x, 2) implying it's multiclass. This is a binary classification (it's either pneumonia or normal) so we need to change the shape to be (x, 1). So change output from [0,1] or [1,0] to be either 0 or 1."
   ]
  },
  {
   "cell_type": "code",
   "execution_count": 15,
   "metadata": {},
   "outputs": [
    {
     "data": {
      "text/plain": [
       "{'NORMAL': 0, 'PNEUMONIA': 1}"
      ]
     },
     "execution_count": 15,
     "metadata": {},
     "output_type": "execute_result"
    }
   ],
   "source": [
    "# look at what each data set is classifying as normal vs pneumonia\n",
    "train_generator.class_indices"
   ]
  },
  {
   "cell_type": "code",
   "execution_count": 16,
   "metadata": {},
   "outputs": [
    {
     "data": {
      "text/plain": [
       "{'NORMAL': 0, 'PNEUMONIA': 1}"
      ]
     },
     "execution_count": 16,
     "metadata": {},
     "output_type": "execute_result"
    }
   ],
   "source": [
    "test_generator.class_indices"
   ]
  },
  {
   "cell_type": "code",
   "execution_count": 17,
   "metadata": {},
   "outputs": [
    {
     "data": {
      "text/plain": [
       "{'NORMAL': 0, 'PNEUMONIA': 1}"
      ]
     },
     "execution_count": 17,
     "metadata": {},
     "output_type": "execute_result"
    }
   ],
   "source": [
    "val_generator.class_indices"
   ]
  },
  {
   "cell_type": "markdown",
   "metadata": {},
   "source": [
    "Change the labels from multi to binary"
   ]
  },
  {
   "cell_type": "code",
   "execution_count": 62,
   "metadata": {},
   "outputs": [
    {
     "name": "stdout",
     "output_type": "stream",
     "text": [
      "train labels updated shape: (5216,)\n",
      "test labels updated shape: (624,)\n",
      "val labels updated shape: (16,)\n"
     ]
    }
   ],
   "source": [
    "train_labels_final = train_labels.T[0]\n",
    "test_labels_final = test_labels.T[0]\n",
    "val_labels_final = val_labels.T[0]\n",
    "\n",
    "print(f\"train labels updated shape: {train_labels_final.shape}\")\n",
    "print(f\"test labels updated shape: {test_labels_final.shape}\")\n",
    "print(f\"val labels updated shape: {val_labels_final.shape}\")"
   ]
  },
  {
   "cell_type": "code",
   "execution_count": 63,
   "metadata": {},
   "outputs": [
    {
     "name": "stdout",
     "output_type": "stream",
     "text": [
      "original train labels shape: (5216, 2)\n",
      "updated train labels shape: (5216,)\n"
     ]
    }
   ],
   "source": [
    "print(f\"original train labels shape: {train_labels.shape}\")\n",
    "print(f\"updated train labels shape: {train_labels_final.shape}\")"
   ]
  },
  {
   "cell_type": "markdown",
   "metadata": {},
   "source": [
    "Check it out"
   ]
  },
  {
   "cell_type": "code",
   "execution_count": 64,
   "metadata": {},
   "outputs": [
    {
     "data": {
      "image/png": "[encoded data removed]",
      "text/plain": [
       "<PIL.Image.Image image mode=RGB size=64x64 at 0x220A5361790>"
      ]
     },
     "execution_count": 64,
     "metadata": {},
     "output_type": "execute_result"
    }
   ],
   "source": [
    "array_to_img(train_images[0])"
   ]
  },
  {
   "cell_type": "code",
   "execution_count": 66,
   "metadata": {},
   "outputs": [
    {
     "data": {
      "text/plain": [
       "1.0"
      ]
     },
     "execution_count": 66,
     "metadata": {},
     "output_type": "execute_result"
    }
   ],
   "source": [
    "# normal\n",
    "train_labels_final[0]"
   ]
  },
  {
   "cell_type": "code",
   "execution_count": 67,
   "metadata": {},
   "outputs": [
    {
     "data": {
      "image/png": "[encoded data removed]",
      "text/plain": [
       "<PIL.Image.Image image mode=RGB size=64x64 at 0x220A5361CD0>"
      ]
     },
     "execution_count": 67,
     "metadata": {},
     "output_type": "execute_result"
    }
   ],
   "source": [
    "array_to_img(train_images[767])"
   ]
  },
  {
   "cell_type": "code",
   "execution_count": 68,
   "metadata": {},
   "outputs": [
    {
     "data": {
      "text/plain": [
       "0.0"
      ]
     },
     "execution_count": 68,
     "metadata": {},
     "output_type": "execute_result"
    }
   ],
   "source": [
    "# pneumonia\n",
    "train_labels_final[767]"
   ]
  },
  {
   "cell_type": "markdown",
   "metadata": {},
   "source": [
    "Visually inspecting, this looks accurate. The first image is clearer than the second image, which lines up with the normal/pneumonia classification. "
   ]
  },
  {
   "cell_type": "markdown",
   "metadata": {},
   "source": [
    "First model: "
   ]
  },
  {
   "cell_type": "code",
   "execution_count": 75,
   "metadata": {},
   "outputs": [],
   "source": [
    "# create the convolutional base\n",
    "# can use any activation that makes sense\n",
    "\n",
    "model = models.Sequential()\n",
    "model.add(layers.Conv2D(filters=32,\n",
    "                        kernel_size=(3, 3),\n",
    "                        activation='relu',\n",
    "                        input_shape=(64, 64, 3)))\n",
    "\n",
    "model.add(layers.MaxPooling2D(pool_size=(2, 2)))\n",
    "model.add(layers.Conv2D(64, (3, 3), activation='relu'))\n",
    "\n",
    "model.add(layers.Flatten())\n",
    "model.add(layers.Dense(1, activation='sigmoid')) # sigmoid class, softmax multiclass"
   ]
  },
  {
   "cell_type": "code",
   "execution_count": 76,
   "metadata": {},
   "outputs": [
    {
     "name": "stdout",
     "output_type": "stream",
     "text": [
      "Model: \"sequential_4\"\n",
      "_________________________________________________________________\n",
      "Layer (type)                 Output Shape              Param #   \n",
      "=================================================================\n",
      "conv2d_8 (Conv2D)            (None, 62, 62, 32)        896       \n",
      "_________________________________________________________________\n",
      "max_pooling2d_4 (MaxPooling2 (None, 31, 31, 32)        0         \n",
      "_________________________________________________________________\n",
      "conv2d_9 (Conv2D)            (None, 29, 29, 64)        18496     \n",
      "_________________________________________________________________\n",
      "flatten_4 (Flatten)          (None, 53824)             0         \n",
      "_________________________________________________________________\n",
      "dense_4 (Dense)              (None, 1)                 53825     \n",
      "=================================================================\n",
      "Total params: 73,217\n",
      "Trainable params: 73,217\n",
      "Non-trainable params: 0\n",
      "_________________________________________________________________\n"
     ]
    }
   ],
   "source": [
    "model.summary()"
   ]
  },
  {
   "cell_type": "code",
   "execution_count": 77,
   "metadata": {},
   "outputs": [],
   "source": [
    "model.compile(optimizer='adam', # pick any that make sense\n",
    "              loss='binary_crossentropy', # look at loss functions, can use binary cross entropy once labels are fixed\n",
    "              metrics=['accuracy']) # pick any that make sense"
   ]
  },
  {
   "cell_type": "code",
   "execution_count": 78,
   "metadata": {},
   "outputs": [
    {
     "data": {
      "text/plain": [
       "(5216, 64, 64, 3)"
      ]
     },
     "execution_count": 78,
     "metadata": {},
     "output_type": "execute_result"
    }
   ],
   "source": [
    "train_images.shape"
   ]
  },
  {
   "cell_type": "code",
   "execution_count": 79,
   "metadata": {},
   "outputs": [
    {
     "data": {
      "text/plain": [
       "(5216,)"
      ]
     },
     "execution_count": 79,
     "metadata": {},
     "output_type": "execute_result"
    }
   ],
   "source": [
    "train_labels_final.shape"
   ]
  },
  {
   "cell_type": "code",
   "execution_count": 80,
   "metadata": {},
   "outputs": [
    {
     "name": "stdout",
     "output_type": "stream",
     "text": [
      "Epoch 1/25\n",
      "70/70 [==============================] - 6s 90ms/step - loss: 0.3553 - accuracy: 0.8405\n",
      "Epoch 2/25\n",
      "70/70 [==============================] - 7s 96ms/step - loss: 0.1135 - accuracy: 0.9571\n",
      "Epoch 3/25\n",
      "70/70 [==============================] - 10s 142ms/step - loss: 0.0982 - accuracy: 0.9636\n",
      "Epoch 4/25\n",
      "70/70 [==============================] - 12s 179ms/step - loss: 0.0834 - accuracy: 0.9688\n",
      "Epoch 5/25\n",
      "70/70 [==============================] - 15s 218ms/step - loss: 0.0776 - accuracy: 0.9726\n",
      "Epoch 6/25\n",
      "70/70 [==============================] - 18s 253ms/step - loss: 0.0636 - accuracy: 0.9764\n",
      "Epoch 7/25\n",
      "70/70 [==============================] - 16s 226ms/step - loss: 0.0592 - accuracy: 0.9783\n",
      "Epoch 8/25\n",
      "70/70 [==============================] - 16s 228ms/step - loss: 0.0485 - accuracy: 0.9812\n",
      "Epoch 9/25\n",
      "70/70 [==============================] - 16s 226ms/step - loss: 0.0565 - accuracy: 0.9789\n",
      "Epoch 10/25\n",
      "70/70 [==============================] - 16s 235ms/step - loss: 0.0357 - accuracy: 0.9873\n",
      "Epoch 11/25\n",
      "70/70 [==============================] - 16s 226ms/step - loss: 0.0348 - accuracy: 0.9885\n",
      "Epoch 12/25\n",
      "70/70 [==============================] - 16s 221ms/step - loss: 0.0317 - accuracy: 0.9870\n",
      "Epoch 13/25\n",
      "70/70 [==============================] - 15s 220ms/step - loss: 0.0307 - accuracy: 0.9891\n",
      "Epoch 14/25\n",
      "70/70 [==============================] - 16s 225ms/step - loss: 0.0239 - accuracy: 0.9912\n",
      "Epoch 15/25\n",
      "70/70 [==============================] - 16s 228ms/step - loss: 0.0215 - accuracy: 0.9925\n",
      "Epoch 16/25\n",
      "70/70 [==============================] - 17s 241ms/step - loss: 0.0231 - accuracy: 0.9925\n",
      "Epoch 17/25\n",
      "70/70 [==============================] - 14s 197ms/step - loss: 0.0126 - accuracy: 0.9960\n",
      "Epoch 18/25\n",
      "70/70 [==============================] - 14s 199ms/step - loss: 0.0093 - accuracy: 0.9981\n",
      "Epoch 19/25\n",
      "70/70 [==============================] - 15s 212ms/step - loss: 0.0078 - accuracy: 0.9985\n",
      "Epoch 20/25\n",
      "70/70 [==============================] - 14s 197ms/step - loss: 0.0071 - accuracy: 0.9988\n",
      "Epoch 21/25\n",
      "70/70 [==============================] - 13s 179ms/step - loss: 0.0063 - accuracy: 0.9988\n",
      "Epoch 22/25\n",
      "70/70 [==============================] - 14s 206ms/step - loss: 0.0040 - accuracy: 0.9996\n",
      "Epoch 23/25\n",
      "70/70 [==============================] - 12s 174ms/step - loss: 0.0028 - accuracy: 1.0000\n",
      "Epoch 24/25\n",
      "70/70 [==============================] - 13s 188ms/step - loss: 0.0026 - accuracy: 1.0000\n",
      "Epoch 25/25\n",
      "70/70 [==============================] - 16s 225ms/step - loss: 0.0019 - accuracy: 1.0000\n"
     ]
    }
   ],
   "source": [
    "results = model.fit(train_images, train_labels_final, \n",
    "          epochs=25, \n",
    "          batch_size=75)"
   ]
  },
  {
   "cell_type": "code",
   "execution_count": 86,
   "metadata": {},
   "outputs": [
    {
     "name": "stdout",
     "output_type": "stream",
     "text": [
      "163/163 [==============================] - 2s 13ms/step - loss: 0.0014 - accuracy: 1.0000\n"
     ]
    }
   ],
   "source": [
    "train_loss, train_acc = model.evaluate(train_images, train_labels_final)"
   ]
  },
  {
   "cell_type": "code",
   "execution_count": 87,
   "metadata": {},
   "outputs": [
    {
     "name": "stdout",
     "output_type": "stream",
     "text": [
      "20/20 [==============================] - 0s 12ms/step - loss: 2.2437 - accuracy: 0.7516\n"
     ]
    }
   ],
   "source": [
    "test_loss, test_acc = model.evaluate(test_images, test_labels_final)"
   ]
  },
  {
   "cell_type": "markdown",
   "metadata": {},
   "source": [
    "Yep, super overfit."
   ]
  },
  {
   "cell_type": "code",
   "execution_count": 88,
   "metadata": {},
   "outputs": [
    {
     "data": {
      "image/png": "[encoded data removed]",
      "text/plain": [
       "<Figure size 720x360 with 2 Axes>"
      ]
     },
     "metadata": {
      "needs_background": "light"
     },
     "output_type": "display_data"
    }
   ],
   "source": [
    "fig, (ax1, ax2) = plt.subplots(1, 2, figsize=(10, 5))\n",
    "sns.lineplot(x=results.epoch, y=train_loss, ax=ax1, label='train_loss')\n",
    "sns.lineplot(x=results.epoch, y=train_acc, ax=ax2, label='train_accuracy')\n",
    "\n",
    "sns.lineplot(x=results.epoch, y=test_loss, ax=ax1, label='val_loss')\n",
    "sns.lineplot(x=results.epoch, y=test_acc, ax=ax2, label='val_accuracy');"
   ]
  },
  {
   "cell_type": "code",
   "execution_count": null,
   "metadata": {},
   "outputs": [],
   "source": []
  }
 ],
 "metadata": {
  "kernelspec": {
   "display_name": "Python (learn-env)",
   "language": "python",
   "name": "learn-env"
  },
  "language_info": {
   "codemirror_mode": {
    "name": "ipython",
    "version": 3
   },
   "file_extension": ".py",
   "mimetype": "text/x-python",
   "name": "python",
   "nbconvert_exporter": "python",
   "pygments_lexer": "ipython3",
   "version": "3.8.5"
  }
 },
 "nbformat": 4,
 "nbformat_minor": 4
}
